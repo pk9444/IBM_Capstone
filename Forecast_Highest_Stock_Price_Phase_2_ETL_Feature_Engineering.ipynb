{
 "cells": [
  {
   "cell_type": "markdown",
   "id": "11f67ab0-ebb1-4b61-b23d-80e5925fdd08",
   "metadata": {},
   "source": [
    "# IBM Advanced Data Science Capstone: Forecasting Stock Prices"
   ]
  },
  {
   "cell_type": "markdown",
   "id": "6d7184e8-8699-49c5-81f9-73bd3ce1ffce",
   "metadata": {},
   "source": [
    "## Extract-Transform-Load (ETL) "
   ]
  },
  {
   "cell_type": "markdown",
   "id": "5695c8f0-5c18-4072-9769-037d1560a162",
   "metadata": {},
   "source": [
    "### Feature Engineering"
   ]
  },
  {
   "cell_type": "markdown",
   "id": "c47048e6-c5b8-4b11-a1a6-abf6c70ae38c",
   "metadata": {},
   "source": [
    "-  We have already exraced the Year and Month from the `Date` during the data cleaning step. This will help us capture the sesonal aspects and get time-based aggregations at granular time-steps. \n",
    "- Created a new calculated feature `Daily_Return` of a RIC on a given day which will be defined as `Daily_Return = (Price_Open) - (Price_Close)`. As per the EDA recommendations we are creating this additional feature to avoid any potential multicollinearity due to opening and closing stock prices. \n",
    "- Apply the neccessary aggregations on the numerical features for stock prices and volume based on the categorical features.  \n",
    "- Index the string datatype feature(s) into numerical values so that they are compatible if we are to use in the feature set for the Machine Learning/Deep Learning models.\n",
    "- Create feature vectors from the raw features and analyze their importances to the highest stock price. We will use the Random Forest Regression Model from PySpark's ML libary.\n",
    "- At this stage, we are only analzying the feature importances and not building the model. We will use insights from the Random Forest to evaluate the features and put them together with the correlations we got from the Multivariate Analysis. \n",
    "- After hyperparameter tuning in the next phase, we might revisit this phase to find ways to improve the model performance using the findings of feature engineering.  "
   ]
  },
  {
   "cell_type": "code",
   "execution_count": 1,
   "id": "6ea119a2-d3b1-42ee-bf02-17341cb4c032",
   "metadata": {},
   "outputs": [
    {
     "data": {
      "text/html": [
       "<style>pre { white-space: pre !important; }</style>"
      ],
      "text/plain": [
       "<IPython.core.display.HTML object>"
      ]
     },
     "metadata": {},
     "output_type": "display_data"
    }
   ],
   "source": [
    "# find and init the spark instance to ensure it is pip installed\n",
    "import findspark\n",
    "findspark.init()\n",
    "\n",
    "# set some HTML display setting \n",
    "from IPython.core.display import HTML\n",
    "display(HTML(\"<style>pre { white-space: pre !important; }</style>\"))\n",
    "\n",
    "# import all the pyspark dependencies \n",
    "from pyspark import SparkContext, SparkConf\n",
    "from pyspark.sql import SQLContext, SparkSession\n",
    "from pyspark.sql.types import StructType, StructField, DoubleType, IntegerType, StringType, DateType\n",
    "from pyspark.sql.functions import *\n",
    "import pyspark.sql.functions as F\n",
    "\n",
    "from pyspark.ml.feature import StringIndexer, VectorAssembler\n",
    "from pyspark.ml import Pipeline\n",
    "from pyspark.ml.regression import RandomForestRegressor\n",
    "\n",
    "# declare a spark object that we will run our spark SQL dataframes on \n",
    "sc = SparkContext.getOrCreate(SparkConf().setMaster(\"local[*]\"))\n",
    "\n",
    "# init a spark session \n",
    "from pyspark.sql import SparkSession\n",
    "spark = SparkSession \\\n",
    "    .builder \\\n",
    "    .getOrCreate()\n",
    "\n",
    "# import basic data analysis libraries  \n",
    "import numpy as np\n",
    "import pandas as pd\n",
    "import scipy.stats as stats\n",
    "\n",
    "# ignore warnings\n",
    "import warnings\n",
    "warnings.filterwarnings('ignore')\n",
    "\n",
    "# import libraries for data visualization\n",
    "import matplotlib.pyplot as plt\n",
    "import seaborn as sns\n",
    "\n",
    "sns.set_style(\"darkgrid\")"
   ]
  },
  {
   "cell_type": "markdown",
   "id": "6467b2cb-9f22-4d45-8189-821a139792f1",
   "metadata": {},
   "source": [
    "### Import the cleansed data files into spark dataframes"
   ]
  },
  {
   "cell_type": "code",
   "execution_count": 2,
   "id": "848dfc50-5230-43d3-856b-dfe0ee305ebc",
   "metadata": {},
   "outputs": [
    {
     "name": "stdout",
     "output_type": "stream",
     "text": [
      "+----------+----------+----------+-----------+----------+------+----+-----+\n",
      "|Instrument|      Date|Price_High|Price_Close|Price_Open|Volume|Year|Month|\n",
      "+----------+----------+----------+-----------+----------+------+----+-----+\n",
      "|   123F.DE|2021-11-05|11.7559152| 11.6562888|11.7559152|   104|2021|   11|\n",
      "|   123F.DE|2021-11-12| 11.457036| 11.2577832| 11.457036|   650|2021|   11|\n",
      "|   123F.DE|2021-11-24|11.6562888| 11.1581568|11.6562888|  2184|2021|   11|\n",
      "|   123F.DE|2021-11-29|11.7559152| 11.5566624|11.5566624|  4880|2021|   11|\n",
      "|   123F.DE|2021-11-16|11.0585304|  10.958904|11.0585304|   946|2021|   11|\n",
      "+----------+----------+----------+-----------+----------+------+----+-----+\n",
      "only showing top 5 rows\n",
      "\n"
     ]
    }
   ],
   "source": [
    "data_stocks_cleaned = spark.read.csv('kaggle_stock_data_cleansed.csv', header=True)\n",
    "data_stocks_cleaned.show(5)"
   ]
  },
  {
   "cell_type": "code",
   "execution_count": 3,
   "id": "b87f2456-349e-494e-9cd1-6c3c0915c2d9",
   "metadata": {},
   "outputs": [
    {
     "name": "stdout",
     "output_type": "stream",
     "text": [
      "+----------+--------------------+-------------------------+-------------------------+------------------------+--------------------+--------------------+-------------------------+-------------------------+------------------------+------------------+------------------+\n",
      "|Instrument| Company_Common_Name|TRBC_Economic_Sector_Name|TRBC_Business_Sector_Name|TRBC_Industry_Group_Name|  TRBC_Industry_Name|  TRBC_Activity_Name|TRBC_Economic_Sector_Code|TRBC_Business_Sector_Code|TRBC_Industry_Group_Code|TRBC_Industry_Code|TRBC_Activity_Code|\n",
      "+----------+--------------------+-------------------------+-------------------------+------------------------+--------------------+--------------------+-------------------------+-------------------------+------------------------+------------------+------------------+\n",
      "|   SPEXN.S|           Spexis AG|               Healthcare|     Pharmaceuticals &...|         Pharmaceuticals|     Pharmaceuticals|  Biopharmaceuticals|                       56|                     5620|                  562010|          56201040|        5620104012|\n",
      "|   IXXG.DE|init innovation i...|               Technology|     Software & IT Ser...|    Software & IT Ser...|            Software| Enterprise Software|                       57|                     5720|                  572010|          57201020|        5720102013|\n",
      "|    ZUGN.S|Zug Estates Holdi...|              Real Estate|              Real Estate|    Real Estate Opera...|Real Estate Renta...|Real Estate Renta...|                       60|                     6010|                  601010|          60101010|        6010101010|\n",
      "|   MRCG.DE|          Merck KGaA|               Healthcare|     Pharmaceuticals &...|         Pharmaceuticals|     Pharmaceuticals|Proprietary & Adv...|                       56|                     5620|                  562010|          56201040|        5620104011|\n",
      "|  AAQ1k.DE|   Aap Implantate AG|               Healthcare|     Healthcare Servic...|    Healthcare Equipm...|Medical Equipment...|Medical Equipment...|                       56|                     5610|                  561010|          56101020|        5610102010|\n",
      "+----------+--------------------+-------------------------+-------------------------+------------------------+--------------------+--------------------+-------------------------+-------------------------+------------------------+------------------+------------------+\n",
      "only showing top 5 rows\n",
      "\n"
     ]
    }
   ],
   "source": [
    "data_sectors_cleaned = spark.read.csv('kaggle_stock_sector_information_cleansed.csv', header=True)\n",
    "data_sectors_cleaned.show(5)"
   ]
  },
  {
   "cell_type": "markdown",
   "id": "02515445-4d40-4a64-a1cc-ab253260b21a",
   "metadata": {},
   "source": [
    "### Create a new feature Daily_Return as the difference of opening and closing daily stock prices respectively"
   ]
  },
  {
   "cell_type": "code",
   "execution_count": 4,
   "id": "1ff2400b-ce12-493e-83da-1e74de33d52b",
   "metadata": {},
   "outputs": [
    {
     "name": "stdout",
     "output_type": "stream",
     "text": [
      "+----------+----------+----------+-----------+----------+------+----+-----+------------+\n",
      "|Instrument|      Date|Price_High|Price_Close|Price_Open|Volume|Year|Month|Daily_Return|\n",
      "+----------+----------+----------+-----------+----------+------+----+-----+------------+\n",
      "|   123F.DE|2021-11-05|11.7559152| 11.6562888|11.7559152|   104|2021|   11|         0.1|\n",
      "|   123F.DE|2021-11-12| 11.457036| 11.2577832| 11.457036|   650|2021|   11|       0.199|\n",
      "|   123F.DE|2021-11-24|11.6562888| 11.1581568|11.6562888|  2184|2021|   11|       0.498|\n",
      "|   123F.DE|2021-11-29|11.7559152| 11.5566624|11.5566624|  4880|2021|   11|         0.0|\n",
      "|   123F.DE|2021-11-16|11.0585304|  10.958904|11.0585304|   946|2021|   11|         0.1|\n",
      "+----------+----------+----------+-----------+----------+------+----+-----+------------+\n",
      "only showing top 5 rows\n",
      "\n"
     ]
    }
   ],
   "source": [
    "data_stocks_cleaned = data_stocks_cleaned.withColumn('Daily_Return', round(col('Price_Open') - col('Price_Close'),3))\n",
    "data_stocks_cleaned.show(5)"
   ]
  },
  {
   "cell_type": "markdown",
   "id": "b6cdadb9-60d5-44f3-81fc-584067156c73",
   "metadata": {},
   "source": [
    "### Aggregate over the categorical features and transform the numerical features "
   ]
  },
  {
   "cell_type": "code",
   "execution_count": 5,
   "id": "15c98398-3bd4-4a2a-9f80-12fae0bd0e4d",
   "metadata": {},
   "outputs": [
    {
     "name": "stdout",
     "output_type": "stream",
     "text": [
      "+----------+----+-----+--------------+--------------+---------------+----------------+----------------+------------+\n",
      "|Instrument|Year|Month|Avg_Price_High|Avg_Price_Open|Avg_Price_Close|Avg_Daily_Return|Avg_Daily_Volume|Total_Volume|\n",
      "+----------+----+-----+--------------+--------------+---------------+----------------+----------------+------------+\n",
      "|   123F.DE|2021|   11|         11.56|         11.47|           11.4|            0.07|          1761.0|     33459.0|\n",
      "|   123F.DE|2021|   12|         11.96|         11.85|          11.81|            0.04|         4547.45|     90949.0|\n",
      "|   123F.DE|2022|    1|         12.69|         12.51|          12.55|           -0.04|         1465.39|     26377.0|\n",
      "|   123F.DE|2022|   10|          6.77|          6.69|           6.67|            0.02|         1103.64|     15451.0|\n",
      "|   123F.DE|2022|   11|          6.42|           6.4|           6.25|            0.14|         2003.89|     18035.0|\n",
      "|   123F.DE|2022|   12|          5.96|          5.81|           5.88|           -0.06|         2228.94|     37892.0|\n",
      "|   123F.DE|2022|    2|         12.38|         12.31|          12.25|            0.06|         1255.31|     20085.0|\n",
      "|   123F.DE|2022|    3|         11.13|         11.06|           11.0|            0.06|          1465.4|     29308.0|\n",
      "|   123F.DE|2022|    4|         10.61|         10.51|          10.52|             0.0|           508.5|      7119.0|\n",
      "|   123F.DE|2022|    5|         12.07|         11.86|           11.9|           -0.04|         1608.74|     30566.0|\n",
      "+----------+----+-----+--------------+--------------+---------------+----------------+----------------+------------+\n",
      "only showing top 10 rows\n",
      "\n"
     ]
    }
   ],
   "source": [
    "data_stocks_cleaned = data_stocks_cleaned.filter((data_stocks_cleaned.Year >= 2019) & (data_stocks_cleaned.Year <= 2023))\n",
    "data_stocks_agg = data_stocks_cleaned.groupBy(\"Instrument\",\"Year\",\"Month\").agg(\n",
    "    round(avg(col(\"Price_High\")), 2).alias(\"Avg_Price_High\"),\n",
    "    round(avg(col(\"Price_Open\")), 2).alias(\"Avg_Price_Open\"),\n",
    "    round(avg(col(\"Price_Close\")), 2).alias(\"Avg_Price_Close\"),\n",
    "    round(avg(col(\"Daily_Return\")), 2).alias(\"Avg_Daily_Return\"),\n",
    "    round(avg(col(\"Volume\")), 2).alias(\"Avg_Daily_Volume\"),\n",
    "    round(sum(col(\"Volume\")), 2).alias(\"Total_Volume\")\n",
    ").sort([\"Instrument\",\"Year\",\"Month\"],ascending=[True, True, True])\n",
    "data_stocks_agg.show(10)"
   ]
  },
  {
   "cell_type": "markdown",
   "id": "bda27258-624a-40e3-b350-445c8842b5e5",
   "metadata": {},
   "source": [
    "### Feature Creation \n",
    "\n",
    "1. Use the String Index to encode the categorical feature `Instrument` into a numerical representation.\n",
    "2. Define a feature set and create a feature vector from that using the Vector Assembler.  \n",
    "3. Split the dataset into 80% of training data and 20% test data from vectorized dataframe. \n",
    "4. Define a Random Forest Regression Model with general hyperparameters and fit it on the 80% training data. \n",
    "5. Extract and Visualize the feature importance for a given target feature. Repeat 4 and 5 for all target features. "
   ]
  },
  {
   "cell_type": "markdown",
   "id": "66ca7aab-575b-4aa8-90de-23bb6c79c0f9",
   "metadata": {},
   "source": [
    "#### Step-1: Use StringIndexer() to encode the 'Instrument' name"
   ]
  },
  {
   "cell_type": "code",
   "execution_count": 6,
   "id": "bb990415-b48b-49c7-9807-20762bbb278e",
   "metadata": {},
   "outputs": [
    {
     "name": "stdout",
     "output_type": "stream",
     "text": [
      "+----------+----+-----+--------------+--------------+---------------+----------------+----------------+------------+------------------+\n",
      "|Instrument|Year|Month|Avg_Price_High|Avg_Price_Open|Avg_Price_Close|Avg_Daily_Return|Avg_Daily_Volume|Total_Volume|Instrument_Encoded|\n",
      "+----------+----+-----+--------------+--------------+---------------+----------------+----------------+------------+------------------+\n",
      "|   123F.DE|2021|   11|         11.56|         11.47|           11.4|            0.07|          1761.0|     33459.0|             382.0|\n",
      "|   123F.DE|2021|   12|         11.96|         11.85|          11.81|            0.04|         4547.45|     90949.0|             382.0|\n",
      "|   123F.DE|2022|    1|         12.69|         12.51|          12.55|           -0.04|         1465.39|     26377.0|             382.0|\n",
      "|   123F.DE|2022|   10|          6.77|          6.69|           6.67|            0.02|         1103.64|     15451.0|             382.0|\n",
      "|   123F.DE|2022|   11|          6.42|           6.4|           6.25|            0.14|         2003.89|     18035.0|             382.0|\n",
      "+----------+----+-----+--------------+--------------+---------------+----------------+----------------+------------+------------------+\n",
      "only showing top 5 rows\n",
      "\n"
     ]
    }
   ],
   "source": [
    "# create a stringIndexer() object and pass the features to be encoded \n",
    "indexer = StringIndexer(inputCol=\"Instrument\", outputCol=\"Instrument_Encoded\")\n",
    "data_stocks_agg_idx = indexer.fit(data_stocks_agg).transform(data_stocks_agg)\n",
    "data_stocks_agg_idx.show(5) "
   ]
  },
  {
   "cell_type": "markdown",
   "id": "afce9766-2977-4088-bbcb-a4b582e3cc04",
   "metadata": {},
   "source": [
    "#### Step-2: Define a feature set and create a feature vector"
   ]
  },
  {
   "cell_type": "code",
   "execution_count": 7,
   "id": "6c930464-664d-44d8-8d87-931fa0226fe5",
   "metadata": {},
   "outputs": [
    {
     "name": "stdout",
     "output_type": "stream",
     "text": [
      "+----------+----+-----+--------------+--------------+---------------+----------------+----------------+------------+------------------+--------------------+\n",
      "|Instrument|Year|Month|Avg_Price_High|Avg_Price_Open|Avg_Price_Close|Avg_Daily_Return|Avg_Daily_Volume|Total_Volume|Instrument_Encoded|            features|\n",
      "+----------+----+-----+--------------+--------------+---------------+----------------+----------------+------------+------------------+--------------------+\n",
      "|   123F.DE|2021|   11|         11.56|         11.47|           11.4|            0.07|          1761.0|     33459.0|             382.0|[11.47,11.4,1761....|\n",
      "|   123F.DE|2021|   12|         11.96|         11.85|          11.81|            0.04|         4547.45|     90949.0|             382.0|[11.85,11.81,4547...|\n",
      "|   123F.DE|2022|    1|         12.69|         12.51|          12.55|           -0.04|         1465.39|     26377.0|             382.0|[12.51,12.55,1465...|\n",
      "|   123F.DE|2022|   10|          6.77|          6.69|           6.67|            0.02|         1103.64|     15451.0|             382.0|[6.69,6.67,1103.6...|\n",
      "|   123F.DE|2022|   11|          6.42|           6.4|           6.25|            0.14|         2003.89|     18035.0|             382.0|[6.4,6.25,2003.89...|\n",
      "+----------+----+-----+--------------+--------------+---------------+----------------+----------------+------------+------------------+--------------------+\n",
      "only showing top 5 rows\n",
      "\n"
     ]
    }
   ],
   "source": [
    "# test all possible numerical features in the feature set that can be used to predict the highest stock price \n",
    "feature_set = [\"Avg_Price_Open\", \"Avg_Price_Close\",\"Avg_Daily_Volume\", \"Avg_Daily_Return\", \"Total_Volume\"]\n",
    "\n",
    "# create a VectorAssembler() object to vectorize the feature set into one column \n",
    "assembler = VectorAssembler(inputCols=feature_set, outputCol=\"features\")\n",
    "\n",
    "# transform the indexed dataframe and aggregated dataframe \n",
    "data_stocks_agg_assembled = assembler.transform(data_stocks_agg_idx)\n",
    "data_stocks_agg_assembled.show(5)"
   ]
  },
  {
   "cell_type": "markdown",
   "id": "8053000f-c067-412f-bece-0b335a8545f8",
   "metadata": {},
   "source": [
    "#### Step-3: Split the data into training and testing sets"
   ]
  },
  {
   "cell_type": "code",
   "execution_count": 10,
   "id": "f38dc829-a613-4624-b2a2-53282e30836d",
   "metadata": {},
   "outputs": [],
   "source": [
    "# training data -> from Jan 2019 to Sept 2022 and the test will be from Sept 2022 to Oct 2023\n",
    "# we are using an uncovential train-test split as it is a time-series data and we need to consider the sequential aspects   \n",
    "# (train_data, test_data) = data_stocks_agg_assembled.randomSplit([0.8, 0.2], seed=42)\n",
    "\n",
    "train_data = data_stocks_agg_assembled.filter(\n",
    "    (col(\"Year\") < 2022) |\n",
    "    ((col(\"Year\") == 2022) & (col(\"Month\") <= 9))\n",
    ")\n",
    "\n",
    "train_data = train_data.sort(['Instrument_Encoded','Year','Month'], ascending=[True, True, True])\n",
    "\n",
    "test_data = data_stocks_agg_assembled.filter(\n",
    "    ((col(\"Year\") == 2022) & (col(\"Month\") >= 9)) |\n",
    "    ((col(\"Year\") == 2023) & (col(\"Month\") <= 9))\n",
    ")\n",
    "test_data = test_data.sort(['Instrument_Encoded','Year','Month'], ascending=[True, True, True])"
   ]
  },
  {
   "cell_type": "markdown",
   "id": "0d43bc6c-3314-4910-9e14-00cdd3f9529f",
   "metadata": {},
   "source": [
    "**Note:** *In this phase, we are not building the model but only calculating feature importances based on the training data. So, we will not be predicting the stock price on the test or the validation data yet. This will be done in the next phase.*"
   ]
  },
  {
   "cell_type": "markdown",
   "id": "5f0fae00-1932-4a3f-9f96-8c985f64b406",
   "metadata": {},
   "source": [
    "#### Step-4: Define a Random Forest Regressor and fit it on the training data "
   ]
  },
  {
   "cell_type": "code",
   "execution_count": 11,
   "id": "763ca547-8a19-44e0-8134-150a4fa7ad91",
   "metadata": {},
   "outputs": [
    {
     "name": "stdout",
     "output_type": "stream",
     "text": [
      "RF model fit compiled ...\n"
     ]
    }
   ],
   "source": [
    "# define the random forest regressor object - calculate the feature importances against the target Average Highest Price \n",
    "rf = RandomForestRegressor(featuresCol=\"features\", labelCol=\"Avg_Price_High\", numTrees=100)\n",
    "\n",
    "# fit it on the 80% training data \n",
    "model = rf.fit(train_data)\n",
    "print(\"RF model fit compiled ...\")"
   ]
  },
  {
   "cell_type": "markdown",
   "id": "9d7ddd29-2d16-4701-b0fb-881f2003ad8e",
   "metadata": {},
   "source": [
    "#### Step-5: Extract and Visualize The Feature Importances "
   ]
  },
  {
   "cell_type": "code",
   "execution_count": 12,
   "id": "55317db8-51e8-4a02-a581-dd195b3c721f",
   "metadata": {},
   "outputs": [
    {
     "name": "stdout",
     "output_type": "stream",
     "text": [
      "Feature Importances For Highest Price: \n",
      "\n",
      "Avg_Price_Open: 0.4409175187775789\n",
      "Avg_Price_Close: 0.4446822947426917\n",
      "Avg_Daily_Volume: 0.028642526478884336\n",
      "Avg_Daily_Return: 0.06285003212305144\n",
      "Total_Volume: 0.02290762787779367\n"
     ]
    }
   ],
   "source": [
    "# init an empty dictionary to store the feature importances for Avg closing price\n",
    "_dict_price_high = {}\n",
    "# get the feature importances for the avg close price\n",
    "feature_importances = model.featureImportances\n",
    "\n",
    "print(\"Feature Importances For Highest Price: \\n\")\n",
    "for i, col in enumerate(feature_set):\n",
    "    print(f\"{col}: {feature_importances[i]}\")\n",
    "    _dict_price_high[col] = model.featureImportances[i] # add the feature importance to dict"
   ]
  },
  {
   "cell_type": "code",
   "execution_count": 13,
   "id": "7ed59a6c-f6b9-4197-85d0-378c05915ff4",
   "metadata": {},
   "outputs": [
    {
     "name": "stdout",
     "output_type": "stream",
     "text": [
      "Function plot_bar() compiled ... \n"
     ]
    }
   ],
   "source": [
    "'''\n",
    "plot_bar() : a function to plot a matplotlib bar chat based on the params \n",
    "@params : title - set the title of the plot, data - the dictionary holding the feature importance values \n",
    "'''\n",
    "def plot_bar(title, data):\n",
    "    \n",
    "    # Sort the data in descending order of importance\n",
    "    sorted_data = dict(sorted(data.items(), key=lambda x: x[1], reverse=True))\n",
    "    \n",
    "    # Extract feature names and importance values\n",
    "    features = list(sorted_data.keys())\n",
    "    importance_values = list(sorted_data.values())\n",
    "    \n",
    "    # Create a bar chart using Matplotlib\n",
    "    plt.figure(figsize=(10, 6))\n",
    "    bars = plt.bar(features, importance_values)\n",
    "    plt.xlabel('Feature Importance')\n",
    "    plt.ylabel('Feature')\n",
    "    plt.title(title)\n",
    "    plt.xticks(rotation = 45)\n",
    "      # Invert the y-axis to show the most important features at the top\n",
    "    plt.show()\n",
    "\n",
    "print(\"Function plot_bar() compiled ... \")"
   ]
  },
  {
   "cell_type": "code",
   "execution_count": 14,
   "id": "67ed863c-8a83-4260-b420-5fb7cc728151",
   "metadata": {},
   "outputs": [
    {
     "data": {
      "image/png": "[encoded data removed]",
      "text/plain": [
       "<Figure size 1000x600 with 1 Axes>"
      ]
     },
     "metadata": {},
     "output_type": "display_data"
    }
   ],
   "source": [
    "plot_bar('Feature Importances for Average Daily Highest Price', _dict_price_high)"
   ]
  },
  {
   "cell_type": "markdown",
   "id": "2d33bce9-5543-4dbe-b339-3bb638e78978",
   "metadata": {},
   "source": [
    "#### Observations: "
   ]
  },
  {
   "cell_type": "markdown",
   "id": "fe09e392-aaea-4564-8a86-8b31877485b1",
   "metadata": {},
   "source": [
    "- The `Avg_Price_Close` and the `Avg_Opening_Price` represent the highest feature importances to the target `Avg_Price_High`.\n",
    "- It means the daily closing and opening stock prices are strong indicators of market sentiment and the potential price movement towards its peak during a given day.\n",
    "- The `Total_Volume` and `Avg_Daily_Return` have a comparatively lower importance to the target `Avg_Price_High`. "
   ]
  },
  {
   "cell_type": "markdown",
   "id": "7862b87a-41d4-4038-b7e8-ec9f1adefb5f",
   "metadata": {},
   "source": [
    "### Findings: \n",
    "\n",
    "- Putting together the insights we got from the Multivariate Analysis in EDA, we can conclude the Opening and Closing daily stock prices are the strongest indicators of the highest stock price.\n",
    "- Not only they have a strong correlation, but also very high feature importance of 44% percentage each. It means put together, they impact 88% of the prediction for highest stock price.\n",
    "- The additional feature we created does not have a strong feature importance to the highest stock price. But we can include it in the feature set as it is created from the two strongest impactful features. We can always get back retune the parameters based on the performance.\n",
    "- The daily trading volume has a very low correlation to the highest stock price. As per the Multivariate Analysis, it did not have a strong correlation either. So, it may not be prudent to include it in the feature or else it could skew the predictions. "
   ]
  },
  {
   "cell_type": "markdown",
   "id": "6c2dda49-96ff-4bf4-bc86-0266d4133159",
   "metadata": {},
   "source": [
    "### Recommendations "
   ]
  },
  {
   "cell_type": "markdown",
   "id": "2da07ea0-5146-4621-8ba4-0d05f613ca7f",
   "metadata": {},
   "source": [
    "Based on the findings, we can create the feature set in two ways:\n",
    "- `Avg_Price_High` : `{Avg_Price_Open, Avg_Price_Close}`\n",
    "- `Avg_Price_High` : `{Avg_Price_Open, Avg_Price_Close, Avg_Daily_Return}`\n",
    "- First, we will use the most importance features Opening and Closing prices. We will train, test and predict using the two features in our model configuration.\n",
    "- Then, we will add the daily return as well to the feature set. Then, we compare the model performances in both scenario. We will use the Regression Testing metrics like RMSE, MAE and MAPE to compare them. We will analyze whether the performance improves or not and report it back here. \n",
    "- * Iteration results - the feature set `{Avg_Price_Open, Avg_Price_Close}` gives the better result. So, we will use this in the data product. \n",
    "- Whichever feature gives the better results, we will use it in our final deployment.\n"
   ]
  },
  {
   "cell_type": "markdown",
   "id": "c3d736e1-8465-495e-9046-1550ba593acf",
   "metadata": {},
   "source": [
    "### Join the Transformed Stocks Data with the Sector Information Data on the RIC "
   ]
  },
  {
   "cell_type": "code",
   "execution_count": 15,
   "id": "bf30a9ce-4941-420b-a811-85aac6181cdf",
   "metadata": {},
   "outputs": [
    {
     "name": "stdout",
     "output_type": "stream",
     "text": [
      "+----------+----+-----+--------------+--------------+---------------+----------------+----------------+------------+----------+--------------------+-------------------------+-------------------------+------------------------+--------------------+--------------------+-------------------------+-------------------------+------------------------+------------------+------------------+\n",
      "|Instrument|Year|Month|Avg_Price_High|Avg_Price_Open|Avg_Price_Close|Avg_Daily_Return|Avg_Daily_Volume|Total_Volume|Instrument| Company_Common_Name|TRBC_Economic_Sector_Name|TRBC_Business_Sector_Name|TRBC_Industry_Group_Name|  TRBC_Industry_Name|  TRBC_Activity_Name|TRBC_Economic_Sector_Code|TRBC_Business_Sector_Code|TRBC_Industry_Group_Code|TRBC_Industry_Code|TRBC_Activity_Code|\n",
      "+----------+----+-----+--------------+--------------+---------------+----------------+----------------+------------+----------+--------------------+-------------------------+-------------------------+------------------------+--------------------+--------------------+-------------------------+-------------------------+------------------------+------------------+------------------+\n",
      "|   75Sn.DE|2022|   12|          3.95|          3.92|           3.92|           -0.01|         1784.43|     24982.0|   75Sn.DE|              Sdm SE|              Industrials|     Industrial & Comm...|    Professional & Co...|Business Support ...|   Security Services|                       52|                     5220|                  522030|          52203040|        5220304014|\n",
      "|    88D.MU|2021|    9|         21.02|         21.02|          20.14|            0.89|          295.67|       887.0|    88D.MU|      WR Wohnraum AG|              Real Estate|              Real Estate|    Real Estate Opera...|Real Estate Renta...|Real Estate Renta...|                       60|                     6010|                  601010|          60101010|        6010101010|\n",
      "|    A62.DE|2021|   12|          2.13|          2.12|           2.11|            0.01|         1755.05|     35101.0|    A62.DE|     IGP Advantag AG|               Financials|     Banking & Investm...|    Investment Bankin...|Investment Bankin...|  Brokerage Services|                       55|                     5510|                  551020|          55102010|        5510201012|\n",
      "|   ABXG.DE|2021|    7|          16.6|         16.09|           16.0|            0.09|         14906.5|    327943.0|   ABXG.DE|Advanced Blockcha...|               Technology|     Software & IT Ser...|    Software & IT Ser...|IT Services & Con...|IT Services & Con...|                       57|                     5720|                  572010|          57201010|        5720101010|\n",
      "|    ACLN.S|2023|    5|         23.07|         22.87|          22.84|            0.03|        200635.1|   4012702.0|    ACLN.S|Accelleron Indust...|              Industrials|         Industrial Goods|    Machinery, Tools,...|Industrial Machin...|Industrial Machin...|                       52|                     5210|                  521020|          52102010|        5210201010|\n",
      "+----------+----+-----+--------------+--------------+---------------+----------------+----------------+------------+----------+--------------------+-------------------------+-------------------------+------------------------+--------------------+--------------------+-------------------------+-------------------------+------------------------+------------------+------------------+\n",
      "only showing top 5 rows\n",
      "\n"
     ]
    }
   ],
   "source": [
    "# Create temporary views on the dataframes to be used as SQL tables \n",
    "# We will save the aggregated dataframe and apply the Regression transformations again in Model Training and Hyperparamter tuning \n",
    "\n",
    "data_stocks_agg.createOrReplaceTempView(\"STOCKS\")\n",
    "data_sectors_cleaned.createOrReplaceTempView(\"SECTORS\")\n",
    "\n",
    "# Perform an INNER join based on the RIC and merge the sector information \n",
    "data_stocks_transformed = spark.sql(\"select * from STOCKS st JOIN SECTORS se ON st.Instrument == se.Instrument\") \n",
    "data_stocks_transformed.show(5)"
   ]
  },
  {
   "cell_type": "markdown",
   "id": "b522aa6a-5e39-44f2-9b15-f99161bb9334",
   "metadata": {},
   "source": [
    "### Save the transformed dataframe to file "
   ]
  },
  {
   "cell_type": "code",
   "execution_count": 16,
   "id": "19c262e6-69bf-49e2-91fb-f3b3ba451dbe",
   "metadata": {},
   "outputs": [],
   "source": [
    "data_stocks_transformed.toPandas().to_csv('kaggle_stock_data_transformed.csv', header=True, index=False, mode='w')"
   ]
  },
  {
   "cell_type": "code",
   "execution_count": null,
   "id": "65567a6d-94e5-418f-b268-983a54999ba2",
   "metadata": {},
   "outputs": [],
   "source": []
  }
 ],
 "metadata": {
  "kernelspec": {
   "display_name": "Python 3 (ipykernel)",
   "language": "python",
   "name": "python3"
  },
  "language_info": {
   "codemirror_mode": {
    "name": "ipython",
    "version": 3
   },
   "file_extension": ".py",
   "mimetype": "text/x-python",
   "name": "python",
   "nbconvert_exporter": "python",
   "pygments_lexer": "ipython3",
   "version": "3.10.0"
  }
 },
 "nbformat": 4,
 "nbformat_minor": 5
}
