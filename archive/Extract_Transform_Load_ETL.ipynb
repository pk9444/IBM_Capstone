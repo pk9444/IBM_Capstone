{
 "cells": [
  {
   "cell_type": "markdown",
   "id": "5b6cd82b-a9ea-4465-b104-cab5efbc0308",
   "metadata": {},
   "source": [
    "# IBM Advanced Data Science Capstone: Forecasting Stock Prices"
   ]
  },
  {
   "cell_type": "markdown",
   "id": "9935bd31-718c-431d-b960-f989efda42e6",
   "metadata": {},
   "source": [
    "## Extract-Transform-Load (ETL) "
   ]
  },
  {
   "cell_type": "markdown",
   "id": "8882a8ad-eb68-4a8e-844d-3813c81d61d7",
   "metadata": {},
   "source": [
    "### 1. Data Cleansing\n",
    " - Ensure that both the data files - main stocks dataset and the referential sectors dataset are in the same directory for feasible access. \n",
    " - Ensure that the any indexed or unnamed columns from the CSV file are duly dropped or not read into the spark dataframes. This add constraints in checking for data duplication and makes the dataset more noisy.\n",
    " - Ensure that the NULL values are correctly imputed for the stock prices and volumes. Based on the univariate analysis, there are a lot of outliers in the stocks dataset. So, we will impute NULL records with the median taking into account the underlying outlier sensitivity of the numerical features.\n",
    " - Ensure that all the features in the datasets are of the correct datatype.\n",
    " - Ensure to rename the column names of the features removing whitespaces, so that we can efficiently run SQL queries on the spark dataframes."
   ]
  },
  {
   "cell_type": "code",
   "execution_count": 92,
   "id": "444f029d-4a76-4015-8315-7e933e1ed1c2",
   "metadata": {},
   "outputs": [
    {
     "data": {
      "text/html": [
       "<style>pre { white-space: pre !important; }</style>"
      ],
      "text/plain": [
       "<IPython.core.display.HTML object>"
      ]
     },
     "metadata": {},
     "output_type": "display_data"
    }
   ],
   "source": [
    "# find and init the spark instance to ensure it is pip installed\n",
    "import findspark\n",
    "findspark.init()\n",
    "\n",
    "# set some HTML display setting \n",
    "from IPython.core.display import HTML\n",
    "display(HTML(\"<style>pre { white-space: pre !important; }</style>\"))\n",
    "\n",
    "# import all the pyspark dependencies \n",
    "from pyspark import SparkContext, SparkConf\n",
    "from pyspark.sql import SQLContext, SparkSession\n",
    "from pyspark.sql.types import StructType, StructField, DoubleType, IntegerType, StringType, DateType\n",
    "from pyspark.sql.functions import *\n",
    "import pyspark.sql.functions as F\n",
    "\n",
    "from pyspark.ml.feature import StringIndexer, VectorAssembler\n",
    "from pyspark.ml import Pipeline\n",
    "from pyspark.ml.regression import RandomForestRegressor\n",
    "\n",
    "# declare a spark object that we will run our spark SQL dataframes on \n",
    "sc = SparkContext.getOrCreate(SparkConf().setMaster(\"local[*]\"))\n",
    "\n",
    "# init a spark session \n",
    "from pyspark.sql import SparkSession\n",
    "spark = SparkSession \\\n",
    "    .builder \\\n",
    "    .getOrCreate()\n",
    "\n",
    "# import basic data analysis libraries  \n",
    "import numpy as np\n",
    "import pandas as pd\n",
    "import scipy.stats as stats\n",
    "\n",
    "# ignore warnings\n",
    "import warnings\n",
    "warnings.filterwarnings('ignore')\n",
    "\n",
    "# import libraries for data visualization\n",
    "import matplotlib.pyplot as plt\n",
    "import seaborn as sns\n",
    "\n",
    "sns.set_style(\"darkgrid\")"
   ]
  },
  {
   "cell_type": "code",
   "execution_count": 93,
   "id": "0177ee39-3692-4702-9d0b-160f1267bd2a",
   "metadata": {},
   "outputs": [
    {
     "name": "stdout",
     "output_type": "stream",
     "text": [
      "+----------+--------------------+----------+-----------+----------+-------+\n",
      "|Instrument|                Date|Price High|Price Close|Price Open| Volume|\n",
      "+----------+--------------------+----------+-----------+----------+-------+\n",
      "|   CBKG.DE|2019-01-02T00:00:00Z|     5.804|      5.765|     5.782|7221471|\n",
      "|   CBKG.DE|2019-01-03T00:00:00Z|      5.95|      5.802|     5.748|8064658|\n",
      "|   CBKG.DE|2019-01-04T00:00:00Z|     6.168|      6.143|      5.89|8772521|\n",
      "|   CBKG.DE|2019-01-07T00:00:00Z|     6.249|      6.182|     6.242|6781840|\n",
      "|   CBKG.DE|2019-01-08T00:00:00Z|      6.39|       6.33|     6.172|8472530|\n",
      "+----------+--------------------+----------+-----------+----------+-------+\n",
      "only showing top 5 rows\n",
      "\n"
     ]
    }
   ],
   "source": [
    "data_stocks = spark.read.csv('kaggle_stock_data.csv', header=True).drop('_c0')\n",
    "data_stocks.show(5)"
   ]
  },
  {
   "cell_type": "code",
   "execution_count": 94,
   "id": "7a8987a7-9562-4607-9aab-182ac3f8224a",
   "metadata": {},
   "outputs": [
    {
     "name": "stdout",
     "output_type": "stream",
     "text": [
      "+----------+--------------------+-------------------------+-------------------------+------------------------+--------------------+--------------------+-------------------------+-------------------------+------------------------+------------------+------------------+\n",
      "|Instrument| Company Common Name|TRBC Economic Sector Name|TRBC Business Sector Name|TRBC Industry Group Name|  TRBC Industry Name|  TRBC Activity Name|TRBC Economic Sector Code|TRBC Business Sector Code|TRBC Industry Group Code|TRBC Industry Code|TRBC Activity Code|\n",
      "+----------+--------------------+-------------------------+-------------------------+------------------------+--------------------+--------------------+-------------------------+-------------------------+------------------------+------------------+------------------+\n",
      "|   CBKG.DE|      Commerzbank AG|               Financials|     Banking & Investm...|        Banking Services|               Banks|         Banks (NEC)|                       55|                     5510|                  551010|          55101010|        5510101010|\n",
      "|  DTEGn.DE| Deutsche Telekom AG|               Technology|     Telecommunication...|    Telecommunication...|Integrated Teleco...|Integrated Teleco...|                       57|                     5740|                  574010|          57401010|        5740101010|\n",
      "|   ALVG.DE|          Allianz SE|               Financials|                Insurance|               Insurance|Multiline Insuran...|Multiline Insuran...|                       55|                     5530|                  553010|          55301010|        5530101010|\n",
      "|   MBGn.DE|Mercedes Benz Gro...|       Consumer Cyclicals|     Automobiles & Aut...|    Automobiles & Aut...|Auto & Truck Manu...|Auto & Truck Manu...|                       53|                     5310|                  531010|          53101010|        5310101010|\n",
      "|   SAPG.DE|              SAP SE|               Technology|     Software & IT Ser...|    Software & IT Ser...|            Software| Enterprise Software|                       57|                     5720|                  572010|          57201020|        5720102013|\n",
      "+----------+--------------------+-------------------------+-------------------------+------------------------+--------------------+--------------------+-------------------------+-------------------------+------------------------+------------------+------------------+\n",
      "only showing top 5 rows\n",
      "\n"
     ]
    }
   ],
   "source": [
    "data_sectors = spark.read.csv('kaggle_stock_sector_information.csv', header=True).drop('_c0')\n",
    "data_sectors.show(5)"
   ]
  },
  {
   "cell_type": "code",
   "execution_count": 95,
   "id": "23f5e070-f673-407e-ae80-00477ae69157",
   "metadata": {},
   "outputs": [
    {
     "name": "stdout",
     "output_type": "stream",
     "text": [
      "+----------+--------------------+----------+-----------+----------+-------+\n",
      "|Instrument|                Date|Price_High|Price_Close|Price_Open| Volume|\n",
      "+----------+--------------------+----------+-----------+----------+-------+\n",
      "|   CBKG.DE|2019-01-02T00:00:00Z|     5.804|      5.765|     5.782|7221471|\n",
      "|   CBKG.DE|2019-01-03T00:00:00Z|      5.95|      5.802|     5.748|8064658|\n",
      "|   CBKG.DE|2019-01-04T00:00:00Z|     6.168|      6.143|      5.89|8772521|\n",
      "|   CBKG.DE|2019-01-07T00:00:00Z|     6.249|      6.182|     6.242|6781840|\n",
      "|   CBKG.DE|2019-01-08T00:00:00Z|      6.39|       6.33|     6.172|8472530|\n",
      "+----------+--------------------+----------+-----------+----------+-------+\n",
      "only showing top 5 rows\n",
      "\n"
     ]
    }
   ],
   "source": [
    "# Define the custom function to replace spaces with underscores in column names\n",
    "def clean_feature_names(df):\n",
    "    new_columns = [col(col_name).alias(col_name.replace(\" \", \"_\")) for col_name in df.columns]\n",
    "    return df.select(*new_columns)\n",
    "\n",
    "data_stocks_cleaned = clean_feature_names(data_stocks)\n",
    "data_stocks_cleaned.show(5)"
   ]
  },
  {
   "cell_type": "code",
   "execution_count": 96,
   "id": "3bd284ca-a7ef-4100-a0fa-4392d19882c5",
   "metadata": {},
   "outputs": [
    {
     "name": "stdout",
     "output_type": "stream",
     "text": [
      "+----------+--------------------+-------------------------+-------------------------+------------------------+--------------------+--------------------+-------------------------+-------------------------+------------------------+------------------+------------------+\n",
      "|Instrument| Company_Common_Name|TRBC_Economic_Sector_Name|TRBC_Business_Sector_Name|TRBC_Industry_Group_Name|  TRBC_Industry_Name|  TRBC_Activity_Name|TRBC_Economic_Sector_Code|TRBC_Business_Sector_Code|TRBC_Industry_Group_Code|TRBC_Industry_Code|TRBC_Activity_Code|\n",
      "+----------+--------------------+-------------------------+-------------------------+------------------------+--------------------+--------------------+-------------------------+-------------------------+------------------------+------------------+------------------+\n",
      "|   CBKG.DE|      Commerzbank AG|               Financials|     Banking & Investm...|        Banking Services|               Banks|         Banks (NEC)|                       55|                     5510|                  551010|          55101010|        5510101010|\n",
      "|  DTEGn.DE| Deutsche Telekom AG|               Technology|     Telecommunication...|    Telecommunication...|Integrated Teleco...|Integrated Teleco...|                       57|                     5740|                  574010|          57401010|        5740101010|\n",
      "|   ALVG.DE|          Allianz SE|               Financials|                Insurance|               Insurance|Multiline Insuran...|Multiline Insuran...|                       55|                     5530|                  553010|          55301010|        5530101010|\n",
      "|   MBGn.DE|Mercedes Benz Gro...|       Consumer Cyclicals|     Automobiles & Aut...|    Automobiles & Aut...|Auto & Truck Manu...|Auto & Truck Manu...|                       53|                     5310|                  531010|          53101010|        5310101010|\n",
      "|   SAPG.DE|              SAP SE|               Technology|     Software & IT Ser...|    Software & IT Ser...|            Software| Enterprise Software|                       57|                     5720|                  572010|          57201020|        5720102013|\n",
      "+----------+--------------------+-------------------------+-------------------------+------------------------+--------------------+--------------------+-------------------------+-------------------------+------------------------+------------------+------------------+\n",
      "only showing top 5 rows\n",
      "\n"
     ]
    }
   ],
   "source": [
    "data_sectors_cleaned = clean_feature_names(data_sectors)\n",
    "data_sectors_cleaned.show(5)"
   ]
  },
  {
   "cell_type": "code",
   "execution_count": 97,
   "id": "2df6d606-2e64-4312-921d-e139ee78bc88",
   "metadata": {},
   "outputs": [
    {
     "name": "stdout",
     "output_type": "stream",
     "text": [
      "+----------+----------+----------+-----------+----------+--------+\n",
      "|Instrument|      Date|Price_High|Price_Close|Price_Open|  Volume|\n",
      "+----------+----------+----------+-----------+----------+--------+\n",
      "|   CBKG.DE|2019-01-02|     5.804|      5.765|     5.782| 7221471|\n",
      "|   CBKG.DE|2019-01-03|      5.95|      5.802|     5.748| 8064658|\n",
      "|   CBKG.DE|2019-01-04|     6.168|      6.143|      5.89| 8772521|\n",
      "|   CBKG.DE|2019-01-07|     6.249|      6.182|     6.242| 6781840|\n",
      "|   CBKG.DE|2019-01-08|      6.39|       6.33|     6.172| 8472530|\n",
      "|   CBKG.DE|2019-01-09|     6.432|       6.22|     6.401| 7686557|\n",
      "|   CBKG.DE|2019-01-10|     6.302|       6.28|     6.136| 5269389|\n",
      "|   CBKG.DE|2019-01-11|     6.423|       6.35|     6.287| 8684431|\n",
      "|   CBKG.DE|2019-01-14|     6.319|       6.27|     6.319| 4784613|\n",
      "|   CBKG.DE|2019-01-15|      6.42|       6.19|      6.32| 7935736|\n",
      "|   CBKG.DE|2019-01-16|     6.692|      6.649|     6.261|13097725|\n",
      "|   CBKG.DE|2019-01-17|     6.563|      6.424|     6.537| 8926460|\n",
      "|   CBKG.DE|2019-01-18|     6.772|       6.68|     6.528|11501304|\n",
      "|   CBKG.DE|2019-01-21|     6.769|      6.706|     6.708| 4949252|\n",
      "|   CBKG.DE|2019-01-22|     6.689|      6.684|      6.65| 4964886|\n",
      "|   CBKG.DE|2019-01-23|     6.875|      6.828|      6.64| 7825963|\n",
      "|   CBKG.DE|2019-01-24|     6.975|      6.849|      6.85| 8897216|\n",
      "|   CBKG.DE|2019-01-25|      6.96|      6.947|     6.931| 6892778|\n",
      "|   CBKG.DE|2019-01-28|      6.96|       6.74|      6.96| 7024758|\n",
      "|   CBKG.DE|2019-01-29|     6.774|      6.687|     6.714| 4438574|\n",
      "+----------+----------+----------+-----------+----------+--------+\n",
      "only showing top 20 rows\n",
      "\n"
     ]
    }
   ],
   "source": [
    "data_stocks_cleaned = data_stocks_cleaned.select(\n",
    "    col(\"Instrument\").cast(StringType()).alias(\"Instrument\"),\n",
    "    col(\"Date\").cast(DateType()).alias(\"Date\"),\n",
    "    col(\"Price_High\").cast(DoubleType()).alias(\"Price_High\"),\n",
    "    col(\"Price_Close\").cast(DoubleType()).alias(\"Price_Close\"),\n",
    "    col(\"Price_Open\").cast(DoubleType()).alias(\"Price_Open\"),\n",
    "    col(\"Volume\").cast(IntegerType()).alias(\"Volume\")\n",
    "    \n",
    ")\n",
    "data_stocks_cleaned.show()"
   ]
  },
  {
   "cell_type": "code",
   "execution_count": 98,
   "id": "e59fb6d6-dd4a-4ac2-a206-2f76b5db0cdd",
   "metadata": {},
   "outputs": [
    {
     "data": {
      "text/plain": [
       "[('Instrument', 'string'),\n",
       " ('Date', 'date'),\n",
       " ('Price_High', 'double'),\n",
       " ('Price_Close', 'double'),\n",
       " ('Price_Open', 'double'),\n",
       " ('Volume', 'int')]"
      ]
     },
     "execution_count": 98,
     "metadata": {},
     "output_type": "execute_result"
    }
   ],
   "source": [
    "data_stocks_cleaned.dtypes"
   ]
  },
  {
   "cell_type": "code",
   "execution_count": 99,
   "id": "7a5d2f5e-d24f-497a-98ff-677622c87626",
   "metadata": {},
   "outputs": [
    {
     "data": {
      "text/plain": [
       "15257"
      ]
     },
     "execution_count": 99,
     "metadata": {},
     "output_type": "execute_result"
    }
   ],
   "source": [
    "data_stocks_cleaned.groupBy(data_stocks_cleaned.columns).count().filter(\"count > 1\").count()"
   ]
  },
  {
   "cell_type": "code",
   "execution_count": 100,
   "id": "12043d01-e93b-4b03-aed4-5ef06e222a19",
   "metadata": {},
   "outputs": [],
   "source": [
    "data_stocks_cleaned = data_stocks_cleaned.dropDuplicates()\n",
    "data_sectors_cleaned = data_sectors_cleaned.dropDuplicates()"
   ]
  },
  {
   "cell_type": "code",
   "execution_count": 101,
   "id": "22ec1a98-9a1f-46ea-af8e-c4d49aecfa49",
   "metadata": {},
   "outputs": [
    {
     "data": {
      "text/plain": [
       "0"
      ]
     },
     "execution_count": 101,
     "metadata": {},
     "output_type": "execute_result"
    }
   ],
   "source": [
    "data_stocks_cleaned.groupBy(data_stocks_cleaned.columns).count().filter(\"count > 1\").count()"
   ]
  },
  {
   "cell_type": "code",
   "execution_count": 102,
   "id": "2c226db1-6215-445f-91b7-f16740ae28d8",
   "metadata": {},
   "outputs": [
    {
     "name": "stdout",
     "output_type": "stream",
     "text": [
      "+----------+----------+----------+-----------+----------+--------+------------+\n",
      "|Instrument|      Date|Price_High|Price_Close|Price_Open|  Volume|Daily_Return|\n",
      "+----------+----------+----------+-----------+----------+--------+------------+\n",
      "|   CBKG.DE|2020-03-30|     3.601|      3.338|     3.585|18925755|        0.25|\n",
      "|   CBKG.DE|2022-02-21|     9.513|      9.153|       9.4|10191050|        0.25|\n",
      "|   CBKG.DE|2022-11-03|     8.162|       8.08|     8.104| 4897012|        0.02|\n",
      "|  DTEGn.DE|2020-10-20|    13.935|      13.68|      13.9|11136709|        0.22|\n",
      "|  DTEGn.DE|2021-05-21|    17.224|      17.17|    17.004|10933087|       -0.17|\n",
      "+----------+----------+----------+-----------+----------+--------+------------+\n",
      "only showing top 5 rows\n",
      "\n"
     ]
    }
   ],
   "source": [
    "data_stocks_cleaned = data_stocks_cleaned.withColumn('Daily_Return', round(col('Price_Open') - col('Price_Close'),2))\n",
    "data_stocks_cleaned.show(5)"
   ]
  },
  {
   "cell_type": "code",
   "execution_count": 103,
   "id": "c5710a1e-ce50-4458-b552-3e38a28289ed",
   "metadata": {},
   "outputs": [
    {
     "name": "stdout",
     "output_type": "stream",
     "text": [
      "+----------+----------+----------+-----------+----------+--------+------------+-----+----+-------+\n",
      "|Instrument|      Date|Price_High|Price_Close|Price_Open|  Volume|Daily_Return|Month|Year|Quarter|\n",
      "+----------+----------+----------+-----------+----------+--------+------------+-----+----+-------+\n",
      "|   CBKG.DE|2020-03-30|     3.601|      3.338|     3.585|18925755|        0.25|    3|2020|      1|\n",
      "|   CBKG.DE|2022-02-21|     9.513|      9.153|       9.4|10191050|        0.25|    2|2022|      1|\n",
      "|   CBKG.DE|2022-11-03|     8.162|       8.08|     8.104| 4897012|        0.02|   11|2022|      4|\n",
      "|  DTEGn.DE|2020-10-20|    13.935|      13.68|      13.9|11136709|        0.22|   10|2020|      4|\n",
      "|  DTEGn.DE|2021-05-21|    17.224|      17.17|    17.004|10933087|       -0.17|    5|2021|      2|\n",
      "+----------+----------+----------+-----------+----------+--------+------------+-----+----+-------+\n",
      "only showing top 5 rows\n",
      "\n"
     ]
    }
   ],
   "source": [
    "data_stocks_cleaned = data_stocks_cleaned.withColumn(\"Month\", month(col(\"Date\")))\n",
    "data_stocks_cleaned = data_stocks_cleaned.withColumn(\"Year\", year(col(\"Date\")))\n",
    "data_stocks_cleaned = data_stocks_cleaned.withColumn(\"Quarter\", quarter(col(\"Date\")))\n",
    "data_stocks_cleaned.show(5)"
   ]
  },
  {
   "cell_type": "code",
   "execution_count": 104,
   "id": "f29251bc-8b7d-440f-8576-e4b361fa2491",
   "metadata": {},
   "outputs": [
    {
     "name": "stdout",
     "output_type": "stream",
     "text": [
      "+----------+----------+----------+-----------+------------+------+----+-----+-------+\n",
      "|Instrument|Price_High|Price_Open|Price_Close|Daily_Return|Volume|Year|Month|Quarter|\n",
      "+----------+----------+----------+-----------+------------+------+----+-----+-------+\n",
      "|         0|       415|       772|        380|         775| 57783|  72|   72|     72|\n",
      "+----------+----------+----------+-----------+------------+------+----+-----+-------+\n",
      "\n"
     ]
    }
   ],
   "source": [
    "arr_temp = ['Instrument','Price_High','Price_Open','Price_Close','Daily_Return','Volume','Year','Month','Quarter']\n",
    "data_stocks_cleaned.select([count(when(isnan(c) | col(c).isNull(), c)).alias(c) for c in arr_temp]).show()"
   ]
  },
  {
   "cell_type": "code",
   "execution_count": 105,
   "id": "ff187ebe-495d-4e8d-9047-edc22d360ca5",
   "metadata": {},
   "outputs": [
    {
     "name": "stdout",
     "output_type": "stream",
     "text": [
      "+----------+----------+----------+-----------+------------+------+----+-----+-------+\n",
      "|Instrument|Price_High|Price_Open|Price_Close|Daily_Return|Volume|Year|Month|Quarter|\n",
      "+----------+----------+----------+-----------+------------+------+----+-----+-------+\n",
      "|         0|         0|         0|          0|           0|     0|   0|    0|      0|\n",
      "+----------+----------+----------+-----------+------------+------+----+-----+-------+\n",
      "\n"
     ]
    }
   ],
   "source": [
    "data_stocks_cleaned = data_stocks_cleaned.na.drop()\n",
    "data_stocks_cleaned.select([count(when(isnan(c) | col(c).isNull(), c)).alias(c) for c in arr_temp]).show()"
   ]
  },
  {
   "cell_type": "code",
   "execution_count": 106,
   "id": "591ab015-7b02-42f8-8050-c7dc0c6ecb55",
   "metadata": {},
   "outputs": [
    {
     "name": "stdout",
     "output_type": "stream",
     "text": [
      "+----------+----+-------+-----+--------------+--------------+---------------+----------------+------------+\n",
      "|Instrument|Year|Quarter|Month|Avg_Price_High|Avg_Price_Open|Avg_Price_Close|Avg_Daily_Return|Total_Volume|\n",
      "+----------+----+-------+-----+--------------+--------------+---------------+----------------+------------+\n",
      "|   123F.DE|2023|      1|    1|          5.81|          5.52|           5.66|           -0.14|       20871|\n",
      "|   123F.DE|2023|      1|    2|          6.28|          6.25|           6.13|            0.12|       15052|\n",
      "|   123F.DE|2023|      1|    3|          5.13|           5.0|           4.94|            0.06|      126029|\n",
      "|   123F.DE|2023|      2|    4|          5.28|          5.19|           5.24|           -0.05|       34716|\n",
      "|   123F.DE|2023|      2|    5|          7.38|          7.15|           7.27|           -0.11|       25381|\n",
      "|   123F.DE|2023|      2|    6|          7.37|          7.29|           7.23|            0.05|       47670|\n",
      "|   123F.DE|2023|      3|    7|          6.56|          6.55|           6.49|            0.06|       23252|\n",
      "|   123F.DE|2023|      3|    8|          6.38|          6.35|           6.33|            0.02|        9282|\n",
      "|   123F.DE|2023|      3|    9|          5.82|          5.77|           5.74|            0.03|       12334|\n",
      "|   123F.DE|2022|      1|    1|         12.69|         12.51|          12.55|           -0.04|       26377|\n",
      "+----------+----+-------+-----+--------------+--------------+---------------+----------------+------------+\n",
      "only showing top 10 rows\n",
      "\n"
     ]
    }
   ],
   "source": [
    "data_stocks_agg = data_stocks_cleaned.groupBy(\"Instrument\",\"Year\",\"Quarter\",\"Month\").agg(\n",
    "    round(avg(col(\"Price_High\")), 2).alias(\"Avg_Price_High\"),\n",
    "    round(avg(col(\"Price_Open\")), 2).alias(\"Avg_Price_Open\"),\n",
    "    round(avg(col(\"Price_Close\")), 2).alias(\"Avg_Price_Close\"),\n",
    "    round(avg(col(\"Daily_Return\")), 2).alias(\"Avg_Daily_Return\"),\n",
    "    round(sum(col(\"Volume\")), 2).alias(\"Total_Volume\")\n",
    ").sort([\"Instrument\",\"Year\",\"Quarter\",\"Month\"],ascending=[True, False, True, True])\n",
    "data_stocks_agg.show(10)"
   ]
  },
  {
   "cell_type": "markdown",
   "id": "e384985f-316e-48df-a7fb-12535c0b933d",
   "metadata": {},
   "source": [
    "### 2. Feature Engineering\n",
    " - Ensure that both the data files - main stocks dataset and the referential sectors dataset are in the same directory for feasible access. \n",
    " - Ensure that the any indexed or unnamed columns from the CSV file are duly dropped or not read into the spark dataframes. This add constraints in checking for data duplication and makes the dataset more noisy.\n",
    " - Ensure that the NULL values are correctly imputed for the stock prices and volumes. Based on the univariate analysis, there are a lot of outliers in the stocks dataset. So, we will impute NULL records with the median taking into account the underlying outlier sensitivity of the numerical features.\n",
    " - Ensure that all the features in the datasets are of the correct datatype.\n",
    " - Ensure to rename the column names of the features removing whitespaces, so that we can efficiently run SQL queries on the spark dataframes."
   ]
  },
  {
   "cell_type": "code",
   "execution_count": 108,
   "id": "64743ec2-4f22-4ad7-bb43-cd8432b8b6f5",
   "metadata": {},
   "outputs": [
    {
     "name": "stdout",
     "output_type": "stream",
     "text": [
      "+----------+----+-------+-----+--------------+--------------+---------------+----------------+------------+------------------+\n",
      "|Instrument|Year|Quarter|Month|Avg_Price_High|Avg_Price_Open|Avg_Price_Close|Avg_Daily_Return|Total_Volume|Instrument_Encoded|\n",
      "+----------+----+-------+-----+--------------+--------------+---------------+----------------+------------+------------------+\n",
      "|   123F.DE|2023|      1|    1|          5.81|          5.52|           5.66|           -0.14|       20871|             382.0|\n",
      "|   123F.DE|2023|      1|    2|          6.28|          6.25|           6.13|            0.12|       15052|             382.0|\n",
      "|   123F.DE|2023|      1|    3|          5.13|           5.0|           4.94|            0.06|      126029|             382.0|\n",
      "|   123F.DE|2023|      2|    4|          5.28|          5.19|           5.24|           -0.05|       34716|             382.0|\n",
      "|   123F.DE|2023|      2|    5|          7.38|          7.15|           7.27|           -0.11|       25381|             382.0|\n",
      "+----------+----+-------+-----+--------------+--------------+---------------+----------------+------------+------------------+\n",
      "only showing top 5 rows\n",
      "\n"
     ]
    }
   ],
   "source": [
    "# Step 1: StringIndexer for encoding 'Instrument'\n",
    "indexer = StringIndexer(inputCol=\"Instrument\", outputCol=\"Instrument_Encoded\")\n",
    "data_stocks_agg_idx = indexer.fit(data_stocks_agg).transform(data_stocks_agg)\n",
    "data_stocks_agg_idx.show(5) "
   ]
  },
  {
   "cell_type": "code",
   "execution_count": 110,
   "id": "aaa93ad6-505d-4ddc-9884-58a240220f08",
   "metadata": {},
   "outputs": [
    {
     "name": "stdout",
     "output_type": "stream",
     "text": [
      "+----------+----+-------+-----+--------------+--------------+---------------+----------------+------------+------------------+--------------------+\n",
      "|Instrument|Year|Quarter|Month|Avg_Price_High|Avg_Price_Open|Avg_Price_Close|Avg_Daily_Return|Total_Volume|Instrument_Encoded|            features|\n",
      "+----------+----+-------+-----+--------------+--------------+---------------+----------------+------------+------------------+--------------------+\n",
      "|   123F.DE|2023|      1|    1|          5.81|          5.52|           5.66|           -0.14|       20871|             382.0|[5.81,5.52,5.66,-...|\n",
      "|   123F.DE|2023|      1|    2|          6.28|          6.25|           6.13|            0.12|       15052|             382.0|[6.28,6.25,6.13,0...|\n",
      "|   123F.DE|2023|      1|    3|          5.13|           5.0|           4.94|            0.06|      126029|             382.0|[5.13,5.0,4.94,0....|\n",
      "|   123F.DE|2023|      2|    4|          5.28|          5.19|           5.24|           -0.05|       34716|             382.0|[5.28,5.19,5.24,-...|\n",
      "|   123F.DE|2023|      2|    5|          7.38|          7.15|           7.27|           -0.11|       25381|             382.0|[7.38,7.15,7.27,-...|\n",
      "|   123F.DE|2023|      2|    6|          7.37|          7.29|           7.23|            0.05|       47670|             382.0|[7.37,7.29,7.23,0...|\n",
      "|   123F.DE|2023|      3|    7|          6.56|          6.55|           6.49|            0.06|       23252|             382.0|[6.56,6.55,6.49,0...|\n",
      "|   123F.DE|2023|      3|    8|          6.38|          6.35|           6.33|            0.02|        9282|             382.0|[6.38,6.35,6.33,0...|\n",
      "|   123F.DE|2023|      3|    9|          5.82|          5.77|           5.74|            0.03|       12334|             382.0|[5.82,5.77,5.74,0...|\n",
      "|   123F.DE|2022|      1|    1|         12.69|         12.51|          12.55|           -0.04|       26377|             382.0|[12.69,12.51,12.5...|\n",
      "|   123F.DE|2022|      1|    2|         12.38|         12.31|          12.25|            0.06|       20085|             382.0|[12.38,12.31,12.2...|\n",
      "|   123F.DE|2022|      1|    3|         11.13|         11.06|           11.0|            0.06|       29308|             382.0|[11.13,11.06,11.0...|\n",
      "|   123F.DE|2022|      2|    4|         10.61|         10.51|          10.52|             0.0|        7119|             382.0|[10.61,10.51,10.5...|\n",
      "|   123F.DE|2022|      2|    5|         12.07|         11.86|           11.9|           -0.04|       30566|             382.0|[12.07,11.86,11.9...|\n",
      "|   123F.DE|2022|      2|    6|         11.38|          11.3|          11.22|            0.08|        7190|             382.0|[11.38,11.3,11.22...|\n",
      "|   123F.DE|2022|      3|    7|         10.34|         10.28|          10.21|            0.07|        2195|             382.0|[10.34,10.28,10.2...|\n",
      "|   123F.DE|2022|      3|    8|          9.03|          8.99|           8.88|            0.11|       14096|             382.0|[9.03,8.99,8.88,0...|\n",
      "|   123F.DE|2022|      3|    9|          7.13|          7.09|           7.06|            0.03|        9823|             382.0|[7.13,7.09,7.06,0...|\n",
      "|   123F.DE|2022|      4|   10|          6.77|          6.69|           6.67|            0.02|       15451|             382.0|[6.77,6.69,6.67,0...|\n",
      "|   123F.DE|2022|      4|   11|          6.42|           6.4|           6.25|            0.14|       18035|             382.0|[6.42,6.4,6.25,0....|\n",
      "+----------+----+-------+-----+--------------+--------------+---------------+----------------+------------+------------------+--------------------+\n",
      "only showing top 20 rows\n",
      "\n"
     ]
    }
   ],
   "source": [
    "# Step 2: Assemble features into a vector\n",
    "feature_cols = [\"Avg_Price_High\", \"Avg_Price_Open\", \"Avg_Price_Close\", \"Avg_Daily_Return\", \"Total_Volume\"]\n",
    "assembler = VectorAssembler(inputCols=feature_cols, outputCol=\"features\")\n",
    "data_stocks_agg_assembled = assembler.transform(data_stocks_agg_idx)\n",
    "data_stocks_agg_assembled.show()"
   ]
  },
  {
   "cell_type": "code",
   "execution_count": 111,
   "id": "b7079822-5655-4125-a167-6d65edd77d6d",
   "metadata": {},
   "outputs": [],
   "source": [
    "# Step 3: Split the data into training and testing sets\n",
    "(train_data, test_data) = data_stocks_agg_assembled.randomSplit([0.7, 0.3], seed=42)"
   ]
  },
  {
   "cell_type": "code",
   "execution_count": 112,
   "id": "5575a8cf-1f4d-4a72-b96c-ab57b5fb95e5",
   "metadata": {},
   "outputs": [],
   "source": [
    "# Step 4: Train a Random Forest model\n",
    "rf1 = RandomForestRegressor(featuresCol=\"features\", labelCol=\"Avg_Price_Close\", numTrees=100)\n",
    "model_1 = rf1.fit(train_data)"
   ]
  },
  {
   "cell_type": "code",
   "execution_count": 117,
   "id": "02816983-ca0a-4e09-8177-65280d6ee445",
   "metadata": {},
   "outputs": [
    {
     "name": "stdout",
     "output_type": "stream",
     "text": [
      "Feature Importances For Closing Price: \n",
      "Avg_Price_High: 0.2307402176220589\n",
      "Avg_Price_Open: 0.33246446801466234\n",
      "Avg_Price_Close: 0.362523214435785\n",
      "Avg_Daily_Return: 0.04032599536148937\n",
      "Total_Volume: 0.03394610456600444\n"
     ]
    }
   ],
   "source": [
    "# Step 5: Extract and display feature importances\n",
    "feature_importances = model_1.featureImportances\n",
    "print(\"Feature Importances For Closing Price: \")\n",
    "for i, col in enumerate(feature_cols):\n",
    "    print(f\"{col}: {feature_importances[i]}\")"
   ]
  },
  {
   "cell_type": "markdown",
   "id": "1be822c3-864c-49a6-9d7d-c0e350b635d8",
   "metadata": {},
   "source": [
    "#### OBSERVATIONS "
   ]
  },
  {
   "cell_type": "code",
   "execution_count": 118,
   "id": "d3033ab1-5a1c-4ca5-86ff-a0fca680d42b",
   "metadata": {},
   "outputs": [
    {
     "name": "stdout",
     "output_type": "stream",
     "text": [
      "Feature Importances For Opening Price: \n",
      "Avg_Price_High: 0.256838631234274\n",
      "Avg_Price_Open: 0.34067750058294666\n",
      "Avg_Price_Close: 0.32826684171434134\n",
      "Avg_Daily_Return: 0.04301247867510776\n",
      "Total_Volume: 0.031204547793330147\n"
     ]
    }
   ],
   "source": [
    "rf2 = RandomForestRegressor(featuresCol=\"features\", labelCol=\"Avg_Price_Open\", numTrees=100)\n",
    "model_2 = rf2.fit(train_data)\n",
    "\n",
    "#feature_importances = model_2.featureImportances\n",
    "print(\"Feature Importances For Opening Price: \\n\")\n",
    "for i, col in enumerate(feature_cols):\n",
    "    print(f\"{col}: {model_2.featureImportances[i]}\")"
   ]
  },
  {
   "cell_type": "code",
   "execution_count": 121,
   "id": "d5e7cd1b-6295-4596-ade0-64caa89a6c17",
   "metadata": {},
   "outputs": [
    {
     "name": "stdout",
     "output_type": "stream",
     "text": [
      "Feature Importances For Highest Price: \n",
      "\n",
      "Avg_Price_High: 0.26224224673748286\n",
      "Avg_Price_Open: 0.33570976827568877\n",
      "Avg_Price_Close: 0.3285761220687858\n",
      "Avg_Daily_Return: 0.04276698485837756\n",
      "Total_Volume: 0.0307048780596651\n"
     ]
    }
   ],
   "source": [
    "rf3 = RandomForestRegressor(featuresCol=\"features\", labelCol=\"Avg_Price_High\", numTrees=100)\n",
    "model_3 = rf3.fit(train_data)\n",
    "\n",
    "print(\"Feature Importances For Highest Price: \\n\")\n",
    "for i, col in enumerate(feature_cols):\n",
    "    print(f\"{col}: {model_3.featureImportances[i]}\")"
   ]
  },
  {
   "cell_type": "code",
   "execution_count": 122,
   "id": "1bad3ac3-5d64-4a21-82fb-1a083fb179b0",
   "metadata": {},
   "outputs": [
    {
     "name": "stdout",
     "output_type": "stream",
     "text": [
      "Feature Importances For Daily Return: \n",
      "\n",
      "Avg_Price_High: 0.05661544607438059\n",
      "Avg_Price_Open: 0.06782776249494417\n",
      "Avg_Price_Close: 0.06525228063587078\n",
      "Avg_Daily_Return: 0.7098925044464978\n",
      "Total_Volume: 0.1004120063483067\n"
     ]
    }
   ],
   "source": [
    "rf4 = RandomForestRegressor(featuresCol=\"features\", labelCol=\"Avg_Daily_Return\", numTrees=100)\n",
    "model_4 = rf4.fit(train_data)\n",
    "\n",
    "print(\"Feature Importances For Daily Return: \\n\")\n",
    "for i, col in enumerate(feature_cols):\n",
    "    print(f\"{col}: {model_4.featureImportances[i]}\")"
   ]
  },
  {
   "cell_type": "code",
   "execution_count": 123,
   "id": "a1655531-912b-4ec1-981b-70112b44a125",
   "metadata": {},
   "outputs": [
    {
     "name": "stdout",
     "output_type": "stream",
     "text": [
      "Feature Importances For Volume: \n",
      "\n",
      "Avg_Price_High: 0.06127463731916735\n",
      "Avg_Price_Open: 0.047322153491228175\n",
      "Avg_Price_Close: 0.04814586525695915\n",
      "Avg_Daily_Return: 0.017007722818292752\n",
      "Total_Volume: 0.8262496211143525\n"
     ]
    }
   ],
   "source": [
    "rf5 = RandomForestRegressor(featuresCol=\"features\", labelCol=\"Total_Volume\", numTrees=100)\n",
    "model_5 = rf5.fit(train_data)\n",
    "\n",
    "print(\"Feature Importances For Volume: \\n\")\n",
    "for i, col in enumerate(feature_cols):\n",
    "    print(f\"{col}: {model_5.featureImportances[i]}\")"
   ]
  },
  {
   "cell_type": "code",
   "execution_count": null,
   "id": "e6401737-8b59-4729-ac0d-b30a192b6e72",
   "metadata": {},
   "outputs": [],
   "source": []
  }
 ],
 "metadata": {
  "kernelspec": {
   "display_name": "Python 3 (ipykernel)",
   "language": "python",
   "name": "python3"
  },
  "language_info": {
   "codemirror_mode": {
    "name": "ipython",
    "version": 3
   },
   "file_extension": ".py",
   "mimetype": "text/x-python",
   "name": "python",
   "nbconvert_exporter": "python",
   "pygments_lexer": "ipython3",
   "version": "3.10.0"
  }
 },
 "nbformat": 4,
 "nbformat_minor": 5
}
