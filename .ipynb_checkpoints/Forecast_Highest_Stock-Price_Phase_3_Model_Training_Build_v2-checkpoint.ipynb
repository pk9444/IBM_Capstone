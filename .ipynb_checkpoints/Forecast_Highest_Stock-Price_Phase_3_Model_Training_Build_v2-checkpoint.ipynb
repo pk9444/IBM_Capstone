{
 "cells": [
  {
   "cell_type": "markdown",
   "id": "9a838563-6059-4037-bffa-920975ab2c3f",
   "metadata": {},
   "source": [
    "# IBM Advanced Data Science Capstone: Forecasting Stock Prices"
   ]
  },
  {
   "cell_type": "markdown",
   "id": "bab9a92d-f52a-4626-bd84-e080e05cbbd1",
   "metadata": {},
   "source": [
    "## Model Training"
   ]
  },
  {
   "cell_type": "markdown",
   "id": "1e3fa891-e27a-4de1-9112-2b77b814d574",
   "metadata": {},
   "source": [
    "In this project phase, We will now start building our Machine Learning and Deep Learning models to predict the highest stock price of RICs over time. As per our recommendations we will implement two algorithms: \n",
    "\n",
    "1. Random Forest Regression model from the machine learning stack\n",
    "2. Long-Short-Term-Memory (LSTM) Recurrent Neural Network (RNN) from the deep learning stack\n",
    "\n",
    "We will the compare the performances of the two models and do the model deployment at real-time. We will tune the hyperparameters and frequently revisit our model defintions and apply the tuning. We will also reach back to the feature engineering and multivariate analysis to update the features in order to improve the model performance. \n"
   ]
  },
  {
   "cell_type": "markdown",
   "id": "3b0b1d02-c926-4bfc-87f9-c5842e189a85",
   "metadata": {},
   "source": [
    "### Install Dependencies "
   ]
  },
  {
   "cell_type": "code",
   "execution_count": 1,
   "id": "a64b0781-50c2-41d9-a584-a48f7f63d0a5",
   "metadata": {},
   "outputs": [
    {
     "name": "stdout",
     "output_type": "stream",
     "text": [
      "detected a spark instance!\n"
     ]
    },
    {
     "data": {
      "text/html": [
       "<style>pre { white-space: pre !important; }</style>"
      ],
      "text/plain": [
       "<IPython.core.display.HTML object>"
      ]
     },
     "metadata": {},
     "output_type": "display_data"
    },
    {
     "name": "stdout",
     "output_type": "stream",
     "text": [
      "set display settings!\n",
      "installed all pyspark dependencies!\n",
      "installed all keras and tensorflow dependencies for the LSTM model!\n",
      "intialized a spark context!\n",
      "all dependencies installed!\n"
     ]
    }
   ],
   "source": [
    "# find and init the spark instance to ensure it is pip installed\n",
    "import findspark\n",
    "findspark.init()\n",
    "\n",
    "print(\"detected a spark instance!\")\n",
    "\n",
    "# set some HTML display setting \n",
    "from IPython.core.display import HTML\n",
    "display(HTML(\"<style>pre { white-space: pre !important; }</style>\"))\n",
    "\n",
    "print(\"set display settings!\")\n",
    "# import all the pyspark dependencies \n",
    "from pyspark import SparkContext, SparkConf\n",
    "from pyspark.sql import SQLContext, SparkSession\n",
    "from pyspark.sql.types import StructType, StructField, DoubleType, IntegerType, StringType, DateType\n",
    "from pyspark.sql.functions import *\n",
    "import pyspark.sql.functions as F\n",
    "\n",
    "from pyspark.ml.feature import StringIndexer, VectorAssembler, StandardScaler, MinMaxScaler\n",
    "from pyspark.ml import Pipeline\n",
    "from pyspark.ml.regression import RandomForestRegressor\n",
    "from pyspark.ml.evaluation import RegressionEvaluator\n",
    "from pyspark.ml.tuning import ParamGridBuilder, CrossValidator, TrainValidationSplit\n",
    "\n",
    "print(\"installed all pyspark dependencies!\")\n",
    "\n",
    "from tensorflow import keras\n",
    "from sklearn.preprocessing import MinMaxScaler\n",
    "from keras.models import Sequential\n",
    "from keras.layers import LSTM, Dense\n",
    "\n",
    "print(\"installed all keras and tensorflow dependencies for the LSTM model!\")\n",
    "\n",
    "# declare a spark object that we will run our spark SQL dataframes on \n",
    "sc = SparkContext.getOrCreate(SparkConf().setMaster(\"local[*]\"))\n",
    "\n",
    "# init a spark session \n",
    "from pyspark.sql import SparkSession\n",
    "spark = SparkSession \\\n",
    "    .builder \\\n",
    "    .getOrCreate()\n",
    "\n",
    "print(\"intialized a spark context!\")\n",
    "\n",
    "# import basic data analysis libraries  \n",
    "import numpy as np\n",
    "import pandas as pd\n",
    "import scipy.stats as stats\n",
    "import random\n",
    "\n",
    "# ignore warnings\n",
    "import warnings\n",
    "warnings.filterwarnings('ignore')\n",
    "\n",
    "# import libraries for data visualization\n",
    "import matplotlib.pyplot as plt\n",
    "import seaborn as sns\n",
    "\n",
    "sns.set_style(\"darkgrid\")\n",
    "\n",
    "print(\"all dependencies installed!\")"
   ]
  },
  {
   "cell_type": "markdown",
   "id": "83aa3ea5-a242-44e4-b7c9-55ce98557557",
   "metadata": {},
   "source": [
    "### Import the transformed dataset"
   ]
  },
  {
   "cell_type": "code",
   "execution_count": 2,
   "id": "c938d522-8dc6-4ca7-877f-0cbc0884042c",
   "metadata": {},
   "outputs": [
    {
     "name": "stdout",
     "output_type": "stream",
     "text": [
      "+-----------+----+-----+--------------+--------------+---------------+----------------+----------------+------------+-----------+--------------------+-------------------------+-------------------------+------------------------+--------------------+--------------------+-------------------------+-------------------------+------------------------+------------------+------------------+\n",
      "|Instrument0|Year|Month|Avg_Price_High|Avg_Price_Open|Avg_Price_Close|Avg_Daily_Return|Avg_Daily_Volume|Total_Volume|Instrument9| Company_Common_Name|TRBC_Economic_Sector_Name|TRBC_Business_Sector_Name|TRBC_Industry_Group_Name|  TRBC_Industry_Name|  TRBC_Activity_Name|TRBC_Economic_Sector_Code|TRBC_Business_Sector_Code|TRBC_Industry_Group_Code|TRBC_Industry_Code|TRBC_Activity_Code|\n",
      "+-----------+----+-----+--------------+--------------+---------------+----------------+----------------+------------+-----------+--------------------+-------------------------+-------------------------+------------------------+--------------------+--------------------+-------------------------+-------------------------+------------------------+------------------+------------------+\n",
      "|    75Sn.DE|2022|   12|          3.95|          3.92|           3.92|           -0.01|         1784.43|     24982.0|    75Sn.DE|              Sdm SE|              Industrials|     Industrial & Comm...|    Professional & Co...|Business Support ...|   Security Services|                       52|                     5220|                  522030|          52203040|        5220304014|\n",
      "|     88D.MU|2021|    9|         21.02|         21.02|          20.14|            0.89|          295.67|       887.0|     88D.MU|      WR Wohnraum AG|              Real Estate|              Real Estate|    Real Estate Opera...|Real Estate Renta...|Real Estate Renta...|                       60|                     6010|                  601010|          60101010|        6010101010|\n",
      "|     A62.DE|2021|   12|          2.13|          2.12|           2.11|            0.01|         1755.05|     35101.0|     A62.DE|     IGP Advantag AG|               Financials|     Banking & Investm...|    Investment Bankin...|Investment Bankin...|  Brokerage Services|                       55|                     5510|                  551020|          55102010|        5510201012|\n",
      "|    ABXG.DE|2021|    7|          16.6|         16.09|           16.0|            0.09|         14906.5|    327943.0|    ABXG.DE|Advanced Blockcha...|               Technology|     Software & IT Ser...|    Software & IT Ser...|IT Services & Con...|IT Services & Con...|                       57|                     5720|                  572010|          57201010|        5720101010|\n",
      "|     ACLN.S|2023|    5|         23.07|         22.87|          22.84|            0.03|        200635.1|   4012702.0|     ACLN.S|Accelleron Indust...|              Industrials|         Industrial Goods|    Machinery, Tools,...|Industrial Machin...|Industrial Machin...|                       52|                     5210|                  521020|          52102010|        5210201010|\n",
      "+-----------+----+-----+--------------+--------------+---------------+----------------+----------------+------------+-----------+--------------------+-------------------------+-------------------------+------------------------+--------------------+--------------------+-------------------------+-------------------------+------------------------+------------------+------------------+\n",
      "only showing top 5 rows\n",
      "\n"
     ]
    }
   ],
   "source": [
    "data_stocks_transformed = spark.read.csv('kaggle_stock_data_transformed.csv', header=True)\n",
    "data_stocks_transformed.show(5)"
   ]
  },
  {
   "cell_type": "code",
   "execution_count": 3,
   "id": "86006e9c-b957-471f-9446-f83fae4e4628",
   "metadata": {},
   "outputs": [
    {
     "data": {
      "text/plain": [
       "[('Instrument', 'string'),\n",
       " ('Year', 'int'),\n",
       " ('Month', 'int'),\n",
       " ('Avg_Price_Open', 'double'),\n",
       " ('Avg_Price_Close', 'double'),\n",
       " ('Avg_Price_High', 'double'),\n",
       " ('Avg_Daily_Return', 'double')]"
      ]
     },
     "execution_count": 3,
     "metadata": {},
     "output_type": "execute_result"
    }
   ],
   "source": [
    "# some datatype transformation may have been lost. reconfigure the dataframe accordingly and define a model set with only the required features\n",
    "# once done, create a model set - i.e. the relevant features that will be used for predictive analysis \n",
    "data_stocks_modelSet = data_stocks_transformed.select(\"Instrument0\", \"Year\", \"Month\",\\\n",
    "\"Avg_Price_Open\", \"Avg_Price_Close\", \"Avg_Price_High\", \"Avg_Daily_Return\")\n",
    "\n",
    "data_stocks_modelSet = data_stocks_modelSet.select(\n",
    "    col(\"Instrument0\").cast(StringType()).alias(\"Instrument\"),\n",
    "    col(\"Year\").cast(IntegerType()).alias(\"Year\"),\n",
    "    col(\"Month\").cast(IntegerType()).alias(\"Month\"),\n",
    "    col(\"Avg_Price_Open\").cast(DoubleType()).alias(\"Avg_Price_Open\"),\n",
    "    col(\"Avg_Price_Close\").cast(DoubleType()).alias(\"Avg_Price_Close\"),\n",
    "    col(\"Avg_Price_High\").cast(DoubleType()).alias(\"Avg_Price_High\"),\n",
    "    col(\"Avg_Daily_Return\").cast(DoubleType()).alias(\"Avg_Daily_Return\")\n",
    "    \n",
    ")\n",
    "data_stocks_modelSet = data_stocks_modelSet.sort(['Instrument', 'Year', 'Month'], ascending=[True, True, True, True]) \n",
    "data_stocks_modelSet.dtypes"
   ]
  },
  {
   "cell_type": "code",
   "execution_count": 4,
   "id": "a4204ae7-e7d1-4c5f-8f3c-9a0f70f0c6d6",
   "metadata": {},
   "outputs": [
    {
     "name": "stdout",
     "output_type": "stream",
     "text": [
      "+----------+----+-----+--------------+---------------+--------------+----------------+\n",
      "|Instrument|Year|Month|Avg_Price_Open|Avg_Price_Close|Avg_Price_High|Avg_Daily_Return|\n",
      "+----------+----+-----+--------------+---------------+--------------+----------------+\n",
      "|   123F.DE|2021|   11|         11.47|           11.4|         11.56|            0.07|\n",
      "|   123F.DE|2021|   12|         11.85|          11.81|         11.96|            0.04|\n",
      "|   123F.DE|2022|    1|         12.51|          12.55|         12.69|           -0.04|\n",
      "|   123F.DE|2022|    2|         12.31|          12.25|         12.38|            0.06|\n",
      "|   123F.DE|2022|    3|         11.06|           11.0|         11.13|            0.06|\n",
      "+----------+----+-----+--------------+---------------+--------------+----------------+\n",
      "only showing top 5 rows\n",
      "\n"
     ]
    }
   ],
   "source": [
    "data_stocks_modelSet.show(5)"
   ]
  },
  {
   "cell_type": "markdown",
   "id": "a5eabb54-1b05-46fc-ae5f-0464268e2ea8",
   "metadata": {},
   "source": [
    "## Random Forest Regression Model "
   ]
  },
  {
   "cell_type": "markdown",
   "id": "ebee3fbc-f63c-44cd-a2a7-7ba477d271e0",
   "metadata": {},
   "source": [
    "Let us now predict the average highest stock price using the Random Forest Regressor from the Machine Learning Suite. The ilustration below depicts the steps does our transformed and aggregate goes through in a Machine Learning Pipeline. "
   ]
  },
  {
   "attachments": {
    "b7b1ce14-530f-433e-9f62-2324f471269e.png": {
     "image/png": "[encoded data removed]"
    }
   },
   "cell_type": "markdown",
   "id": "a0c388ba-ce7d-473f-a1ce-f895bbddf48e",
   "metadata": {},
   "source": [
    "![Random_Forest_Model.drawio.png](attachment:b7b1ce14-530f-433e-9f62-2324f471269e.png)"
   ]
  },
  {
   "cell_type": "markdown",
   "id": "52812547-fd37-4a1e-a31c-2f9ee012317f",
   "metadata": {},
   "source": [
    "### Step-1: Encoded the non-numeric feature(s) into numerical indexes"
   ]
  },
  {
   "cell_type": "code",
   "execution_count": 7,
   "id": "eb111116-2ea3-49a7-a166-3f94f92aeb4c",
   "metadata": {},
   "outputs": [
    {
     "name": "stdout",
     "output_type": "stream",
     "text": [
      "+----------+----+-----+--------------+---------------+--------------+----------------+------------------+\n",
      "|Instrument|Year|Month|Avg_Price_Open|Avg_Price_Close|Avg_Price_High|Avg_Daily_Return|Instrument_Encoded|\n",
      "+----------+----+-----+--------------+---------------+--------------+----------------+------------------+\n",
      "|   123F.DE|2021|   11|         11.47|           11.4|         11.56|            0.07|             382.0|\n",
      "|   123F.DE|2021|   12|         11.85|          11.81|         11.96|            0.04|             382.0|\n",
      "|   123F.DE|2022|    1|         12.51|          12.55|         12.69|           -0.04|             382.0|\n",
      "|   123F.DE|2022|    2|         12.31|          12.25|         12.38|            0.06|             382.0|\n",
      "|   123F.DE|2022|    3|         11.06|           11.0|         11.13|            0.06|             382.0|\n",
      "+----------+----+-----+--------------+---------------+--------------+----------------+------------------+\n",
      "only showing top 5 rows\n",
      "\n"
     ]
    }
   ],
   "source": [
    "# create a stringIndexer() object and pass the features to be encoded \n",
    "indexer = StringIndexer(inputCol=\"Instrument\", outputCol=\"Instrument_Encoded\")\n",
    "data_stocks_indexed = indexer.fit(data_stocks_modelSet).transform(data_stocks_modelSet)\n",
    "\n",
    "# we will save a copy of the indexed dataframe as it will be needed to join the results \n",
    "data_stock_indexed_copy = data_stocks_indexed.select(\"*\")\n",
    "data_stocks_indexed.show(5) "
   ]
  },
  {
   "cell_type": "code",
   "execution_count": 8,
   "id": "2f37206b-070a-4f08-b5b3-62880e3bb5f4",
   "metadata": {},
   "outputs": [
    {
     "name": "stdout",
     "output_type": "stream",
     "text": [
      "+----+-----+--------------+---------------+--------------+----------------+------------------+\n",
      "|Year|Month|Avg_Price_Open|Avg_Price_Close|Avg_Price_High|Avg_Daily_Return|Instrument_Encoded|\n",
      "+----+-----+--------------+---------------+--------------+----------------+------------------+\n",
      "|2019|    1|         45.81|          46.04|         46.84|           -0.23|               0.0|\n",
      "|2019|    2|         49.48|          49.58|          50.3|            -0.1|               0.0|\n",
      "|2019|    3|         48.67|          48.54|         49.32|            0.13|               0.0|\n",
      "|2019|    4|         52.09|          52.15|          52.8|           -0.06|               0.0|\n",
      "|2019|    5|         43.69|          43.42|         44.12|            0.27|               0.0|\n",
      "+----+-----+--------------+---------------+--------------+----------------+------------------+\n",
      "only showing top 5 rows\n",
      "\n"
     ]
    }
   ],
   "source": [
    "# drop the string column as it will cause computation error - we already have the encoded equivalent \n",
    "data_stocks_indexed = data_stocks_indexed.drop('Instrument')\n",
    "\n",
    "# sort the dataframe accordingly \n",
    "data_stocks_indexed = data_stocks_indexed.sort([\"Instrument_Encoded\", \"Year\", \"Month\"], ascending=[True, True, True, True])\n",
    "data_stocks_indexed.show(5)"
   ]
  },
  {
   "cell_type": "code",
   "execution_count": 9,
   "id": "43c22b53-531b-4172-8c5c-17a6a838ade0",
   "metadata": {},
   "outputs": [
    {
     "data": {
      "text/plain": [
       "[('Year', 'int'),\n",
       " ('Month', 'int'),\n",
       " ('Avg_Price_Open', 'double'),\n",
       " ('Avg_Price_Close', 'double'),\n",
       " ('Avg_Price_High', 'double'),\n",
       " ('Avg_Daily_Return', 'double'),\n",
       " ('Instrument_Encoded', 'double')]"
      ]
     },
     "execution_count": 9,
     "metadata": {},
     "output_type": "execute_result"
    }
   ],
   "source": [
    "# re-verify the datatypes \n",
    "data_stocks_indexed.dtypes"
   ]
  },
  {
   "cell_type": "markdown",
   "id": "98a96359-4be7-44a6-bb50-0aff2d6a6f93",
   "metadata": {},
   "source": [
    "### Step-2: Build a feature vector from the feature set as defined in the Feature Engineering phase "
   ]
  },
  {
   "cell_type": "code",
   "execution_count": 10,
   "id": "f77c6971-ceaa-481d-8abe-ddd899b4b0fe",
   "metadata": {},
   "outputs": [
    {
     "name": "stdout",
     "output_type": "stream",
     "text": [
      "+----+-----+--------------+---------------+--------------+----------------+------------------+-------------------+\n",
      "|Year|Month|Avg_Price_Open|Avg_Price_Close|Avg_Price_High|Avg_Daily_Return|Instrument_Encoded|    feature_vectors|\n",
      "+----+-----+--------------+---------------+--------------+----------------+------------------+-------------------+\n",
      "|2019|    1|         45.81|          46.04|         46.84|           -0.23|               0.0|[45.81,46.04,-0.23]|\n",
      "|2019|    2|         49.48|          49.58|          50.3|            -0.1|               0.0| [49.48,49.58,-0.1]|\n",
      "|2019|    3|         48.67|          48.54|         49.32|            0.13|               0.0| [48.67,48.54,0.13]|\n",
      "|2019|    4|         52.09|          52.15|          52.8|           -0.06|               0.0|[52.09,52.15,-0.06]|\n",
      "|2019|    5|         43.69|          43.42|         44.12|            0.27|               0.0| [43.69,43.42,0.27]|\n",
      "+----+-----+--------------+---------------+--------------+----------------+------------------+-------------------+\n",
      "only showing top 5 rows\n",
      "\n"
     ]
    }
   ],
   "source": [
    "# create a VectorAssembler() object to create a feature vector from the feature set as recommended by the feature engineering\n",
    "feature_cols = ['Avg_Price_Open','Avg_Price_Close','Avg_Daily_Return']\n",
    "vector_assembler = VectorAssembler(inputCols=feature_cols, outputCol=\"feature_vectors\")\n",
    "data_stocks_assembled = vector_assembler.transform(data_stocks_indexed)\n",
    "data_stocks_assembled.show(5)"
   ]
  },
  {
   "cell_type": "markdown",
   "id": "903f7a00-5ddf-412b-bd7e-ba18c321714b",
   "metadata": {},
   "source": [
    "### Step-3: Scale the features in the feature set with the Standard Scaler "
   ]
  },
  {
   "cell_type": "markdown",
   "id": "2c371f44-0d49-4185-8e39-274f401362c6",
   "metadata": {},
   "source": [
    "Rationale for using the Robust Scaler: \n",
    "- Recalling the EDA, the features `Avg_Price_High` and `Avg_Price_High` were not normally distrbuted and had a lot of outliers. \n",
    "- The Standard Scaler assumes that the features are normally distrubuted whereas Min-Max Scaler is sensitive to outliers. \n",
    "- The Robust uses the Inter-Quartile Range IQR and median to scale the data and is less affected by the outliers. Hence, it is the suitable scaler for our scenario. "
   ]
  },
  {
   "cell_type": "code",
   "execution_count": 11,
   "id": "476a21b7-bd13-4095-8d21-f5f037ac74d1",
   "metadata": {},
   "outputs": [
    {
     "name": "stdout",
     "output_type": "stream",
     "text": [
      "+----+-----+--------------+---------------+--------------+----------------+------------------+-------------------+--------------------+\n",
      "|Year|Month|Avg_Price_Open|Avg_Price_Close|Avg_Price_High|Avg_Daily_Return|Instrument_Encoded|    feature_vectors|     scaled_features|\n",
      "+----+-----+--------------+---------------+--------------+----------------+------------------+-------------------+--------------------+\n",
      "|2019|    1|         45.81|          46.04|         46.84|           -0.23|               0.0|[45.81,46.04,-0.23]|[0.36416000000000...|\n",
      "|2019|    2|         49.48|          49.58|          50.3|            -0.1|               0.0| [49.48,49.58,-0.1]|[0.42287999999999...|\n",
      "|2019|    3|         48.67|          48.54|         49.32|            0.13|               0.0| [48.67,48.54,0.13]|[0.40992,0.408173...|\n",
      "|2019|    4|         52.09|          52.15|          52.8|           -0.06|               0.0|[52.09,52.15,-0.06]|[0.46464000000000...|\n",
      "|2019|    5|         43.69|          43.42|         44.12|            0.27|               0.0| [43.69,43.42,0.27]|[0.33024,0.326121...|\n",
      "+----+-----+--------------+---------------+--------------+----------------+------------------+-------------------+--------------------+\n",
      "only showing top 5 rows\n",
      "\n"
     ]
    }
   ],
   "source": [
    "# Standardize the features into a proper range with the standard scaler \n",
    "#scaler = StandardScaler(inputCol=\"feature_vectors\", outputCol=\"scaled_features\", withStd=True, withMean=True)\n",
    "\n",
    "from pyspark.ml.feature import StringIndexer, VectorAssembler, StandardScaler, MinMaxScaler, RobustScaler\n",
    "r_scaler = RobustScaler(inputCol=\"feature_vectors\", outputCol=\"scaled_features\", withScaling=True, withCentering=True)\n",
    "#mm_scaler1 = MinMaxScaler(inputCol='feature_vectors', outputCol='scaled_features')\n",
    "\n",
    "scaler_model = r_scaler.fit(data_stocks_assembled)\n",
    "data_stocks_featureScaled = scaler_model.transform(data_stocks_assembled)\n",
    "data_stocks_featureScaled.show(5)"
   ]
  },
  {
   "cell_type": "markdown",
   "id": "31f9ed70-b403-4250-bc7a-e00ef3fa0f32",
   "metadata": {},
   "source": [
    "### Step-4: Split the data into Training and Test data"
   ]
  },
  {
   "cell_type": "code",
   "execution_count": 12,
   "id": "c14be945-ad5e-4b97-9946-3f41fa03172e",
   "metadata": {},
   "outputs": [],
   "source": [
    "# Split the data into training and test sets\n",
    "\n",
    "train_data = data_stocks_featureScaled.filter(\n",
    "    (col(\"Year\") < 2022) |\n",
    "    ((col(\"Year\") == 2022) & (col(\"Month\") <= 9))\n",
    ")\n",
    "\n",
    "train_data = train_data.sort(['Instrument_Encoded','Year','Month'], ascending=[True, True, True])\n",
    "\n",
    "test_data = data_stocks_featureScaled.filter(\n",
    "    ((col(\"Year\") == 2022) & (col(\"Month\") >= 9)) |\n",
    "    ((col(\"Year\") == 2023) & (col(\"Month\") <= 9))\n",
    ")\n",
    "test_data = test_data.sort(['Instrument_Encoded','Year','Month'], ascending=[True, True, True])"
   ]
  },
  {
   "cell_type": "code",
   "execution_count": 13,
   "id": "4c8de178-8068-41bc-9e88-3fe6a93e9212",
   "metadata": {},
   "outputs": [
    {
     "name": "stdout",
     "output_type": "stream",
     "text": [
      "+----+-----+--------------+---------------+--------------+----------------+------------------+-------------------+--------------------+\n",
      "|Year|Month|Avg_Price_Open|Avg_Price_Close|Avg_Price_High|Avg_Daily_Return|Instrument_Encoded|    feature_vectors|     scaled_features|\n",
      "+----+-----+--------------+---------------+--------------+----------------+------------------+-------------------+--------------------+\n",
      "|2019|    1|         45.81|          46.04|         46.84|           -0.23|               0.0|[45.81,46.04,-0.23]|[0.36416000000000...|\n",
      "|2019|    2|         49.48|          49.58|          50.3|            -0.1|               0.0| [49.48,49.58,-0.1]|[0.42287999999999...|\n",
      "|2019|    3|         48.67|          48.54|         49.32|            0.13|               0.0| [48.67,48.54,0.13]|[0.40992,0.408173...|\n",
      "|2019|    4|         52.09|          52.15|          52.8|           -0.06|               0.0|[52.09,52.15,-0.06]|[0.46464000000000...|\n",
      "|2019|    5|         43.69|          43.42|         44.12|            0.27|               0.0| [43.69,43.42,0.27]|[0.33024,0.326121...|\n",
      "|2019|    6|         42.12|          42.35|         42.99|           -0.23|               0.0|[42.12,42.35,-0.23]|[0.30511999999999...|\n",
      "|2019|    7|         42.76|          42.59|         43.36|            0.17|               0.0| [42.76,42.59,0.17]|[0.31536,0.312820...|\n",
      "|2019|    8|         39.48|          39.47|         40.08|            0.01|               0.0| [39.48,39.47,0.01]|[0.26287999999999...|\n",
      "|2019|    9|         43.26|           43.4|          43.9|           -0.14|               0.0| [43.26,43.4,-0.14]|[0.32336,0.325801...|\n",
      "|2019|   10|         44.85|          44.76|         45.49|            0.09|               0.0| [44.85,44.76,0.09]|[0.3488,0.3475961...|\n",
      "|2019|   11|         44.62|          44.58|         45.12|            0.04|               0.0| [44.62,44.58,0.04]|[0.34512,0.344711...|\n",
      "|2019|   12|         42.07|          41.94|         42.48|            0.13|               0.0| [42.07,41.94,0.13]|[0.30432,0.302403...|\n",
      "|2020|    1|         40.44|          40.29|         40.87|            0.15|               0.0| [40.44,40.29,0.15]|[0.27823999999999...|\n",
      "|2020|    2|         38.67|          38.61|         39.18|            0.06|               0.0| [38.67,38.61,0.06]|[0.24992000000000...|\n",
      "|2020|    3|         29.14|          28.82|         29.87|            0.32|               0.0| [29.14,28.82,0.32]|[0.09744,0.092147...|\n",
      "|2020|    4|         29.53|          29.51|         29.97|            0.03|               0.0| [29.53,29.51,0.03]|[0.10368000000000...|\n",
      "|2020|    5|         30.96|          31.06|         31.47|            -0.1|               0.0| [30.96,31.06,-0.1]|[0.12656,0.128044...|\n",
      "|2020|    6|         34.38|          34.34|         34.99|            0.04|               0.0| [34.38,34.34,0.04]|[0.18128000000000...|\n",
      "|2020|    7|         35.65|          35.58|          36.1|            0.06|               0.0| [35.65,35.58,0.06]|[0.20159999999999...|\n",
      "|2020|    8|         37.64|          37.86|         38.26|           -0.23|               0.0|[37.64,37.86,-0.23]|[0.23344,0.237019...|\n",
      "+----+-----+--------------+---------------+--------------+----------------+------------------+-------------------+--------------------+\n",
      "only showing top 20 rows\n",
      "\n"
     ]
    }
   ],
   "source": [
    "train_data.show()"
   ]
  },
  {
   "cell_type": "code",
   "execution_count": 14,
   "id": "e610a6b2-1fd2-43bf-a41d-6343258b352d",
   "metadata": {},
   "outputs": [
    {
     "name": "stdout",
     "output_type": "stream",
     "text": [
      "+----+-----+--------------+---------------+--------------+----------------+------------------+-------------------+--------------------+\n",
      "|Year|Month|Avg_Price_Open|Avg_Price_Close|Avg_Price_High|Avg_Daily_Return|Instrument_Encoded|    feature_vectors|     scaled_features|\n",
      "+----+-----+--------------+---------------+--------------+----------------+------------------+-------------------+--------------------+\n",
      "|2022|    9|          30.0|          30.07|         30.53|           -0.07|               0.0| [30.0,30.07,-0.07]|[0.1112,0.1121794...|\n",
      "|2022|   10|         33.39|          33.63|         34.23|           -0.25|               0.0|[33.39,33.63,-0.25]|[0.16544,0.169230...|\n",
      "|2022|   11|         36.09|          36.19|         36.82|            -0.1|               0.0| [36.09,36.19,-0.1]|[0.20864000000000...|\n",
      "|2022|   12|         36.65|          36.62|         37.05|            0.03|               0.0| [36.65,36.62,0.03]|[0.21759999999999...|\n",
      "|2023|    1|         41.24|          41.46|         41.91|           -0.22|               0.0|[41.24,41.46,-0.22]|[0.29104,0.294711...|\n",
      "|2023|    2|          42.2|          42.12|          42.7|            0.09|               0.0|  [42.2,42.12,0.09]|[0.30640000000000...|\n",
      "|2023|    3|         38.15|          38.01|         38.61|            0.14|               0.0| [38.15,38.01,0.14]|[0.24159999999999...|\n",
      "|2023|    4|          37.1|          37.16|         37.65|           -0.07|               0.0| [37.1,37.16,-0.07]|[0.22480000000000...|\n",
      "|2023|    5|         39.22|          39.03|         39.62|            0.19|               0.0| [39.22,39.03,0.19]|[0.25871999999999...|\n",
      "|2023|    6|         42.36|          42.98|         43.46|           -0.62|               0.0|[42.36,42.98,-0.62]|[0.30896,0.319070...|\n",
      "|2023|    7|         48.22|          48.37|         48.88|           -0.15|               0.0|[48.22,48.37,-0.15]|[0.40271999999999...|\n",
      "|2023|    8|         47.93|          47.94|         48.59|           -0.01|               0.0|[47.93,47.94,-0.01]|[0.39808,0.398557...|\n",
      "|2023|    9|         50.07|           50.3|         50.98|           -0.22|               0.0| [50.07,50.3,-0.22]|[0.43232,0.436378...|\n",
      "|2022|    9|         15.26|          15.17|         15.39|            0.09|               1.0| [15.26,15.17,0.09]|[-0.1246400000000...|\n",
      "|2022|   10|         13.16|          13.15|         13.31|            0.01|               1.0| [13.16,13.15,0.01]|[-0.1582400000000...|\n",
      "|2022|   11|         13.84|          13.84|         13.99|             0.0|               1.0|  [13.84,13.84,0.0]|[-0.1473600000000...|\n",
      "|2022|   12|         12.29|          12.18|         12.38|            0.11|               1.0| [12.29,12.18,0.11]|[-0.1721600000000...|\n",
      "|2023|    1|         12.32|          12.37|          12.5|           -0.05|               1.0|[12.32,12.37,-0.05]|[-0.17168,-0.1714...|\n",
      "|2023|    2|         12.59|          12.52|         12.76|            0.06|               1.0| [12.59,12.52,0.06]|[-0.16736,-0.1690...|\n",
      "|2023|    3|         11.37|          11.31|         11.54|            0.06|               1.0| [11.37,11.31,0.06]|[-0.1868800000000...|\n",
      "+----+-----+--------------+---------------+--------------+----------------+------------------+-------------------+--------------------+\n",
      "only showing top 20 rows\n",
      "\n"
     ]
    }
   ],
   "source": [
    "test_data.show()"
   ]
  },
  {
   "cell_type": "markdown",
   "id": "7670b5cf-a68f-4124-ac82-0258c65d9fed",
   "metadata": {},
   "source": [
    "### Step-5: Hyperparameter Tuning"
   ]
  },
  {
   "cell_type": "code",
   "execution_count": 15,
   "id": "655f3382-c1cc-4731-b4a7-2519df64c4d6",
   "metadata": {},
   "outputs": [
    {
     "name": "stdout",
     "output_type": "stream",
     "text": [
      "find_hyperparameters() compiled ...\n"
     ]
    }
   ],
   "source": [
    "''' \n",
    "find_hyperparameters() : a function to find the hyperparameter for the Random Forest Regressor usinf the grid search method \n",
    "@params: df - an input dataframe, featuresCol - column in the dataframe that has the scaled feature vectors, labelCol - column of the target variable, \n",
    "              num_trees_array - an array with some no. of tree for which we are tuning the regressor, num_iterations - how many times to run the search\n",
    "@return: None \n",
    "'''\n",
    "def find_hyperparameters(df, featuresCol, labelCol, num_trees_array, num_iterations): \n",
    "    \n",
    "    rf_init = RandomForestRegressor(featuresCol=featuresCol, labelCol=labelCol, seed=42)\n",
    "    \n",
    "    param_grid = ParamGridBuilder() \\\n",
    "    .addGrid(rf_init.numTrees, random.sample(num_trees_array, num_iterations)) \\\n",
    "    .build()\n",
    "\n",
    "    evaluator = RegressionEvaluator(labelCol=labelCol, predictionCol=\"prediction\", metricName=\"rmse\")\n",
    "\n",
    "    tvs = TrainValidationSplit(estimator=rf_init,\n",
    "                           estimatorParamMaps=param_grid,\n",
    "                           evaluator=evaluator,\n",
    "                           trainRatio=0.8,\n",
    "                           seed=42)\n",
    "\n",
    "    tvs_model = tvs.fit(df)\n",
    "\n",
    "    # Get the best model and its hyperparameters\n",
    "    best_model = tvs_model.bestModel\n",
    "    best_num_trees = best_model.getNumTrees\n",
    "    \n",
    "    print(best_model)\n",
    "    print(best_num_trees)\n",
    "\n",
    "print(\"find_hyperparameters() compiled ...\")"
   ]
  },
  {
   "cell_type": "code",
   "execution_count": 16,
   "id": "0188ed4e-2e36-4649-8d9b-036553c9e3d3",
   "metadata": {},
   "outputs": [],
   "source": [
    "#find_hyperparameters(train_data, 'scaled_features', 'Avg_Price_High', [16, 32, 64, 128], 3)"
   ]
  },
  {
   "cell_type": "markdown",
   "id": "8d6eb0ca-57f6-446f-a1df-07acb117bd20",
   "metadata": {},
   "source": [
    "### Step-6: Tune the Regressor based on the searched Hyperparameter and predict the target "
   ]
  },
  {
   "cell_type": "code",
   "execution_count": 17,
   "id": "c1d409d4-16de-4944-bf39-394fba117902",
   "metadata": {},
   "outputs": [],
   "source": [
    "# define the regression models for each target feature, tune the hyperparameters based on the findings, keep retuning them  \n",
    "rf_tuned = RandomForestRegressor(featuresCol=\"feature_vectors\", labelCol=\"Avg_Price_High\", numTrees=16, seed=42)"
   ]
  },
  {
   "cell_type": "code",
   "execution_count": 18,
   "id": "29b9401d-0b3d-4c77-894b-5029e636fd04",
   "metadata": {},
   "outputs": [],
   "source": [
    "# fit the model on the training data \n",
    "rf_model = rf_tuned.fit(train_data)"
   ]
  },
  {
   "cell_type": "code",
   "execution_count": 19,
   "id": "b8f809a1-d79f-4f6c-bfcc-188ed97d5492",
   "metadata": {},
   "outputs": [
    {
     "name": "stdout",
     "output_type": "stream",
     "text": [
      "+----+-----+--------------+---------------+--------------+----------------+------------------+-------------------+--------------------+------------------------+\n",
      "|Year|Month|Avg_Price_Open|Avg_Price_Close|Avg_Price_High|Avg_Daily_Return|Instrument_Encoded|    feature_vectors|     scaled_features|predicted_Avg_Price_High|\n",
      "+----+-----+--------------+---------------+--------------+----------------+------------------+-------------------+--------------------+------------------------+\n",
      "|2022|    9|          30.0|          30.07|         30.53|           -0.07|               0.0| [30.0,30.07,-0.07]|[0.1112,0.1121794...|      29.874053190833624|\n",
      "|2022|   10|         33.39|          33.63|         34.23|           -0.25|               0.0|[33.39,33.63,-0.25]|[0.16544,0.169230...|       34.97690414626972|\n",
      "|2022|   11|         36.09|          36.19|         36.82|            -0.1|               0.0| [36.09,36.19,-0.1]|[0.20864000000000...|       32.55781003403376|\n",
      "|2022|   12|         36.65|          36.62|         37.05|            0.03|               0.0| [36.65,36.62,0.03]|[0.21759999999999...|       32.55781003403376|\n",
      "|2023|    1|         41.24|          41.46|         41.91|           -0.22|               0.0|[41.24,41.46,-0.22]|[0.29104,0.294711...|       35.40586802900288|\n",
      "|2023|    2|          42.2|          42.12|          42.7|            0.09|               0.0|  [42.2,42.12,0.09]|[0.30640000000000...|       35.55986993580421|\n",
      "|2023|    3|         38.15|          38.01|         38.61|            0.14|               0.0| [38.15,38.01,0.14]|[0.24159999999999...|       36.22660534188273|\n",
      "|2023|    4|          37.1|          37.16|         37.65|           -0.07|               0.0| [37.1,37.16,-0.07]|[0.22480000000000...|       32.55781003403376|\n",
      "|2023|    5|         39.22|          39.03|         39.62|            0.19|               0.0| [39.22,39.03,0.19]|[0.25871999999999...|       39.68617336135703|\n",
      "|2023|    6|         42.36|          42.98|         43.46|           -0.62|               0.0|[42.36,42.98,-0.62]|[0.30896,0.319070...|       45.18371905809617|\n",
      "+----+-----+--------------+---------------+--------------+----------------+------------------+-------------------+--------------------+------------------------+\n",
      "only showing top 10 rows\n",
      "\n"
     ]
    }
   ],
   "source": [
    "# Predict the Avg_Price_High on the test data \n",
    "predictions_test = rf_model.transform(test_data).withColumnRenamed(\"prediction\", \"predicted_Avg_Price_High\")\n",
    "predictions_test.show(10)"
   ]
  },
  {
   "cell_type": "code",
   "execution_count": 20,
   "id": "50c076e2-5cdb-4ebb-8cdd-d8b3a48b383e",
   "metadata": {},
   "outputs": [
    {
     "name": "stdout",
     "output_type": "stream",
     "text": [
      "+----+-----+--------------+---------------+--------------+----------------+------------------+-------------------+--------------------+------------------------+\n",
      "|Year|Month|Avg_Price_Open|Avg_Price_Close|Avg_Price_High|Avg_Daily_Return|Instrument_Encoded|    feature_vectors|     scaled_features|predicted_Avg_Price_High|\n",
      "+----+-----+--------------+---------------+--------------+----------------+------------------+-------------------+--------------------+------------------------+\n",
      "|2019|    1|         45.81|          46.04|         46.84|           -0.23|               0.0|[45.81,46.04,-0.23]|[0.36416000000000...|       35.40586802900288|\n",
      "|2019|    2|         49.48|          49.58|          50.3|            -0.1|               0.0| [49.48,49.58,-0.1]|[0.42287999999999...|       33.70631646969842|\n",
      "|2019|    3|         48.67|          48.54|         49.32|            0.13|               0.0| [48.67,48.54,0.13]|[0.40992,0.408173...|      37.375111777547396|\n",
      "|2019|    4|         52.09|          52.15|          52.8|           -0.06|               0.0|[52.09,52.15,-0.06]|[0.46464000000000...|      45.445723730214795|\n",
      "|2019|    5|         43.69|          43.42|         44.12|            0.27|               0.0| [43.69,43.42,0.27]|[0.33024,0.326121...|       42.32353501658542|\n",
      "|2019|    6|         42.12|          42.35|         42.99|           -0.23|               0.0|[42.12,42.35,-0.23]|[0.30511999999999...|       35.40586802900288|\n",
      "|2019|    7|         42.76|          42.59|         43.36|            0.17|               0.0| [42.76,42.59,0.17]|[0.31536,0.312820...|       39.68617336135703|\n",
      "|2019|    8|         39.48|          39.47|         40.08|            0.01|               0.0| [39.48,39.47,0.01]|[0.26287999999999...|       33.70631646969842|\n",
      "|2019|    9|         43.26|           43.4|          43.9|           -0.14|               0.0| [43.26,43.4,-0.14]|[0.32336,0.325801...|       35.40586802900288|\n",
      "|2019|   10|         44.85|          44.76|         45.49|            0.09|               0.0| [44.85,44.76,0.09]|[0.3488,0.3475961...|       35.55986993580421|\n",
      "+----+-----+--------------+---------------+--------------+----------------+------------------+-------------------+--------------------+------------------------+\n",
      "only showing top 10 rows\n",
      "\n"
     ]
    }
   ],
   "source": [
    "# Predict the Avg_Price_High on the traning data as well - to check for overfitting/underfitting later on  \n",
    "predictions_train = rf_model.transform(train_data).withColumnRenamed(\"prediction\", \"predicted_Avg_Price_High\")\n",
    "predictions_train.show(10)"
   ]
  },
  {
   "cell_type": "markdown",
   "id": "0915cacc-5ec7-4ddc-924b-8e6c688895e4",
   "metadata": {},
   "source": [
    "### Step-7 : Performance Evaluation of the Random Forest Regressor"
   ]
  },
  {
   "cell_type": "code",
   "execution_count": 21,
   "id": "15583c17-df26-45d6-9d95-82df2eef0471",
   "metadata": {},
   "outputs": [
    {
     "name": "stdout",
     "output_type": "stream",
     "text": [
      "function evaluate_RMSE() compiled ...\n",
      "function evaluate_R2() compiled ...\n"
     ]
    }
   ],
   "source": [
    "''' \n",
    "@evaluate_RMSE(): function to calculate the Root-Mean-Sqaured-Error or RMSE between actual and predicted values \n",
    "@params: labelCol - column containing actual values, predictionCol - column containing predicted values, df - input dataframe \n",
    "@return: None \n",
    "'''\n",
    "def evaulate_RMSE(labelCol, predictionCol, df):\n",
    "    evaluator_rmse = RegressionEvaluator(labelCol=labelCol, predictionCol=predictionCol, metricName='rmse')\n",
    "    rmse = evaluator_rmse.evaluate(df)\n",
    "    print(\"RMSE for \" + predictionCol)\n",
    "    print(f\"Root Mean Squared Error (RMSE): {rmse}\")\n",
    "    print(\"\\n\")\n",
    "\n",
    "print('function evaluate_RMSE() compiled ...')\n",
    "''' \n",
    "@evaluate_R2(): function to calculate the R2 measure and determine how much variance has been explained by the model  \n",
    "@params: labelCol - column containing actual values, predictionCol - column containing predicted values, df - input dataframe \n",
    "@return: None \n",
    "'''\n",
    "def evaluate_R2(labelCol, predictionCol, df):\n",
    "    evaluator_r2 = RegressionEvaluator(labelCol=labelCol, predictionCol=predictionCol, metricName='r2')\n",
    "    r2 = evaluator_r2.evaluate(df)\n",
    "    print(\"R-squared measure for \" + predictionCol)\n",
    "    print(f\"R-squared (R2): {r2}\")\n",
    "    print(\"\\n\")\n",
    "\n",
    "print('function evaluate_R2() compiled ...')"
   ]
  },
  {
   "cell_type": "markdown",
   "id": "f714fd34-5294-455b-8caf-1655327cb235",
   "metadata": {},
   "source": [
    "#### Test Data : January 2023 to September 2023"
   ]
  },
  {
   "cell_type": "code",
   "execution_count": 22,
   "id": "a05bfc9a-77d7-41d0-bbb1-65f690e1407f",
   "metadata": {},
   "outputs": [
    {
     "name": "stdout",
     "output_type": "stream",
     "text": [
      "RMSE for predicted_Avg_Price_High\n",
      "Root Mean Squared Error (RMSE): 118.49616979940322\n",
      "\n",
      "\n",
      "R-squared measure for predicted_Avg_Price_High\n",
      "R-squared (R2): 0.7838765986145404\n",
      "\n",
      "\n",
      "Mean Absolute Error (MAE) measure for Avg_Price_High\n",
      " MAE : 27.16300779821565\n",
      "\n",
      "\n",
      "Mean Absolute Percentage Error (MAPE) measure for Avg_Price_High\n",
      "MAPE : 1148.5127039834601\n",
      "\n",
      "\n"
     ]
    }
   ],
   "source": [
    "evaulate_RMSE(\"Avg_Price_High\", \"predicted_Avg_Price_High\", predictions_test)\n",
    "evaluate_R2(\"Avg_Price_High\", \"predicted_Avg_Price_High\", predictions_test)\n",
    "\n",
    "# Calculate MAE (Mean Absolute Error)\n",
    "predictions_test = predictions_test.withColumn(\"MAE\", abs(col(\"Avg_Price_High\") - col(\"predicted_Avg_Price_High\")))\n",
    "\n",
    "predictions_test = predictions_test.withColumn(\n",
    "    \"MAPE\",\n",
    "    (abs((col(\"Avg_Price_High\") - col(\"predicted_Avg_Price_High\")) / col(\"Avg_Price_High\"))) * 100\n",
    ")\n",
    "\n",
    "avg_mae = predictions_test.selectExpr(\"avg(MAE)\").first()[0]\n",
    "avg_mape = predictions_test.selectExpr(\"avg(MAPE)\").first()[0]\n",
    "\n",
    "\n",
    "\n",
    "print(\"Mean Absolute Error (MAE) measure for Avg_Price_High\")\n",
    "print(f\" MAE : {avg_mae}\")\n",
    "print(\"\\n\")\n",
    "\n",
    "print(\"Mean Absolute Percentage Error (MAPE) measure for Avg_Price_High\")\n",
    "print(f\"MAPE : {avg_mape}\")\n",
    "print(\"\\n\")\n"
   ]
  },
  {
   "cell_type": "code",
   "execution_count": 23,
   "id": "758f163a-24be-4708-8892-863b3402c06b",
   "metadata": {},
   "outputs": [
    {
     "data": {
      "image/png": "[encoded data removed]",
      "text/plain": [
       "<Figure size 1000x600 with 1 Axes>"
      ]
     },
     "metadata": {},
     "output_type": "display_data"
    }
   ],
   "source": [
    "# Plot actual vs. predicted values\n",
    "# Extract actual and predicted values\n",
    "actual_values = predictions_test.select(\"Avg_Price_High\").rdd.map(lambda row: row[0]).collect()\n",
    "predicted_values = predictions_test.select(\"predicted_Avg_Price_High\").rdd.map(lambda row: row[0]).collect()\n",
    "\n",
    "plt.figure(figsize=(10, 6))\n",
    "plt.plot(actual_values, label=\"Actual\")\n",
    "plt.plot(predicted_values, label=\"Predicted\")\n",
    "plt.xlabel(\"Data Points\")\n",
    "plt.ylabel(\"Avg_Price_High\")\n",
    "plt.legend()\n",
    "plt.show()"
   ]
  },
  {
   "cell_type": "markdown",
   "id": "1ebec11a-b502-42fc-bc4e-79a4b42ce701",
   "metadata": {},
   "source": [
    "#### Training Data : January 2019 to December 2022"
   ]
  },
  {
   "cell_type": "code",
   "execution_count": 24,
   "id": "5e1d8d6b-1794-49f4-b8b3-f334adf0a797",
   "metadata": {},
   "outputs": [
    {
     "name": "stdout",
     "output_type": "stream",
     "text": [
      "RMSE for predicted_Avg_Price_High\n",
      "Root Mean Squared Error (RMSE): 128.59690359903712\n",
      "\n",
      "\n",
      "R-squared measure for predicted_Avg_Price_High\n",
      "R-squared (R2): 0.77635844468154\n",
      "\n",
      "\n",
      "Mean Absolute Error (MAE) measure for Avg_Price_High\n",
      " MAE : 28.759735416682762\n",
      "\n",
      "\n",
      "Mean Absolute Percentage Error (MAPE) measure for Avg_Price_High\n",
      "MAPE : 533.3313329109918\n",
      "\n",
      "\n"
     ]
    }
   ],
   "source": [
    "evaulate_RMSE(\"Avg_Price_High\", \"predicted_Avg_Price_High\", predictions_train)\n",
    "evaluate_R2(\"Avg_Price_High\", \"predicted_Avg_Price_High\", predictions_train)\n",
    "\n",
    "# Calculate MAE (Mean Absolute Error)\n",
    "predictions_train = predictions_train.withColumn(\"MAE\", abs(col(\"Avg_Price_High\") - col(\"predicted_Avg_Price_High\")))\n",
    "\n",
    "predictions_train = predictions_train.withColumn(\n",
    "    \"MAPE\",\n",
    "    (abs((col(\"Avg_Price_High\") - col(\"predicted_Avg_Price_High\")) / col(\"Avg_Price_High\"))) * 100\n",
    ")\n",
    "\n",
    "\n",
    "avg_mae_train = predictions_train.selectExpr(\"avg(MAE)\").first()[0]\n",
    "avg_mape_train = predictions_train.selectExpr(\"avg(MAPE)\").first()[0]\n",
    "\n",
    "\n",
    "print(\"Mean Absolute Error (MAE) measure for Avg_Price_High\")\n",
    "print(f\" MAE : {avg_mae_train}\")\n",
    "print(\"\\n\")\n",
    "\n",
    "print(\"Mean Absolute Percentage Error (MAPE) measure for Avg_Price_High\")\n",
    "print(f\"MAPE : {avg_mape_train}\")\n",
    "print(\"\\n\")\n"
   ]
  },
  {
   "cell_type": "code",
   "execution_count": 25,
   "id": "9d992950-21fc-4a6f-b33a-41e155808b66",
   "metadata": {},
   "outputs": [
    {
     "data": {
      "image/png": "[encoded data removed]",
      "text/plain": [
       "<Figure size 1000x600 with 1 Axes>"
      ]
     },
     "metadata": {},
     "output_type": "display_data"
    }
   ],
   "source": [
    "# Plot actual vs. predicted values\n",
    "# Extract actual and predicted values\n",
    "actual_values_train = predictions_train.select(\"Avg_Price_High\").rdd.map(lambda row: row[0]).collect()\n",
    "predicted_values_train = predictions_train.select(\"predicted_Avg_Price_High\").rdd.map(lambda row: row[0]).collect()\n",
    "\n",
    "plt.figure(figsize=(10, 6))\n",
    "plt.plot(actual_values_train, label=\"Actual\")\n",
    "plt.plot(predicted_values_train, label=\"Predicted\")\n",
    "plt.xlabel(\"Data Points\")\n",
    "plt.ylabel(\"Avg_Price_High\")\n",
    "plt.legend()\n",
    "plt.show()"
   ]
  },
  {
   "cell_type": "markdown",
   "id": "61993469-7e41-482b-89d5-c5289c0ab9c0",
   "metadata": {},
   "source": [
    "### Observations: \n",
    "- The performance of the Random Forest Regressor is very similar on both training and test data.\n",
    "- Different Regression Testing measures like RMSE, R2, MAE and MAPE are similar for training and test sets.\n",
    "- So, we can conclude that there is no overfitting or underfitting based on our current setup.\n",
    "- While the R2 is pretty good, explaining about 92% of the variance, RMSE, MAE and MAPE are very high, which means there is a large difference between the actual and predicted `Avg_Price_High`. \n",
    "- We will record these regression test results and later compare them with the LSTM model from the Deep Learning Stack.  "
   ]
  },
  {
   "cell_type": "markdown",
   "id": "baa74a0e-b342-4741-b108-a38ccc558063",
   "metadata": {},
   "source": [
    "## LSTM RNN Model"
   ]
  },
  {
   "cell_type": "markdown",
   "id": "511aa04c-8bc4-4b08-a8c2-f5bca97907ac",
   "metadata": {},
   "source": [
    "Now that we have built the Random Forest Regressor from the Machine Learning stack and recorded its performance measure, we will now built a Long-Short-Term-Memory from the Deep Learning Stack. LSTM is a Recurrent-Neural-Network model that is known for sequential time-series prediction. As the name suggests, it captures short term memory of a traditional RNN and repeats it step over step for a longer time period. \n",
    "\n",
    "Since, we have already encoded numeric indexes, created feature vectors and scale features in the Random Forest Pipeline, we will reuse the instance as these are the same steps in the LSTM pipeline as well. \n",
    "\n",
    "So, our step-1 for LSTM continues from the Standard Scaler step of the Random Forest Pipeline. "
   ]
  },
  {
   "cell_type": "code",
   "execution_count": 26,
   "id": "47bc21bd-2d27-4824-a99f-f3db0ad55013",
   "metadata": {},
   "outputs": [
    {
     "name": "stdout",
     "output_type": "stream",
     "text": [
      "+----+-----+--------------+---------------+--------------+----------------+------------------+-------------------+--------------------+\n",
      "|Year|Month|Avg_Price_Open|Avg_Price_Close|Avg_Price_High|Avg_Daily_Return|Instrument_Encoded|    feature_vectors|     scaled_features|\n",
      "+----+-----+--------------+---------------+--------------+----------------+------------------+-------------------+--------------------+\n",
      "|2019|    1|         45.81|          46.04|         46.84|           -0.23|               0.0|[45.81,46.04,-0.23]|[0.36416000000000...|\n",
      "|2019|    2|         49.48|          49.58|          50.3|            -0.1|               0.0| [49.48,49.58,-0.1]|[0.42287999999999...|\n",
      "|2019|    3|         48.67|          48.54|         49.32|            0.13|               0.0| [48.67,48.54,0.13]|[0.40992,0.408173...|\n",
      "|2019|    4|         52.09|          52.15|          52.8|           -0.06|               0.0|[52.09,52.15,-0.06]|[0.46464000000000...|\n",
      "|2019|    5|         43.69|          43.42|         44.12|            0.27|               0.0| [43.69,43.42,0.27]|[0.33024,0.326121...|\n",
      "+----+-----+--------------+---------------+--------------+----------------+------------------+-------------------+--------------------+\n",
      "only showing top 5 rows\n",
      "\n"
     ]
    }
   ],
   "source": [
    "data_stocks_featureScaled.show(5)"
   ]
  },
  {
   "cell_type": "markdown",
   "id": "e02f8812-b75a-4d55-80df-9dc96dca91eb",
   "metadata": {},
   "source": [
    "### Step-1: Create lagging sequences based on the Scaled Features"
   ]
  },
  {
   "cell_type": "code",
   "execution_count": 27,
   "id": "7e568b1b-f1f3-40ef-b60a-b75405a3691e",
   "metadata": {},
   "outputs": [],
   "source": [
    "# Define the sequence length\n",
    "from pyspark.sql.window import Window\n",
    "\n",
    "# we define a sequence length of 12 - for every month in a year \n",
    "sequence_length = 12\n",
    "\n",
    "# Use Window function to create sequences\n",
    "window_spec = Window.partitionBy(\"Instrument_Encoded\").orderBy(\"Year\", \"Month\")\n",
    "for i in range(1, sequence_length + 1):\n",
    "    lag_col = \"lag_{}\".format(i)\n",
    "    data_stocks_featureScaled = data_stocks_featureScaled.withColumn(lag_col, lag(data_stocks_featureScaled[\"feature_vectors\"], i).over(window_spec))"
   ]
  },
  {
   "cell_type": "code",
   "execution_count": 28,
   "id": "172f64f3-bfd7-468e-bb3d-b4425caad02e",
   "metadata": {},
   "outputs": [
    {
     "name": "stdout",
     "output_type": "stream",
     "text": [
      "+----+-----+--------------+---------------+--------------+----------------+------------------+-------------------+--------------------+-------------------+-------------------+-------------------+-------------------+-------------------+-------------------+-------------------+-------------------+-------------------+-------------------+-------------------+-------------------+\n",
      "|Year|Month|Avg_Price_Open|Avg_Price_Close|Avg_Price_High|Avg_Daily_Return|Instrument_Encoded|    feature_vectors|     scaled_features|              lag_1|              lag_2|              lag_3|              lag_4|              lag_5|              lag_6|              lag_7|              lag_8|              lag_9|             lag_10|             lag_11|             lag_12|\n",
      "+----+-----+--------------+---------------+--------------+----------------+------------------+-------------------+--------------------+-------------------+-------------------+-------------------+-------------------+-------------------+-------------------+-------------------+-------------------+-------------------+-------------------+-------------------+-------------------+\n",
      "|2019|    1|         45.81|          46.04|         46.84|           -0.23|               0.0|[45.81,46.04,-0.23]|[0.36416000000000...|               null|               null|               null|               null|               null|               null|               null|               null|               null|               null|               null|               null|\n",
      "|2019|    2|         49.48|          49.58|          50.3|            -0.1|               0.0| [49.48,49.58,-0.1]|[0.42287999999999...|[45.81,46.04,-0.23]|               null|               null|               null|               null|               null|               null|               null|               null|               null|               null|               null|\n",
      "|2019|    3|         48.67|          48.54|         49.32|            0.13|               0.0| [48.67,48.54,0.13]|[0.40992,0.408173...| [49.48,49.58,-0.1]|[45.81,46.04,-0.23]|               null|               null|               null|               null|               null|               null|               null|               null|               null|               null|\n",
      "|2019|    4|         52.09|          52.15|          52.8|           -0.06|               0.0|[52.09,52.15,-0.06]|[0.46464000000000...| [48.67,48.54,0.13]| [49.48,49.58,-0.1]|[45.81,46.04,-0.23]|               null|               null|               null|               null|               null|               null|               null|               null|               null|\n",
      "|2019|    5|         43.69|          43.42|         44.12|            0.27|               0.0| [43.69,43.42,0.27]|[0.33024,0.326121...|[52.09,52.15,-0.06]| [48.67,48.54,0.13]| [49.48,49.58,-0.1]|[45.81,46.04,-0.23]|               null|               null|               null|               null|               null|               null|               null|               null|\n",
      "|2019|    6|         42.12|          42.35|         42.99|           -0.23|               0.0|[42.12,42.35,-0.23]|[0.30511999999999...| [43.69,43.42,0.27]|[52.09,52.15,-0.06]| [48.67,48.54,0.13]| [49.48,49.58,-0.1]|[45.81,46.04,-0.23]|               null|               null|               null|               null|               null|               null|               null|\n",
      "|2019|    7|         42.76|          42.59|         43.36|            0.17|               0.0| [42.76,42.59,0.17]|[0.31536,0.312820...|[42.12,42.35,-0.23]| [43.69,43.42,0.27]|[52.09,52.15,-0.06]| [48.67,48.54,0.13]| [49.48,49.58,-0.1]|[45.81,46.04,-0.23]|               null|               null|               null|               null|               null|               null|\n",
      "|2019|    8|         39.48|          39.47|         40.08|            0.01|               0.0| [39.48,39.47,0.01]|[0.26287999999999...| [42.76,42.59,0.17]|[42.12,42.35,-0.23]| [43.69,43.42,0.27]|[52.09,52.15,-0.06]| [48.67,48.54,0.13]| [49.48,49.58,-0.1]|[45.81,46.04,-0.23]|               null|               null|               null|               null|               null|\n",
      "|2019|    9|         43.26|           43.4|          43.9|           -0.14|               0.0| [43.26,43.4,-0.14]|[0.32336,0.325801...| [39.48,39.47,0.01]| [42.76,42.59,0.17]|[42.12,42.35,-0.23]| [43.69,43.42,0.27]|[52.09,52.15,-0.06]| [48.67,48.54,0.13]| [49.48,49.58,-0.1]|[45.81,46.04,-0.23]|               null|               null|               null|               null|\n",
      "|2019|   10|         44.85|          44.76|         45.49|            0.09|               0.0| [44.85,44.76,0.09]|[0.3488,0.3475961...| [43.26,43.4,-0.14]| [39.48,39.47,0.01]| [42.76,42.59,0.17]|[42.12,42.35,-0.23]| [43.69,43.42,0.27]|[52.09,52.15,-0.06]| [48.67,48.54,0.13]| [49.48,49.58,-0.1]|[45.81,46.04,-0.23]|               null|               null|               null|\n",
      "|2019|   11|         44.62|          44.58|         45.12|            0.04|               0.0| [44.62,44.58,0.04]|[0.34512,0.344711...| [44.85,44.76,0.09]| [43.26,43.4,-0.14]| [39.48,39.47,0.01]| [42.76,42.59,0.17]|[42.12,42.35,-0.23]| [43.69,43.42,0.27]|[52.09,52.15,-0.06]| [48.67,48.54,0.13]| [49.48,49.58,-0.1]|[45.81,46.04,-0.23]|               null|               null|\n",
      "|2019|   12|         42.07|          41.94|         42.48|            0.13|               0.0| [42.07,41.94,0.13]|[0.30432,0.302403...| [44.62,44.58,0.04]| [44.85,44.76,0.09]| [43.26,43.4,-0.14]| [39.48,39.47,0.01]| [42.76,42.59,0.17]|[42.12,42.35,-0.23]| [43.69,43.42,0.27]|[52.09,52.15,-0.06]| [48.67,48.54,0.13]| [49.48,49.58,-0.1]|[45.81,46.04,-0.23]|               null|\n",
      "|2020|    1|         40.44|          40.29|         40.87|            0.15|               0.0| [40.44,40.29,0.15]|[0.27823999999999...| [42.07,41.94,0.13]| [44.62,44.58,0.04]| [44.85,44.76,0.09]| [43.26,43.4,-0.14]| [39.48,39.47,0.01]| [42.76,42.59,0.17]|[42.12,42.35,-0.23]| [43.69,43.42,0.27]|[52.09,52.15,-0.06]| [48.67,48.54,0.13]| [49.48,49.58,-0.1]|[45.81,46.04,-0.23]|\n",
      "|2020|    2|         38.67|          38.61|         39.18|            0.06|               0.0| [38.67,38.61,0.06]|[0.24992000000000...| [40.44,40.29,0.15]| [42.07,41.94,0.13]| [44.62,44.58,0.04]| [44.85,44.76,0.09]| [43.26,43.4,-0.14]| [39.48,39.47,0.01]| [42.76,42.59,0.17]|[42.12,42.35,-0.23]| [43.69,43.42,0.27]|[52.09,52.15,-0.06]| [48.67,48.54,0.13]| [49.48,49.58,-0.1]|\n",
      "|2020|    3|         29.14|          28.82|         29.87|            0.32|               0.0| [29.14,28.82,0.32]|[0.09744,0.092147...| [38.67,38.61,0.06]| [40.44,40.29,0.15]| [42.07,41.94,0.13]| [44.62,44.58,0.04]| [44.85,44.76,0.09]| [43.26,43.4,-0.14]| [39.48,39.47,0.01]| [42.76,42.59,0.17]|[42.12,42.35,-0.23]| [43.69,43.42,0.27]|[52.09,52.15,-0.06]| [48.67,48.54,0.13]|\n",
      "|2020|    4|         29.53|          29.51|         29.97|            0.03|               0.0| [29.53,29.51,0.03]|[0.10368000000000...| [29.14,28.82,0.32]| [38.67,38.61,0.06]| [40.44,40.29,0.15]| [42.07,41.94,0.13]| [44.62,44.58,0.04]| [44.85,44.76,0.09]| [43.26,43.4,-0.14]| [39.48,39.47,0.01]| [42.76,42.59,0.17]|[42.12,42.35,-0.23]| [43.69,43.42,0.27]|[52.09,52.15,-0.06]|\n",
      "|2020|    5|         30.96|          31.06|         31.47|            -0.1|               0.0| [30.96,31.06,-0.1]|[0.12656,0.128044...| [29.53,29.51,0.03]| [29.14,28.82,0.32]| [38.67,38.61,0.06]| [40.44,40.29,0.15]| [42.07,41.94,0.13]| [44.62,44.58,0.04]| [44.85,44.76,0.09]| [43.26,43.4,-0.14]| [39.48,39.47,0.01]| [42.76,42.59,0.17]|[42.12,42.35,-0.23]| [43.69,43.42,0.27]|\n",
      "|2020|    6|         34.38|          34.34|         34.99|            0.04|               0.0| [34.38,34.34,0.04]|[0.18128000000000...| [30.96,31.06,-0.1]| [29.53,29.51,0.03]| [29.14,28.82,0.32]| [38.67,38.61,0.06]| [40.44,40.29,0.15]| [42.07,41.94,0.13]| [44.62,44.58,0.04]| [44.85,44.76,0.09]| [43.26,43.4,-0.14]| [39.48,39.47,0.01]| [42.76,42.59,0.17]|[42.12,42.35,-0.23]|\n",
      "|2020|    7|         35.65|          35.58|          36.1|            0.06|               0.0| [35.65,35.58,0.06]|[0.20159999999999...| [34.38,34.34,0.04]| [30.96,31.06,-0.1]| [29.53,29.51,0.03]| [29.14,28.82,0.32]| [38.67,38.61,0.06]| [40.44,40.29,0.15]| [42.07,41.94,0.13]| [44.62,44.58,0.04]| [44.85,44.76,0.09]| [43.26,43.4,-0.14]| [39.48,39.47,0.01]| [42.76,42.59,0.17]|\n",
      "|2020|    8|         37.64|          37.86|         38.26|           -0.23|               0.0|[37.64,37.86,-0.23]|[0.23344,0.237019...| [35.65,35.58,0.06]| [34.38,34.34,0.04]| [30.96,31.06,-0.1]| [29.53,29.51,0.03]| [29.14,28.82,0.32]| [38.67,38.61,0.06]| [40.44,40.29,0.15]| [42.07,41.94,0.13]| [44.62,44.58,0.04]| [44.85,44.76,0.09]| [43.26,43.4,-0.14]| [39.48,39.47,0.01]|\n",
      "+----+-----+--------------+---------------+--------------+----------------+------------------+-------------------+--------------------+-------------------+-------------------+-------------------+-------------------+-------------------+-------------------+-------------------+-------------------+-------------------+-------------------+-------------------+-------------------+\n",
      "only showing top 20 rows\n",
      "\n"
     ]
    }
   ],
   "source": [
    "data_stocks_featureScaled.show(20)"
   ]
  },
  {
   "cell_type": "code",
   "execution_count": 29,
   "id": "15aa04f8-e50b-462a-b337-ef4d6029e8ed",
   "metadata": {},
   "outputs": [],
   "source": [
    "data_stocks_featureScaled = data_stocks_featureScaled.dropna()"
   ]
  },
  {
   "cell_type": "code",
   "execution_count": 30,
   "id": "27a688a2-d766-4e73-b549-d21bc25f2186",
   "metadata": {},
   "outputs": [
    {
     "name": "stdout",
     "output_type": "stream",
     "text": [
      "+----+-----+--------------+---------------+--------------+----------------+------------------+-------------------+--------------------+-------------------+-------------------+-------------------+-------------------+-------------------+-------------------+-------------------+-------------------+-------------------+-------------------+-------------------+-------------------+\n",
      "|Year|Month|Avg_Price_Open|Avg_Price_Close|Avg_Price_High|Avg_Daily_Return|Instrument_Encoded|    feature_vectors|     scaled_features|              lag_1|              lag_2|              lag_3|              lag_4|              lag_5|              lag_6|              lag_7|              lag_8|              lag_9|             lag_10|             lag_11|             lag_12|\n",
      "+----+-----+--------------+---------------+--------------+----------------+------------------+-------------------+--------------------+-------------------+-------------------+-------------------+-------------------+-------------------+-------------------+-------------------+-------------------+-------------------+-------------------+-------------------+-------------------+\n",
      "|2020|    1|         40.44|          40.29|         40.87|            0.15|               0.0| [40.44,40.29,0.15]|[0.27823999999999...| [42.07,41.94,0.13]| [44.62,44.58,0.04]| [44.85,44.76,0.09]| [43.26,43.4,-0.14]| [39.48,39.47,0.01]| [42.76,42.59,0.17]|[42.12,42.35,-0.23]| [43.69,43.42,0.27]|[52.09,52.15,-0.06]| [48.67,48.54,0.13]| [49.48,49.58,-0.1]|[45.81,46.04,-0.23]|\n",
      "|2020|    2|         38.67|          38.61|         39.18|            0.06|               0.0| [38.67,38.61,0.06]|[0.24992000000000...| [40.44,40.29,0.15]| [42.07,41.94,0.13]| [44.62,44.58,0.04]| [44.85,44.76,0.09]| [43.26,43.4,-0.14]| [39.48,39.47,0.01]| [42.76,42.59,0.17]|[42.12,42.35,-0.23]| [43.69,43.42,0.27]|[52.09,52.15,-0.06]| [48.67,48.54,0.13]| [49.48,49.58,-0.1]|\n",
      "|2020|    3|         29.14|          28.82|         29.87|            0.32|               0.0| [29.14,28.82,0.32]|[0.09744,0.092147...| [38.67,38.61,0.06]| [40.44,40.29,0.15]| [42.07,41.94,0.13]| [44.62,44.58,0.04]| [44.85,44.76,0.09]| [43.26,43.4,-0.14]| [39.48,39.47,0.01]| [42.76,42.59,0.17]|[42.12,42.35,-0.23]| [43.69,43.42,0.27]|[52.09,52.15,-0.06]| [48.67,48.54,0.13]|\n",
      "|2020|    4|         29.53|          29.51|         29.97|            0.03|               0.0| [29.53,29.51,0.03]|[0.10368000000000...| [29.14,28.82,0.32]| [38.67,38.61,0.06]| [40.44,40.29,0.15]| [42.07,41.94,0.13]| [44.62,44.58,0.04]| [44.85,44.76,0.09]| [43.26,43.4,-0.14]| [39.48,39.47,0.01]| [42.76,42.59,0.17]|[42.12,42.35,-0.23]| [43.69,43.42,0.27]|[52.09,52.15,-0.06]|\n",
      "|2020|    5|         30.96|          31.06|         31.47|            -0.1|               0.0| [30.96,31.06,-0.1]|[0.12656,0.128044...| [29.53,29.51,0.03]| [29.14,28.82,0.32]| [38.67,38.61,0.06]| [40.44,40.29,0.15]| [42.07,41.94,0.13]| [44.62,44.58,0.04]| [44.85,44.76,0.09]| [43.26,43.4,-0.14]| [39.48,39.47,0.01]| [42.76,42.59,0.17]|[42.12,42.35,-0.23]| [43.69,43.42,0.27]|\n",
      "|2020|    6|         34.38|          34.34|         34.99|            0.04|               0.0| [34.38,34.34,0.04]|[0.18128000000000...| [30.96,31.06,-0.1]| [29.53,29.51,0.03]| [29.14,28.82,0.32]| [38.67,38.61,0.06]| [40.44,40.29,0.15]| [42.07,41.94,0.13]| [44.62,44.58,0.04]| [44.85,44.76,0.09]| [43.26,43.4,-0.14]| [39.48,39.47,0.01]| [42.76,42.59,0.17]|[42.12,42.35,-0.23]|\n",
      "|2020|    7|         35.65|          35.58|          36.1|            0.06|               0.0| [35.65,35.58,0.06]|[0.20159999999999...| [34.38,34.34,0.04]| [30.96,31.06,-0.1]| [29.53,29.51,0.03]| [29.14,28.82,0.32]| [38.67,38.61,0.06]| [40.44,40.29,0.15]| [42.07,41.94,0.13]| [44.62,44.58,0.04]| [44.85,44.76,0.09]| [43.26,43.4,-0.14]| [39.48,39.47,0.01]| [42.76,42.59,0.17]|\n",
      "|2020|    8|         37.64|          37.86|         38.26|           -0.23|               0.0|[37.64,37.86,-0.23]|[0.23344,0.237019...| [35.65,35.58,0.06]| [34.38,34.34,0.04]| [30.96,31.06,-0.1]| [29.53,29.51,0.03]| [29.14,28.82,0.32]| [38.67,38.61,0.06]| [40.44,40.29,0.15]| [42.07,41.94,0.13]| [44.62,44.58,0.04]| [44.85,44.76,0.09]| [43.26,43.4,-0.14]| [39.48,39.47,0.01]|\n",
      "|2020|    9|         43.67|          43.61|         44.21|            0.06|               0.0| [43.67,43.61,0.06]|[0.32992000000000...|[37.64,37.86,-0.23]| [35.65,35.58,0.06]| [34.38,34.34,0.04]| [30.96,31.06,-0.1]| [29.53,29.51,0.03]| [29.14,28.82,0.32]| [38.67,38.61,0.06]| [40.44,40.29,0.15]| [42.07,41.94,0.13]| [44.62,44.58,0.04]| [44.85,44.76,0.09]| [43.26,43.4,-0.14]|\n",
      "|2020|   10|          43.5|          43.43|         44.07|            0.07|               0.0|  [43.5,43.43,0.07]|[0.3272,0.3262820...| [43.67,43.61,0.06]|[37.64,37.86,-0.23]| [35.65,35.58,0.06]| [34.38,34.34,0.04]| [30.96,31.06,-0.1]| [29.53,29.51,0.03]| [29.14,28.82,0.32]| [38.67,38.61,0.06]| [40.44,40.29,0.15]| [42.07,41.94,0.13]| [44.62,44.58,0.04]| [44.85,44.76,0.09]|\n",
      "|2020|   11|         44.71|          44.96|         45.38|           -0.25|               0.0|[44.71,44.96,-0.25]|[0.34656000000000...|  [43.5,43.43,0.07]| [43.67,43.61,0.06]|[37.64,37.86,-0.23]| [35.65,35.58,0.06]| [34.38,34.34,0.04]| [30.96,31.06,-0.1]| [29.53,29.51,0.03]| [29.14,28.82,0.32]| [38.67,38.61,0.06]| [40.44,40.29,0.15]| [42.07,41.94,0.13]| [44.62,44.58,0.04]|\n",
      "|2020|   12|         49.23|          49.23|         49.72|             0.0|               0.0|  [49.23,49.23,0.0]|[0.41888,0.419230...|[44.71,44.96,-0.25]|  [43.5,43.43,0.07]| [43.67,43.61,0.06]|[37.64,37.86,-0.23]| [35.65,35.58,0.06]| [34.38,34.34,0.04]| [30.96,31.06,-0.1]| [29.53,29.51,0.03]| [29.14,28.82,0.32]| [38.67,38.61,0.06]| [40.44,40.29,0.15]| [42.07,41.94,0.13]|\n",
      "|2021|    1|         54.53|          54.71|          55.4|           -0.19|               0.0|[54.53,54.71,-0.19]|[0.50368,0.507051...|  [49.23,49.23,0.0]|[44.71,44.96,-0.25]|  [43.5,43.43,0.07]| [43.67,43.61,0.06]|[37.64,37.86,-0.23]| [35.65,35.58,0.06]| [34.38,34.34,0.04]| [30.96,31.06,-0.1]| [29.53,29.51,0.03]| [29.14,28.82,0.32]| [38.67,38.61,0.06]| [40.44,40.29,0.15]|\n",
      "|2021|    2|         59.17|          59.17|         59.83|             0.0|               0.0|  [59.17,59.17,0.0]|[0.57792000000000...|[54.53,54.71,-0.19]|  [49.23,49.23,0.0]|[44.71,44.96,-0.25]|  [43.5,43.43,0.07]| [43.67,43.61,0.06]|[37.64,37.86,-0.23]| [35.65,35.58,0.06]| [34.38,34.34,0.04]| [30.96,31.06,-0.1]| [29.53,29.51,0.03]| [29.14,28.82,0.32]| [38.67,38.61,0.06]|\n",
      "|2021|    3|         58.31|          58.21|         58.92|             0.1|               0.0|  [58.31,58.21,0.1]|[0.56416000000000...|  [59.17,59.17,0.0]|[54.53,54.71,-0.19]|  [49.23,49.23,0.0]|[44.71,44.96,-0.25]|  [43.5,43.43,0.07]| [43.67,43.61,0.06]|[37.64,37.86,-0.23]| [35.65,35.58,0.06]| [34.38,34.34,0.04]| [30.96,31.06,-0.1]| [29.53,29.51,0.03]| [29.14,28.82,0.32]|\n",
      "|2021|    4|         56.65|          56.23|         57.22|            0.42|               0.0| [56.65,56.23,0.42]|[0.5376,0.5314102...|  [58.31,58.21,0.1]|  [59.17,59.17,0.0]|[54.53,54.71,-0.19]|  [49.23,49.23,0.0]|[44.71,44.96,-0.25]|  [43.5,43.43,0.07]| [43.67,43.61,0.06]|[37.64,37.86,-0.23]| [35.65,35.58,0.06]| [34.38,34.34,0.04]| [30.96,31.06,-0.1]| [29.53,29.51,0.03]|\n",
      "|2021|    5|         56.75|          56.82|         57.47|           -0.07|               0.0|[56.75,56.82,-0.07]|[0.5392,0.5408653...| [56.65,56.23,0.42]|  [58.31,58.21,0.1]|  [59.17,59.17,0.0]|[54.53,54.71,-0.19]|  [49.23,49.23,0.0]|[44.71,44.96,-0.25]|  [43.5,43.43,0.07]| [43.67,43.61,0.06]|[37.64,37.86,-0.23]| [35.65,35.58,0.06]| [34.38,34.34,0.04]| [30.96,31.06,-0.1]|\n",
      "|2021|    6|         55.27|          55.09|         55.88|            0.18|               0.0| [55.27,55.09,0.18]|[0.51552,0.513141...|[56.75,56.82,-0.07]| [56.65,56.23,0.42]|  [58.31,58.21,0.1]|  [59.17,59.17,0.0]|[54.53,54.71,-0.19]|  [49.23,49.23,0.0]|[44.71,44.96,-0.25]|  [43.5,43.43,0.07]| [43.67,43.61,0.06]|[37.64,37.86,-0.23]| [35.65,35.58,0.06]| [34.38,34.34,0.04]|\n",
      "|2021|    7|         55.66|          55.55|         56.29|            0.11|               0.0| [55.66,55.55,0.11]|[0.52176,0.520512...| [55.27,55.09,0.18]|[56.75,56.82,-0.07]| [56.65,56.23,0.42]|  [58.31,58.21,0.1]|  [59.17,59.17,0.0]|[54.53,54.71,-0.19]|  [49.23,49.23,0.0]|[44.71,44.96,-0.25]|  [43.5,43.43,0.07]| [43.67,43.61,0.06]|[37.64,37.86,-0.23]| [35.65,35.58,0.06]|\n",
      "|2021|    8|         54.87|          54.85|         55.39|            0.02|               0.0| [54.87,54.85,0.02]|[0.50911999999999...| [55.66,55.55,0.11]| [55.27,55.09,0.18]|[56.75,56.82,-0.07]| [56.65,56.23,0.42]|  [58.31,58.21,0.1]|  [59.17,59.17,0.0]|[54.53,54.71,-0.19]|  [49.23,49.23,0.0]|[44.71,44.96,-0.25]|  [43.5,43.43,0.07]| [43.67,43.61,0.06]|[37.64,37.86,-0.23]|\n",
      "+----+-----+--------------+---------------+--------------+----------------+------------------+-------------------+--------------------+-------------------+-------------------+-------------------+-------------------+-------------------+-------------------+-------------------+-------------------+-------------------+-------------------+-------------------+-------------------+\n",
      "only showing top 20 rows\n",
      "\n"
     ]
    }
   ],
   "source": [
    "data_stocks_featureScaled.show(20)"
   ]
  },
  {
   "cell_type": "code",
   "execution_count": 31,
   "id": "7a78cb8d-ae46-4ff9-a207-8ad9947b3313",
   "metadata": {},
   "outputs": [],
   "source": [
    "# ''' \n",
    "# X -> it is the feature set based on which we will predict the target avg_price_high. for LSTM, the feature set is sequence of lagging feature vectors\n",
    "# y -> it is target variable Avg_Price_High\n",
    "# Convert them both to numpy array as that is the datatype of the input going into the LSTM later on \n",
    "# '''\n",
    "# X = np.array(data_stocks_featureScaled.select([\"lag_{}\".format(i) for i in range(1, sequence_length + 1)]).collect())\n",
    "# y = np.array(data_stocks_featureScaled.select(\"Avg_Price_High\").collect())\n"
   ]
  },
  {
   "cell_type": "markdown",
   "id": "d7fedafd-cc5e-4edb-a9d7-adb22f451d6a",
   "metadata": {},
   "source": [
    "### Step-2: Create Training and Testing Data "
   ]
  },
  {
   "cell_type": "code",
   "execution_count": 32,
   "id": "8b9fac68-d5bc-4103-8ee5-b8aac1c6efc9",
   "metadata": {},
   "outputs": [],
   "source": [
    "''' \n",
    "We will keep consistency with the same configuration we used for the Random Forest to avoid any model bias \n",
    "So, Training Data : January 2019 to September 2022\n",
    "and Test Data : October 2023 to September 2023\n",
    "'''\n",
    "# train_data_new = data_stocks_featureScaled.filter(data_stocks_featureScaled.Year < 2023)\n",
    "# test_data_new = data_stocks_featureScaled.filter(data_stocks_featureScaled.Year == 2023)\n",
    "\n",
    "# Split the data into training and test sets\n",
    "\n",
    "train_data_new = data_stocks_featureScaled.filter(\n",
    "    (col(\"Year\") < 2022) |\n",
    "    ((col(\"Year\") == 2022) & (col(\"Month\") <= 9))\n",
    ")\n",
    "\n",
    "train_data_new = train_data_new.sort(['Instrument_Encoded','Year','Month'], ascending=[True, True, True])\n",
    "\n",
    "test_data_new = data_stocks_featureScaled.filter(\n",
    "    ((col(\"Year\") == 2022) & (col(\"Month\") >= 9)) |\n",
    "    ((col(\"Year\") == 2023) & (col(\"Month\") <= 9))\n",
    ")\n",
    "test_data_new = test_data_new.sort(['Instrument_Encoded','Year','Month'], ascending=[True, True, True])\n",
    "\n",
    "X_train = np.array(train_data_new.select([\"lag_{}\".format(i) for i in range(1, sequence_length + 1)]).collect())\n",
    "y_train = np.array(train_data_new.select(\"Avg_Price_High\").collect())\n",
    "X_test = np.array(test_data_new.select([\"lag_{}\".format(i) for i in range(1, sequence_length + 1)]).collect())\n",
    "y_test = np.array(test_data_new.select(\"Avg_Price_High\").collect())\n",
    "\n"
   ]
  },
  {
   "cell_type": "markdown",
   "id": "e58eb188-6ae1-43bd-9069-a7c480a8dfe4",
   "metadata": {},
   "source": [
    "### Step-3: Build and compile the LSTM Model with Keras  "
   ]
  },
  {
   "cell_type": "code",
   "execution_count": 33,
   "id": "0148deec-63b7-4aad-afd7-98542f11db33",
   "metadata": {},
   "outputs": [],
   "source": [
    "'''\n",
    "define the model with standard configurations and set the input_shape to the sequence length of 12, in line with the prediction sequences \n",
    "since, we have only prediction target i.e. the Avg_Price_High, we will have only output layer in the RNN \n",
    "'''\n",
    "#model = keras.Sequential()\n",
    "model = keras.Sequential()\n",
    "model.add(keras.layers.LSTM(units=50, activation='relu', input_shape=(sequence_length, len(feature_cols))))\n",
    "model.add(keras.layers.Dense(1))  # Output layer for regression\n"
   ]
  },
  {
   "cell_type": "code",
   "execution_count": 34,
   "id": "99d403d0-4c8a-4958-97b9-28db18948da3",
   "metadata": {},
   "outputs": [],
   "source": [
    "# compile the model with MSE as the loss function i.e. it calculates the loss between actual and predicted in terms of MSE \n",
    "model.compile(optimizer='adam', loss='mean_squared_error')"
   ]
  },
  {
   "cell_type": "markdown",
   "id": "ad04e3a3-f799-4757-b68e-5daaf3f002d4",
   "metadata": {},
   "source": [
    "### Step-4: Find the right number of Epoch to prevent overfitting"
   ]
  },
  {
   "cell_type": "code",
   "execution_count": 35,
   "id": "f2db2ddb-ef91-4c0b-95a4-b5cb4755e4aa",
   "metadata": {},
   "outputs": [
    {
     "name": "stdout",
     "output_type": "stream",
     "text": [
      "Epoch 1/1000\n",
      "90/90 [==============================] - 3s 15ms/step - loss: 40872.4180 - val_loss: 10377.8818\n",
      "Epoch 2/1000\n",
      "90/90 [==============================] - 1s 13ms/step - loss: 3979.1328 - val_loss: 3919.4504\n",
      "Epoch 3/1000\n",
      "90/90 [==============================] - 1s 15ms/step - loss: 2232.0518 - val_loss: 2449.9395\n",
      "Epoch 4/1000\n",
      "90/90 [==============================] - 1s 12ms/step - loss: 3555.2771 - val_loss: 7298.2993\n",
      "Epoch 5/1000\n",
      "90/90 [==============================] - 2s 19ms/step - loss: 3415.7332 - val_loss: 1456.5435\n",
      "Epoch 6/1000\n",
      "90/90 [==============================] - 2s 22ms/step - loss: 2509.8796 - val_loss: 3204.7764\n",
      "Epoch 7/1000\n",
      "90/90 [==============================] - 2s 19ms/step - loss: 3643.2598 - val_loss: 2352.7327\n",
      "Epoch 8/1000\n",
      "90/90 [==============================] - 2s 17ms/step - loss: 2259.6829 - val_loss: 1422.0765\n",
      "Epoch 9/1000\n",
      "90/90 [==============================] - 1s 15ms/step - loss: 2607.1655 - val_loss: 6394.8574\n",
      "Epoch 10/1000\n",
      "90/90 [==============================] - 1s 13ms/step - loss: 3895.0525 - val_loss: 912.6314\n",
      "Epoch 11/1000\n",
      "90/90 [==============================] - 1s 14ms/step - loss: 2226.8411 - val_loss: 1954.2660\n",
      "Epoch 12/1000\n",
      "90/90 [==============================] - 1s 12ms/step - loss: 1804.9269 - val_loss: 853.0509\n",
      "Epoch 13/1000\n",
      "90/90 [==============================] - 1s 13ms/step - loss: 2465.1687 - val_loss: 1324.0109\n",
      "Epoch 14/1000\n",
      "90/90 [==============================] - 1s 13ms/step - loss: 1860.0763 - val_loss: 1232.4034\n",
      "Epoch 15/1000\n",
      "90/90 [==============================] - 1s 12ms/step - loss: 1952.7487 - val_loss: 1819.8574\n",
      "Epoch 16/1000\n",
      "90/90 [==============================] - 1s 12ms/step - loss: 3654.3281 - val_loss: 4332.3867\n",
      "Epoch 17/1000\n",
      "90/90 [==============================] - 1s 12ms/step - loss: 2908.5806 - val_loss: 1854.3948\n",
      "Epoch 18/1000\n",
      "90/90 [==============================] - 1s 13ms/step - loss: 3853.5613 - val_loss: 963.2170\n",
      "Epoch 19/1000\n",
      "90/90 [==============================] - 1s 12ms/step - loss: 1761.1914 - val_loss: 964.2575\n",
      "Epoch 20/1000\n",
      "90/90 [==============================] - 1s 12ms/step - loss: 1557.5026 - val_loss: 1758.4454\n",
      "Epoch 21/1000\n",
      "90/90 [==============================] - 1s 12ms/step - loss: 1888.3105 - val_loss: 767.9993\n",
      "Epoch 22/1000\n",
      "90/90 [==============================] - 1s 12ms/step - loss: 1243.5664 - val_loss: 673.2382\n",
      "Epoch 23/1000\n",
      "90/90 [==============================] - 1s 12ms/step - loss: 1229.1127 - val_loss: 705.1311\n",
      "Epoch 24/1000\n",
      "90/90 [==============================] - 1s 12ms/step - loss: 1155.7415 - val_loss: 651.8802\n",
      "Epoch 25/1000\n",
      "90/90 [==============================] - 1s 12ms/step - loss: 1121.3606 - val_loss: 1522.7864\n",
      "Epoch 26/1000\n",
      "90/90 [==============================] - 1s 12ms/step - loss: 1112.5123 - val_loss: 617.5976\n",
      "Epoch 27/1000\n",
      "90/90 [==============================] - 1s 12ms/step - loss: 998.1675 - val_loss: 731.5498\n",
      "Epoch 28/1000\n",
      "90/90 [==============================] - 1s 12ms/step - loss: 1278.6323 - val_loss: 872.7354\n",
      "Epoch 29/1000\n",
      "90/90 [==============================] - 1s 12ms/step - loss: 1330.5166 - val_loss: 956.7281\n",
      "Epoch 30/1000\n",
      "90/90 [==============================] - 1s 12ms/step - loss: 1243.3810 - val_loss: 724.9089\n",
      "Epoch 31/1000\n",
      "90/90 [==============================] - 1s 12ms/step - loss: 1135.6378 - val_loss: 714.9988\n",
      "Epoch 32/1000\n",
      "90/90 [==============================] - 1s 14ms/step - loss: 1116.7134 - val_loss: 754.5082\n",
      "Epoch 33/1000\n",
      "90/90 [==============================] - 1s 13ms/step - loss: 1154.7546 - val_loss: 719.9230\n",
      "Epoch 34/1000\n",
      "90/90 [==============================] - 1s 12ms/step - loss: 1177.5010 - val_loss: 838.6434\n",
      "Epoch 35/1000\n",
      "90/90 [==============================] - 1s 12ms/step - loss: 1196.9269 - val_loss: 674.1834\n",
      "Epoch 36/1000\n",
      "90/90 [==============================] - 1s 12ms/step - loss: 1129.0010 - val_loss: 742.2723\n"
     ]
    },
    {
     "data": {
      "image/png": "[encoded data removed]",
      "text/plain": [
       "<Figure size 640x480 with 1 Axes>"
      ]
     },
     "metadata": {},
     "output_type": "display_data"
    }
   ],
   "source": [
    "from tensorflow.keras.callbacks import EarlyStopping\n",
    "\n",
    "from keras import callbacks\n",
    "# Early stopping\n",
    "#early_stopping = EarlyStopping(monitor='val_loss', patience=10, verbose=1, restore_best_weights=True)\n",
    "earlystopping = callbacks.EarlyStopping(monitor=\"val_loss\",\n",
    "                                        mode=\"auto\", patience=10,\n",
    "                                        restore_best_weights=True)\n",
    "\n",
    "# Train the model\n",
    "#history = model.fit(X_train, y_train, validation_data=(X_test, y_test), epochs=1000, callbacks=[early_stopping], verbose=1)\n",
    "\n",
    "history = model.fit(X_train, y_train, batch_size=128,\n",
    "                    epochs=1000, validation_data=(X_test, y_test),\n",
    "                    callbacks=[earlystopping])\n",
    "\n",
    "plt.plot(history.history['loss'], label='Training Loss')\n",
    "plt.plot(history.history['val_loss'], label='Validation Loss')\n",
    "plt.xlabel('Epochs')\n",
    "plt.ylabel('Loss')\n",
    "plt.legend()\n",
    "plt.show()"
   ]
  },
  {
   "cell_type": "markdown",
   "id": "01bf2e93-d488-4060-acff-2da8a21e0e3b",
   "metadata": {},
   "source": [
    "### Step-4: Fit the LSTM model on the training and predict on the test data  "
   ]
  },
  {
   "cell_type": "code",
   "execution_count": 36,
   "id": "fac7bf6c-8f90-46a0-a60f-8391f37e37a6",
   "metadata": {},
   "outputs": [],
   "source": [
    "# # Train the model and validate on the test data, run for 50 epochs\n",
    "# # we are using the batch size 32 and it divides the closest number to the training set size \n",
    "# model.fit(X_train, y_train, epochs=12, batch_size=32, validation_data=(X_test, y_test))"
   ]
  },
  {
   "cell_type": "code",
   "execution_count": 37,
   "id": "402a7bee-b36b-474d-87ee-4f1c6b23a141",
   "metadata": {},
   "outputs": [
    {
     "name": "stdout",
     "output_type": "stream",
     "text": [
      "155/155 [==============================] - 1s 3ms/step\n"
     ]
    }
   ],
   "source": [
    "# predict on the test set \n",
    "test_predictions = model.predict(X_test)"
   ]
  },
  {
   "cell_type": "code",
   "execution_count": 38,
   "id": "e2e724e7-d104-4697-9a6d-5eee8e5a863a",
   "metadata": {},
   "outputs": [
    {
     "data": {
      "text/plain": [
       "array([[ 36.63872  ],\n",
       "       [ 33.835327 ],\n",
       "       [ 33.215416 ],\n",
       "       ...,\n",
       "       [  6.4005523],\n",
       "       [  4.5448384],\n",
       "       [113.315506 ]], dtype=float32)"
      ]
     },
     "execution_count": 38,
     "metadata": {},
     "output_type": "execute_result"
    }
   ],
   "source": [
    "test_predictions"
   ]
  },
  {
   "cell_type": "code",
   "execution_count": 39,
   "id": "e7cbd938-629e-4e4d-8c2c-e8d34ecea8ad",
   "metadata": {},
   "outputs": [],
   "source": [
    "# create a copy of the test data on which prediction is to be performed\n",
    "test_data_new_copy = test_data_new.select(\"*\")"
   ]
  },
  {
   "cell_type": "code",
   "execution_count": 40,
   "id": "1093f42e-3368-4440-a4f6-942fddd733a7",
   "metadata": {},
   "outputs": [],
   "source": [
    "# save the predictions in a temporary dataframe to be joined back into the test data \n",
    "spark_df = spark.createDataFrame(test_predictions.tolist(), [\"Predicted_Avg_Price_High\"])"
   ]
  },
  {
   "cell_type": "code",
   "execution_count": 41,
   "id": "d3731fc4-3586-41b6-aecc-2f8661e216b2",
   "metadata": {},
   "outputs": [],
   "source": [
    "# add an 'index' column to predictions dataframe and the test data \n",
    "spark_df = spark_df.withColumn(\"index\", monotonically_increasing_id())\n",
    "test_data_new_copy = test_data_new_copy.withColumn(\"index\", monotonically_increasing_id())"
   ]
  },
  {
   "cell_type": "code",
   "execution_count": 42,
   "id": "bc5c8455-35a8-4add-b878-8baaf3fd6d94",
   "metadata": {},
   "outputs": [
    {
     "name": "stdout",
     "output_type": "stream",
     "text": [
      "+----+-----+--------------+---------------+--------------+----------------+------------------+-------------------+--------------------+-------------------+-------------------+-------------------+-------------------+-------------------+-------------------+-------------------+-------------------+-------------------+-------------------+-------------------+-------------------+------------------------+\n",
      "|Year|Month|Avg_Price_Open|Avg_Price_Close|Avg_Price_High|Avg_Daily_Return|Instrument_Encoded|    feature_vectors|     scaled_features|              lag_1|              lag_2|              lag_3|              lag_4|              lag_5|              lag_6|              lag_7|              lag_8|              lag_9|             lag_10|             lag_11|             lag_12|Predicted_Avg_Price_High|\n",
      "+----+-----+--------------+---------------+--------------+----------------+------------------+-------------------+--------------------+-------------------+-------------------+-------------------+-------------------+-------------------+-------------------+-------------------+-------------------+-------------------+-------------------+-------------------+-------------------+------------------------+\n",
      "|2022|    9|          30.0|          30.07|         30.53|           -0.07|               0.0| [30.0,30.07,-0.07]|[0.1112,0.1121794...| [31.71,31.67,0.04]| [32.69,32.66,0.03]|  [38.99,38.5,0.49]|[40.06,40.14,-0.08]| [43.55,43.41,0.13]| [46.29,46.08,0.21]| [52.54,52.48,0.07]| [54.72,54.67,0.05]| [51.96,52.1,-0.14]|  [55.21,54.91,0.3]| [56.93,56.86,0.07]|[57.31,57.36,-0.05]|       36.63872146606445|\n",
      "|2022|   10|         33.39|          33.63|         34.23|           -0.25|               0.0|[33.39,33.63,-0.25]|[0.16544,0.169230...| [30.0,30.07,-0.07]| [31.71,31.67,0.04]| [32.69,32.66,0.03]|  [38.99,38.5,0.49]|[40.06,40.14,-0.08]| [43.55,43.41,0.13]| [46.29,46.08,0.21]| [52.54,52.48,0.07]| [54.72,54.67,0.05]| [51.96,52.1,-0.14]|  [55.21,54.91,0.3]| [56.93,56.86,0.07]|        33.8353271484375|\n",
      "|2022|   11|         36.09|          36.19|         36.82|            -0.1|               0.0| [36.09,36.19,-0.1]|[0.20864000000000...|[33.39,33.63,-0.25]| [30.0,30.07,-0.07]| [31.71,31.67,0.04]| [32.69,32.66,0.03]|  [38.99,38.5,0.49]|[40.06,40.14,-0.08]| [43.55,43.41,0.13]| [46.29,46.08,0.21]| [52.54,52.48,0.07]| [54.72,54.67,0.05]| [51.96,52.1,-0.14]|  [55.21,54.91,0.3]|      33.215415954589844|\n",
      "|2022|   12|         36.65|          36.62|         37.05|            0.03|               0.0| [36.65,36.62,0.03]|[0.21759999999999...| [36.09,36.19,-0.1]|[33.39,33.63,-0.25]| [30.0,30.07,-0.07]| [31.71,31.67,0.04]| [32.69,32.66,0.03]|  [38.99,38.5,0.49]|[40.06,40.14,-0.08]| [43.55,43.41,0.13]| [46.29,46.08,0.21]| [52.54,52.48,0.07]| [54.72,54.67,0.05]| [51.96,52.1,-0.14]|        34.0230712890625|\n",
      "|2023|    1|         41.24|          41.46|         41.91|           -0.22|               0.0|[41.24,41.46,-0.22]|[0.29104,0.294711...| [36.65,36.62,0.03]| [36.09,36.19,-0.1]|[33.39,33.63,-0.25]| [30.0,30.07,-0.07]| [31.71,31.67,0.04]| [32.69,32.66,0.03]|  [38.99,38.5,0.49]|[40.06,40.14,-0.08]| [43.55,43.41,0.13]| [46.29,46.08,0.21]| [52.54,52.48,0.07]| [54.72,54.67,0.05]|      34.842689514160156|\n",
      "|2023|    2|          42.2|          42.12|          42.7|            0.09|               0.0|  [42.2,42.12,0.09]|[0.30640000000000...|[41.24,41.46,-0.22]| [36.65,36.62,0.03]| [36.09,36.19,-0.1]|[33.39,33.63,-0.25]| [30.0,30.07,-0.07]| [31.71,31.67,0.04]| [32.69,32.66,0.03]|  [38.99,38.5,0.49]|[40.06,40.14,-0.08]| [43.55,43.41,0.13]| [46.29,46.08,0.21]| [52.54,52.48,0.07]|      37.186771392822266|\n",
      "|2023|    3|         38.15|          38.01|         38.61|            0.14|               0.0| [38.15,38.01,0.14]|[0.24159999999999...|  [42.2,42.12,0.09]|[41.24,41.46,-0.22]| [36.65,36.62,0.03]| [36.09,36.19,-0.1]|[33.39,33.63,-0.25]| [30.0,30.07,-0.07]| [31.71,31.67,0.04]| [32.69,32.66,0.03]|  [38.99,38.5,0.49]|[40.06,40.14,-0.08]| [43.55,43.41,0.13]| [46.29,46.08,0.21]|       39.45519256591797|\n",
      "|2023|    4|          37.1|          37.16|         37.65|           -0.07|               0.0| [37.1,37.16,-0.07]|[0.22480000000000...| [38.15,38.01,0.14]|  [42.2,42.12,0.09]|[41.24,41.46,-0.22]| [36.65,36.62,0.03]| [36.09,36.19,-0.1]|[33.39,33.63,-0.25]| [30.0,30.07,-0.07]| [31.71,31.67,0.04]| [32.69,32.66,0.03]|  [38.99,38.5,0.49]|[40.06,40.14,-0.08]| [43.55,43.41,0.13]|       39.23280334472656|\n",
      "|2023|    5|         39.22|          39.03|         39.62|            0.19|               0.0| [39.22,39.03,0.19]|[0.25871999999999...| [37.1,37.16,-0.07]| [38.15,38.01,0.14]|  [42.2,42.12,0.09]|[41.24,41.46,-0.22]| [36.65,36.62,0.03]| [36.09,36.19,-0.1]|[33.39,33.63,-0.25]| [30.0,30.07,-0.07]| [31.71,31.67,0.04]| [32.69,32.66,0.03]|  [38.99,38.5,0.49]|[40.06,40.14,-0.08]|       39.00534439086914|\n",
      "|2023|    6|         42.36|          42.98|         43.46|           -0.62|               0.0|[42.36,42.98,-0.62]|[0.30896,0.319070...| [39.22,39.03,0.19]| [37.1,37.16,-0.07]| [38.15,38.01,0.14]|  [42.2,42.12,0.09]|[41.24,41.46,-0.22]| [36.65,36.62,0.03]| [36.09,36.19,-0.1]|[33.39,33.63,-0.25]| [30.0,30.07,-0.07]| [31.71,31.67,0.04]| [32.69,32.66,0.03]|  [38.99,38.5,0.49]|      39.983795166015625|\n",
      "+----+-----+--------------+---------------+--------------+----------------+------------------+-------------------+--------------------+-------------------+-------------------+-------------------+-------------------+-------------------+-------------------+-------------------+-------------------+-------------------+-------------------+-------------------+-------------------+------------------------+\n",
      "only showing top 10 rows\n",
      "\n"
     ]
    }
   ],
   "source": [
    "# Join the two DataFrames on the index column and now drop it - the resultant dataframe is better organized now \n",
    "lstm_predictions = test_data_new_copy.join(spark_df, on=\"index\").drop(\"index\")\n",
    "lstm_predictions.show(10)"
   ]
  },
  {
   "cell_type": "markdown",
   "id": "78f49487-1dc0-4aa4-86b1-236c9aa30fd4",
   "metadata": {},
   "source": [
    "### Step-5: Performance Evaluation of LSTM "
   ]
  },
  {
   "cell_type": "code",
   "execution_count": 43,
   "id": "321555b5-5093-4a50-9114-55c9f4fe6a72",
   "metadata": {},
   "outputs": [
    {
     "name": "stdout",
     "output_type": "stream",
     "text": [
      "Mean Absolute Error (MAE): 6.808584763052157\n"
     ]
    }
   ],
   "source": [
    "# 7. Evaluate the model\n",
    "mae = np.mean(np.abs(test_predictions - y_test))\n",
    "print(\"Mean Absolute Error (MAE):\", mae)"
   ]
  },
  {
   "cell_type": "code",
   "execution_count": 44,
   "id": "90200f27-5d58-4d82-a64a-b9becef56a24",
   "metadata": {},
   "outputs": [
    {
     "name": "stdout",
     "output_type": "stream",
     "text": [
      "Mean Absolute Percentage Error (MAPE): 14.44628825868569 %\n",
      "Root Mean Square Error (RMSE): 24.851506385169596\n"
     ]
    }
   ],
   "source": [
    "# Calculate the absolute percentage errors\n",
    "absolute_percentage_errors = np.abs((test_predictions - y_test) / test_predictions)\n",
    "# Calculate the mean absolute percentage error (MAPE)\n",
    "mape = np.mean(absolute_percentage_errors) * 100\n",
    "print(\"Mean Absolute Percentage Error (MAPE):\", mape, \"%\")\n",
    "\n",
    "# Calculate the squared differences\n",
    "squared_diff = (test_predictions - y_test) ** 2\n",
    "# Calculate the mean of squared differences\n",
    "mse = np.mean(squared_diff)\n",
    "# Calculate RMSE by taking the square root of MSE\n",
    "rmse = np.sqrt(mse)\n",
    "print(\"Root Mean Square Error (RMSE):\", rmse)"
   ]
  },
  {
   "cell_type": "markdown",
   "id": "770908af-b568-4fbc-8780-b573b04e3825",
   "metadata": {},
   "source": [
    "### Step-6: Comparing the Performance of Random Forest versus LSTM "
   ]
  },
  {
   "cell_type": "markdown",
   "id": "e82e99bc-6aa5-48f9-85a1-3bb525cb165c",
   "metadata": {},
   "source": [
    "Now, we we have implemented both models from the Machine Learning and Deep Learning stack, it is now time compare their performane based on the Regression Testing results: \n",
    "\n",
    "- **RMSE:** The RMSE for Random Forest is 80.23 and for LSTM it is 21.54. It means the euclidean distance between actual and predicted values is almost 4 times higher in Random Forest than LSTM.\n",
    "- **MAE:** The Mean-Absolute Error for Random Forest is 17.34 and for LSTM it is 6.87. It means the error between actual and predicted values is almost more than twice higher in Random Forest than LSTM.\n",
    "- **MAPE:** The Mean-Absolute-Percentage-Error for Random Forest in extremely high 317.7% and for LSTM it is only 28.67%. MAPE is measure highly sensitive to outliers and we saw that the dataset had a outliers in the EDA. This further negatively impacts the Performance of the Random Forest or any regression model when it comes to time-series or sequential forecasting.\n",
    "\n",
    "Based on the Regression Testing, it is clear that the LSTM model from the Deep Learning Stack is the superior model when it comes to predicting highest stock price. It also validates a conception that Regression models are not well-suited for time-series problems as we can notice how much error it generates. \n",
    "\n",
    "The final step is the deployment. We will deploy the LSTM model and make real-time forecast of highest stock prices through an API service. "
   ]
  },
  {
   "cell_type": "markdown",
   "id": "1350ec1b-91c1-47c8-8a74-e14439de2557",
   "metadata": {},
   "source": [
    "## Compilation of Results "
   ]
  },
  {
   "cell_type": "code",
   "execution_count": 45,
   "id": "cc868eef-f463-497f-b6e2-f698bca3394b",
   "metadata": {},
   "outputs": [
    {
     "name": "stdout",
     "output_type": "stream",
     "text": [
      "+----+-----+------------------+--------------+------------------------+\n",
      "|Year|Month|Instrument_Encoded|Avg_Price_High|Predicted_Avg_Price_High|\n",
      "+----+-----+------------------+--------------+------------------------+\n",
      "|2022|    9|               0.0|         30.53|       36.63872146606445|\n",
      "|2022|   10|               0.0|         34.23|        33.8353271484375|\n",
      "|2022|   11|               0.0|         36.82|      33.215415954589844|\n",
      "|2022|   12|               0.0|         37.05|        34.0230712890625|\n",
      "|2023|    1|               0.0|         41.91|      34.842689514160156|\n",
      "|2023|    2|               0.0|          42.7|      37.186771392822266|\n",
      "|2023|    3|               0.0|         38.61|       39.45519256591797|\n",
      "|2023|    4|               0.0|         37.65|       39.23280334472656|\n",
      "|2023|    5|               0.0|         39.62|       39.00534439086914|\n",
      "|2023|    6|               0.0|         43.46|      39.983795166015625|\n",
      "|2023|    7|               0.0|         48.88|      42.127689361572266|\n",
      "|2023|    8|               0.0|         48.59|       46.47581100463867|\n",
      "|2023|    9|               0.0|         50.98|       48.76047134399414|\n",
      "|2022|    9|               1.0|         15.39|       18.13730812072754|\n",
      "|2022|   10|               1.0|         13.31|      16.994548797607422|\n",
      "|2022|   11|               1.0|         13.99|      15.669894218444824|\n",
      "|2022|   12|               1.0|         12.38|      14.868316650390625|\n",
      "|2023|    1|               1.0|          12.5|      13.838777542114258|\n",
      "|2023|    2|               1.0|         12.76|       13.25500774383545|\n",
      "|2023|    3|               1.0|         11.54|      12.954179763793945|\n",
      "+----+-----+------------------+--------------+------------------------+\n",
      "only showing top 20 rows\n",
      "\n"
     ]
    }
   ],
   "source": [
    "lstm_relevant = lstm_predictions.select('Year', 'Month', 'Instrument_Encoded', 'Avg_Price_High', 'Predicted_Avg_Price_High')\n",
    "lstm_relevant.show(20)"
   ]
  },
  {
   "cell_type": "code",
   "execution_count": 46,
   "id": "b4a9257a-d60c-42ad-89c8-92b86c1a36cf",
   "metadata": {},
   "outputs": [
    {
     "name": "stdout",
     "output_type": "stream",
     "text": [
      "+----+-----+------------------+--------------+----------+--------------+---------------+----------------+------------------------+\n",
      "|Year|Month|Instrument_Encoded|Avg_Price_High|Instrument|Avg_Price_Open|Avg_Price_Close|Avg_Daily_Return|Predicted_Avg_Price_High|\n",
      "+----+-----+------------------+--------------+----------+--------------+---------------+----------------+------------------------+\n",
      "|2022|    9|               0.0|         30.53|   1COV.DE|          30.0|          30.07|           -0.07|       36.63872146606445|\n",
      "|2022|   10|               0.0|         34.23|   1COV.DE|         33.39|          33.63|           -0.25|        33.8353271484375|\n",
      "|2022|   11|               0.0|         36.82|   1COV.DE|         36.09|          36.19|            -0.1|      33.215415954589844|\n",
      "|2022|   12|               0.0|         37.05|   1COV.DE|         36.65|          36.62|            0.03|        34.0230712890625|\n",
      "|2023|    1|               0.0|         41.91|   1COV.DE|         41.24|          41.46|           -0.22|      34.842689514160156|\n",
      "|2023|    2|               0.0|          42.7|   1COV.DE|          42.2|          42.12|            0.09|      37.186771392822266|\n",
      "|2023|    3|               0.0|         38.61|   1COV.DE|         38.15|          38.01|            0.14|       39.45519256591797|\n",
      "|2023|    4|               0.0|         37.65|   1COV.DE|          37.1|          37.16|           -0.07|       39.23280334472656|\n",
      "|2023|    5|               0.0|         39.62|   1COV.DE|         39.22|          39.03|            0.19|       39.00534439086914|\n",
      "|2023|    6|               0.0|         43.46|   1COV.DE|         42.36|          42.98|           -0.62|      39.983795166015625|\n",
      "+----+-----+------------------+--------------+----------+--------------+---------------+----------------+------------------------+\n",
      "only showing top 10 rows\n",
      "\n"
     ]
    }
   ],
   "source": [
    "# we will now join back in on the main dataset\n",
    "data_combined = data_stock_indexed_copy.join(lstm_relevant, on=['Year', 'Month','Instrument_Encoded', 'Avg_Price_High'], how='inner')\n",
    "data_combined.show(10)"
   ]
  },
  {
   "cell_type": "code",
   "execution_count": 47,
   "id": "07d5d167-056f-430c-b014-f66a967f6a04",
   "metadata": {},
   "outputs": [
    {
     "name": "stdout",
     "output_type": "stream",
     "text": [
      "+----------+--------------------+-------------------------+-------------------------+------------------------+--------------------+--------------------+-------------------------+-------------------------+------------------------+------------------+------------------+\n",
      "|Instrument| Company_Common_Name|TRBC_Economic_Sector_Name|TRBC_Business_Sector_Name|TRBC_Industry_Group_Name|  TRBC_Industry_Name|  TRBC_Activity_Name|TRBC_Economic_Sector_Code|TRBC_Business_Sector_Code|TRBC_Industry_Group_Code|TRBC_Industry_Code|TRBC_Activity_Code|\n",
      "+----------+--------------------+-------------------------+-------------------------+------------------------+--------------------+--------------------+-------------------------+-------------------------+------------------------+------------------+------------------+\n",
      "|   75Sn.DE|              Sdm SE|              Industrials|     Industrial & Comm...|    Professional & Co...|Business Support ...|   Security Services|                       52|                     5220|                  522030|          52203040|        5220304014|\n",
      "|    88D.MU|      WR Wohnraum AG|              Real Estate|              Real Estate|    Real Estate Opera...|Real Estate Renta...|Real Estate Renta...|                       60|                     6010|                  601010|          60101010|        6010101010|\n",
      "|    A62.DE|     IGP Advantag AG|               Financials|     Banking & Investm...|    Investment Bankin...|Investment Bankin...|  Brokerage Services|                       55|                     5510|                  551020|          55102010|        5510201012|\n",
      "|   ABXG.DE|Advanced Blockcha...|               Technology|     Software & IT Ser...|    Software & IT Ser...|IT Services & Con...|IT Services & Con...|                       57|                     5720|                  572010|          57201010|        5720101010|\n",
      "|    ACLN.S|Accelleron Indust...|              Industrials|         Industrial Goods|    Machinery, Tools,...|Industrial Machin...|Industrial Machin...|                       52|                     5210|                  521020|          52102010|        5210201010|\n",
      "|    ADCG.F|        AdCapital AG|               Financials|     Banking & Investm...|    Investment Bankin...|Investment Manage...|      Private Equity|                       55|                     5510|                  551020|          55102020|        5510202016|\n",
      "|    ADE.DE|    Bitcoin Group SE|               Financials|     Banking & Investm...|    Investment Bankin...|Investment Manage...|     Venture Capital|                       55|                     5510|                  551020|          55102020|        5510202015|\n",
      "|  AEIGn.DE|         Allgeier SE|               Technology|     Software & IT Ser...|    Software & IT Ser...|IT Services & Con...|IT Services & Con...|                       57|                     5720|                  572010|          57201010|        5720101010|\n",
      "|   AIRG.DE|           Airbus SE|              Industrials|         Industrial Goods|     Aerospace & Defense| Aerospace & Defense|Commercial Aircra...|                       52|                     5210|                  521010|          52101010|        5210101012|\n",
      "|   ALVG.DE|          Allianz SE|               Financials|                Insurance|               Insurance|Multiline Insuran...|Multiline Insuran...|                       55|                     5530|                  553010|          55301010|        5530101010|\n",
      "+----------+--------------------+-------------------------+-------------------------+------------------------+--------------------+--------------------+-------------------------+-------------------------+------------------------+------------------+------------------+\n",
      "only showing top 10 rows\n",
      "\n"
     ]
    }
   ],
   "source": [
    "# some datatype transformation may have been lost. reconfigure the dataframe accordingly and define a model set with only the required features \n",
    "data_sectors_info = data_stocks_transformed.drop(\"Instrument0\", \"Year\", \"Quarter\",\\\n",
    "\"Month\", \"Avg_Price_Open\", \"Avg_Price_Close\", \"Avg_Price_High\", \"Avg_Daily_Return\", \"Avg_Daily_Volume\", \"Total_Volume\")\\\n",
    "                                                                                        .withColumnRenamed(\"Instrument9\", \"Instrument\")\n",
    "\n",
    "data_sectors_info.show(10)"
   ]
  },
  {
   "cell_type": "code",
   "execution_count": 48,
   "id": "f294e474-56fe-4dcb-81f8-df867e21a13f",
   "metadata": {},
   "outputs": [
    {
     "name": "stdout",
     "output_type": "stream",
     "text": [
      "+----------+----+-----+------------------+--------------+--------------+---------------+----------------+------------------------+-------------------+-------------------------+-------------------------+------------------------+-------------------+------------------+-------------------------+-------------------------+------------------------+------------------+------------------+\n",
      "|Instrument|Year|Month|Instrument_Encoded|Avg_Price_High|Avg_Price_Open|Avg_Price_Close|Avg_Daily_Return|Predicted_Avg_Price_High|Company_Common_Name|TRBC_Economic_Sector_Name|TRBC_Business_Sector_Name|TRBC_Industry_Group_Name| TRBC_Industry_Name|TRBC_Activity_Name|TRBC_Economic_Sector_Code|TRBC_Business_Sector_Code|TRBC_Industry_Group_Code|TRBC_Industry_Code|TRBC_Activity_Code|\n",
      "+----------+----+-----+------------------+--------------+--------------+---------------+----------------+------------------------+-------------------+-------------------------+-------------------------+------------------------+-------------------+------------------+-------------------------+-------------------------+------------------------+------------------+------------------+\n",
      "|   1COV.DE|2022|    9|               0.0|         30.53|          30.0|          30.07|           -0.07|       36.63872146606445|        Covestro AG|          Basic Materials|                Chemicals|               Chemicals|Commodity Chemicals|          Plastics|                       51|                     5110|                  511010|          51101010|        5110101011|\n",
      "|   1COV.DE|2022|   10|               0.0|         34.23|         33.39|          33.63|           -0.25|        33.8353271484375|        Covestro AG|          Basic Materials|                Chemicals|               Chemicals|Commodity Chemicals|          Plastics|                       51|                     5110|                  511010|          51101010|        5110101011|\n",
      "|   1COV.DE|2022|   11|               0.0|         36.82|         36.09|          36.19|            -0.1|      33.215415954589844|        Covestro AG|          Basic Materials|                Chemicals|               Chemicals|Commodity Chemicals|          Plastics|                       51|                     5110|                  511010|          51101010|        5110101011|\n",
      "|   1COV.DE|2022|   12|               0.0|         37.05|         36.65|          36.62|            0.03|        34.0230712890625|        Covestro AG|          Basic Materials|                Chemicals|               Chemicals|Commodity Chemicals|          Plastics|                       51|                     5110|                  511010|          51101010|        5110101011|\n",
      "|   1COV.DE|2023|    1|               0.0|         41.91|         41.24|          41.46|           -0.22|      34.842689514160156|        Covestro AG|          Basic Materials|                Chemicals|               Chemicals|Commodity Chemicals|          Plastics|                       51|                     5110|                  511010|          51101010|        5110101011|\n",
      "|   1COV.DE|2023|    2|               0.0|          42.7|          42.2|          42.12|            0.09|      37.186771392822266|        Covestro AG|          Basic Materials|                Chemicals|               Chemicals|Commodity Chemicals|          Plastics|                       51|                     5110|                  511010|          51101010|        5110101011|\n",
      "|   1COV.DE|2023|    3|               0.0|         38.61|         38.15|          38.01|            0.14|       39.45519256591797|        Covestro AG|          Basic Materials|                Chemicals|               Chemicals|Commodity Chemicals|          Plastics|                       51|                     5110|                  511010|          51101010|        5110101011|\n",
      "|   1COV.DE|2023|    4|               0.0|         37.65|          37.1|          37.16|           -0.07|       39.23280334472656|        Covestro AG|          Basic Materials|                Chemicals|               Chemicals|Commodity Chemicals|          Plastics|                       51|                     5110|                  511010|          51101010|        5110101011|\n",
      "|   1COV.DE|2023|    5|               0.0|         39.62|         39.22|          39.03|            0.19|       39.00534439086914|        Covestro AG|          Basic Materials|                Chemicals|               Chemicals|Commodity Chemicals|          Plastics|                       51|                     5110|                  511010|          51101010|        5110101011|\n",
      "|   1COV.DE|2023|    6|               0.0|         43.46|         42.36|          42.98|           -0.62|      39.983795166015625|        Covestro AG|          Basic Materials|                Chemicals|               Chemicals|Commodity Chemicals|          Plastics|                       51|                     5110|                  511010|          51101010|        5110101011|\n",
      "+----------+----+-----+------------------+--------------+--------------+---------------+----------------+------------------------+-------------------+-------------------------+-------------------------+------------------------+-------------------+------------------+-------------------------+-------------------------+------------------------+------------------+------------------+\n",
      "only showing top 10 rows\n",
      "\n"
     ]
    }
   ],
   "source": [
    "data_combined_full = data_combined.join(data_sectors_info, on=['Instrument'], how='inner').drop_duplicates().sort(['Instrument','Year','Month'])\n",
    "data_combined_full.show(10)"
   ]
  },
  {
   "cell_type": "code",
   "execution_count": 49,
   "id": "8c3a9b28-5b26-4238-a4a8-d5980d86299d",
   "metadata": {},
   "outputs": [],
   "source": [
    "save_results = data_combined_full.toPandas()"
   ]
  },
  {
   "cell_type": "code",
   "execution_count": 50,
   "id": "97592096-c4ef-4380-9c34-228bcf931929",
   "metadata": {},
   "outputs": [],
   "source": [
    "save_results.to_csv('LSTM_predictions_compiled_build_v2.csv', mode='w')"
   ]
  },
  {
   "cell_type": "code",
   "execution_count": 51,
   "id": "efd98f12-f53e-46df-8293-3a16820eafa2",
   "metadata": {},
   "outputs": [
    {
     "data": {
      "text/plain": [
       "79"
      ]
     },
     "execution_count": 51,
     "metadata": {},
     "output_type": "execute_result"
    }
   ],
   "source": [
    "data_combined_full.select('Instrument').distinct().count()"
   ]
  },
  {
   "cell_type": "markdown",
   "id": "316dd458-6293-4af9-b84b-1ef32939ae79",
   "metadata": {},
   "source": [
    "## Validation and Deployment"
   ]
  },
  {
   "cell_type": "markdown",
   "id": "bd4c818e-13e3-4f3b-a029-13f89b5744d9",
   "metadata": {},
   "source": [
    "- In this additional step, we will validate our LSTM model to forecast the Highest Stock Prices for the last quarter of in 2023. \n",
    "- We will take an extract of the compiled dataset for any RIC and apply the pipeline transformations accordingly. \n",
    "- Next, we will create 9 lags based on the scaled features and select the last month - using which we will forecast the next 3 months. \n",
    "- Finally, we will record our observations and come up with recommendations for the deployment.     "
   ]
  },
  {
   "cell_type": "code",
   "execution_count": 52,
   "id": "82a330b7-825b-4107-855d-d8a55fe8d0a2",
   "metadata": {},
   "outputs": [
    {
     "name": "stdout",
     "output_type": "stream",
     "text": [
      "+------------------+----+-----+--------------+---------------+----------------+--------------+------------------------+\n",
      "|Instrument_Encoded|Year|Month|Avg_Price_Open|Avg_Price_Close|Avg_Daily_Return|Avg_Price_High|Predicted_Avg_Price_High|\n",
      "+------------------+----+-----+--------------+---------------+----------------+--------------+------------------------+\n",
      "|               0.0|2022|    9|          30.0|          30.07|           -0.07|         30.53|       36.63872146606445|\n",
      "|               0.0|2022|   10|         33.39|          33.63|           -0.25|         34.23|        33.8353271484375|\n",
      "|               0.0|2022|   11|         36.09|          36.19|            -0.1|         36.82|      33.215415954589844|\n",
      "|               0.0|2022|   12|         36.65|          36.62|            0.03|         37.05|        34.0230712890625|\n",
      "|               0.0|2023|    1|         41.24|          41.46|           -0.22|         41.91|      34.842689514160156|\n",
      "|               0.0|2023|    2|          42.2|          42.12|            0.09|          42.7|      37.186771392822266|\n",
      "|               0.0|2023|    3|         38.15|          38.01|            0.14|         38.61|       39.45519256591797|\n",
      "|               0.0|2023|    4|          37.1|          37.16|           -0.07|         37.65|       39.23280334472656|\n",
      "|               0.0|2023|    5|         39.22|          39.03|            0.19|         39.62|       39.00534439086914|\n",
      "|               0.0|2023|    6|         42.36|          42.98|           -0.62|         43.46|      39.983795166015625|\n",
      "|               0.0|2023|    7|         48.22|          48.37|           -0.15|         48.88|      42.127689361572266|\n",
      "|               0.0|2023|    8|         47.93|          47.94|           -0.01|         48.59|       46.47581100463867|\n",
      "|               0.0|2023|    9|         50.07|           50.3|           -0.22|         50.98|       48.76047134399414|\n",
      "+------------------+----+-----+--------------+---------------+----------------+--------------+------------------------+\n",
      "\n"
     ]
    }
   ],
   "source": [
    "# filter out a RIC from the compiled data from the last step \n",
    "data_val = data_combined_full.filter(col('Instrument')=='1COV.DE')\n",
    "\n",
    "# select all the relevant columns needed for the forecast \n",
    "data_val_relevant = data_val.select('Instrument_Encoded','Year','Month','Avg_Price_Open',\\\n",
    "                                    'Avg_Price_Close','Avg_Daily_Return', 'Avg_Price_High', 'Predicted_Avg_Price_High')\n",
    "data_val_relevant.show()"
   ]
  },
  {
   "cell_type": "code",
   "execution_count": 53,
   "id": "3064460a-f22b-4e0f-a821-426868bf8770",
   "metadata": {},
   "outputs": [
    {
     "name": "stdout",
     "output_type": "stream",
     "text": [
      "+------------------+----+-----+--------------+---------------+----------------+--------------+------------------------+------------------+\n",
      "|Instrument_Encoded|Year|Month|Avg_Price_Open|Avg_Price_Close|Avg_Daily_Return|Avg_Price_High|Predicted_Avg_Price_High|   Prev_Prediction|\n",
      "+------------------+----+-----+--------------+---------------+----------------+--------------+------------------------+------------------+\n",
      "|               0.0|2022|    9|          30.0|          30.07|           -0.07|         30.53|       36.63872146606445|              null|\n",
      "|               0.0|2022|   10|         33.39|          33.63|           -0.25|         34.23|        33.8353271484375| 36.63872146606445|\n",
      "|               0.0|2022|   11|         36.09|          36.19|            -0.1|         36.82|      33.215415954589844|  33.8353271484375|\n",
      "|               0.0|2022|   12|         36.65|          36.62|            0.03|         37.05|        34.0230712890625|33.215415954589844|\n",
      "|               0.0|2023|    1|         41.24|          41.46|           -0.22|         41.91|      34.842689514160156|  34.0230712890625|\n",
      "|               0.0|2023|    2|          42.2|          42.12|            0.09|          42.7|      37.186771392822266|34.842689514160156|\n",
      "|               0.0|2023|    3|         38.15|          38.01|            0.14|         38.61|       39.45519256591797|37.186771392822266|\n",
      "|               0.0|2023|    4|          37.1|          37.16|           -0.07|         37.65|       39.23280334472656| 39.45519256591797|\n",
      "|               0.0|2023|    5|         39.22|          39.03|            0.19|         39.62|       39.00534439086914| 39.23280334472656|\n",
      "|               0.0|2023|    6|         42.36|          42.98|           -0.62|         43.46|      39.983795166015625| 39.00534439086914|\n",
      "|               0.0|2023|    7|         48.22|          48.37|           -0.15|         48.88|      42.127689361572266|39.983795166015625|\n",
      "|               0.0|2023|    8|         47.93|          47.94|           -0.01|         48.59|       46.47581100463867|42.127689361572266|\n",
      "|               0.0|2023|    9|         50.07|           50.3|           -0.22|         50.98|       48.76047134399414| 46.47581100463867|\n",
      "+------------------+----+-----+--------------+---------------+----------------+--------------+------------------------+------------------+\n",
      "\n"
     ]
    }
   ],
   "source": [
    "# Ensure the data is sorted by RIC, Year, and Month \n",
    "w1 = Window.partitionBy(\"Instrument_Encoded\").orderBy(\"Year\", \"Month\")\n",
    "\n",
    "# Shift the \"Predicted_Avg_High\" column to get the previous prediction\n",
    "data_val_relevant = data_val_relevant.withColumn(\"Prev_Prediction\", lag(\"Predicted_Avg_Price_High\", 1).over(w1))\n",
    "data_val_relevant.show()"
   ]
  },
  {
   "cell_type": "code",
   "execution_count": 54,
   "id": "6c74e93b-5822-499e-85b2-7c66e8777de9",
   "metadata": {},
   "outputs": [
    {
     "name": "stdout",
     "output_type": "stream",
     "text": [
      "+------------------+----+-----+--------------+---------------+----------------+--------------+------------------------+------------------+-------------------+\n",
      "|Instrument_Encoded|Year|Month|Avg_Price_Open|Avg_Price_Close|Avg_Daily_Return|Avg_Price_High|Predicted_Avg_Price_High|   Prev_Prediction|    feature_vectors|\n",
      "+------------------+----+-----+--------------+---------------+----------------+--------------+------------------------+------------------+-------------------+\n",
      "|               0.0|2022|    9|          30.0|          30.07|           -0.07|         30.53|       36.63872146606445|              null| [30.0,30.07,-0.07]|\n",
      "|               0.0|2022|   10|         33.39|          33.63|           -0.25|         34.23|        33.8353271484375| 36.63872146606445|[33.39,33.63,-0.25]|\n",
      "|               0.0|2022|   11|         36.09|          36.19|            -0.1|         36.82|      33.215415954589844|  33.8353271484375| [36.09,36.19,-0.1]|\n",
      "|               0.0|2022|   12|         36.65|          36.62|            0.03|         37.05|        34.0230712890625|33.215415954589844| [36.65,36.62,0.03]|\n",
      "|               0.0|2023|    1|         41.24|          41.46|           -0.22|         41.91|      34.842689514160156|  34.0230712890625|[41.24,41.46,-0.22]|\n",
      "|               0.0|2023|    2|          42.2|          42.12|            0.09|          42.7|      37.186771392822266|34.842689514160156|  [42.2,42.12,0.09]|\n",
      "|               0.0|2023|    3|         38.15|          38.01|            0.14|         38.61|       39.45519256591797|37.186771392822266| [38.15,38.01,0.14]|\n",
      "|               0.0|2023|    4|          37.1|          37.16|           -0.07|         37.65|       39.23280334472656| 39.45519256591797| [37.1,37.16,-0.07]|\n",
      "|               0.0|2023|    5|         39.22|          39.03|            0.19|         39.62|       39.00534439086914| 39.23280334472656| [39.22,39.03,0.19]|\n",
      "|               0.0|2023|    6|         42.36|          42.98|           -0.62|         43.46|      39.983795166015625| 39.00534439086914|[42.36,42.98,-0.62]|\n",
      "|               0.0|2023|    7|         48.22|          48.37|           -0.15|         48.88|      42.127689361572266|39.983795166015625|[48.22,48.37,-0.15]|\n",
      "|               0.0|2023|    8|         47.93|          47.94|           -0.01|         48.59|       46.47581100463867|42.127689361572266|[47.93,47.94,-0.01]|\n",
      "|               0.0|2023|    9|         50.07|           50.3|           -0.22|         50.98|       48.76047134399414| 46.47581100463867| [50.07,50.3,-0.22]|\n",
      "+------------------+----+-----+--------------+---------------+----------------+--------------+------------------------+------------------+-------------------+\n",
      "\n"
     ]
    }
   ],
   "source": [
    "# create the vectors accordingly \n",
    "data_val_assembled = vector_assembler.transform(data_val_relevant)\n",
    "data_val_assembled.show()"
   ]
  },
  {
   "cell_type": "code",
   "execution_count": 55,
   "id": "7220db77-2267-41d4-af54-c2e67e9ab650",
   "metadata": {},
   "outputs": [
    {
     "name": "stdout",
     "output_type": "stream",
     "text": [
      "+------------------+----+-----+--------------+---------------+----------------+--------------+------------------------+------------------+-------------------+--------------------+\n",
      "|Instrument_Encoded|Year|Month|Avg_Price_Open|Avg_Price_Close|Avg_Daily_Return|Avg_Price_High|Predicted_Avg_Price_High|   Prev_Prediction|    feature_vectors|     scaled_features|\n",
      "+------------------+----+-----+--------------+---------------+----------------+--------------+------------------------+------------------+-------------------+--------------------+\n",
      "|               0.0|2022|    9|          30.0|          30.07|           -0.07|         30.53|       36.63872146606445|              null| [30.0,30.07,-0.07]|[-1.6147110332749...|\n",
      "|               0.0|2022|   10|         33.39|          33.63|           -0.25|         34.23|        33.8353271484375| 36.63872146606445|[33.39,33.63,-0.25]|[-1.0210157618213...|\n",
      "|               0.0|2022|   11|         36.09|          36.19|            -0.1|         36.82|      33.215415954589844|  33.8353271484375| [36.09,36.19,-0.1]|[-0.5481611208406...|\n",
      "|               0.0|2022|   12|         36.65|          36.62|            0.03|         37.05|        34.0230712890625|33.215415954589844| [36.65,36.62,0.03]|[-0.4500875656742...|\n",
      "|               0.0|2023|    1|         41.24|          41.46|           -0.22|         41.91|      34.842689514160156|  34.0230712890625|[41.24,41.46,-0.22]|[0.35376532399299...|\n",
      "+------------------+----+-----+--------------+---------------+----------------+--------------+------------------------+------------------+-------------------+--------------------+\n",
      "only showing top 5 rows\n",
      "\n"
     ]
    }
   ],
   "source": [
    "# now the scale the features using the Robust Scaler\n",
    "data_scaled = r_scaler.fit(data_val_assembled).transform(data_val_assembled)\n",
    "data_scaled.show(5)"
   ]
  },
  {
   "cell_type": "code",
   "execution_count": 56,
   "id": "4168b3cb-9186-435e-862c-2a7bc1dbac21",
   "metadata": {},
   "outputs": [],
   "source": [
    "# define the sequence length - in our Model defining, we set it 12 but on validation we are doing because we have historical data until Sept for 2023 \n",
    "sequence_length_val = 12\n",
    "\n",
    "# Use Window function to create sequences\n",
    "#window_spec = Window.partitionBy(\"Instrument_Encoded\").orderBy(\"Year\", \"Month\")\n",
    "for i in range(1, sequence_length_val + 1):\n",
    "    lag_col = \"lag_{}\".format(i)\n",
    "    data_scaled = data_scaled.withColumn(lag_col, lag(data_scaled[\"feature_vectors\"], i).over(w1))"
   ]
  },
  {
   "cell_type": "code",
   "execution_count": 57,
   "id": "3678c226-1e2c-422f-81d6-c08b5debcda1",
   "metadata": {},
   "outputs": [
    {
     "name": "stdout",
     "output_type": "stream",
     "text": [
      "+------------------+----+-----+--------------+---------------+----------------+--------------+------------------------+------------------+-------------------+--------------------+-------------------+-------------------+-------------------+-------------------+-------------------+-------------------+-------------------+-------------------+-------------------+-------------------+-------------------+------------------+\n",
      "|Instrument_Encoded|Year|Month|Avg_Price_Open|Avg_Price_Close|Avg_Daily_Return|Avg_Price_High|Predicted_Avg_Price_High|   Prev_Prediction|    feature_vectors|     scaled_features|              lag_1|              lag_2|              lag_3|              lag_4|              lag_5|              lag_6|              lag_7|              lag_8|              lag_9|             lag_10|             lag_11|            lag_12|\n",
      "+------------------+----+-----+--------------+---------------+----------------+--------------+------------------------+------------------+-------------------+--------------------+-------------------+-------------------+-------------------+-------------------+-------------------+-------------------+-------------------+-------------------+-------------------+-------------------+-------------------+------------------+\n",
      "|               0.0|2022|    9|          30.0|          30.07|           -0.07|         30.53|       36.63872146606445|              null| [30.0,30.07,-0.07]|[-1.6147110332749...|               null|               null|               null|               null|               null|               null|               null|               null|               null|               null|               null|              null|\n",
      "|               0.0|2022|   10|         33.39|          33.63|           -0.25|         34.23|        33.8353271484375| 36.63872146606445|[33.39,33.63,-0.25]|[-1.0210157618213...| [30.0,30.07,-0.07]|               null|               null|               null|               null|               null|               null|               null|               null|               null|               null|              null|\n",
      "|               0.0|2022|   11|         36.09|          36.19|            -0.1|         36.82|      33.215415954589844|  33.8353271484375| [36.09,36.19,-0.1]|[-0.5481611208406...|[33.39,33.63,-0.25]| [30.0,30.07,-0.07]|               null|               null|               null|               null|               null|               null|               null|               null|               null|              null|\n",
      "|               0.0|2022|   12|         36.65|          36.62|            0.03|         37.05|        34.0230712890625|33.215415954589844| [36.65,36.62,0.03]|[-0.4500875656742...| [36.09,36.19,-0.1]|[33.39,33.63,-0.25]| [30.0,30.07,-0.07]|               null|               null|               null|               null|               null|               null|               null|               null|              null|\n",
      "|               0.0|2023|    1|         41.24|          41.46|           -0.22|         41.91|      34.842689514160156|  34.0230712890625|[41.24,41.46,-0.22]|[0.35376532399299...| [36.65,36.62,0.03]| [36.09,36.19,-0.1]|[33.39,33.63,-0.25]| [30.0,30.07,-0.07]|               null|               null|               null|               null|               null|               null|               null|              null|\n",
      "|               0.0|2023|    2|          42.2|          42.12|            0.09|          42.7|      37.186771392822266|34.842689514160156|  [42.2,42.12,0.09]|[0.52189141856392...|[41.24,41.46,-0.22]| [36.65,36.62,0.03]| [36.09,36.19,-0.1]|[33.39,33.63,-0.25]| [30.0,30.07,-0.07]|               null|               null|               null|               null|               null|               null|              null|\n",
      "|               0.0|2023|    3|         38.15|          38.01|            0.14|         38.61|       39.45519256591797|37.186771392822266| [38.15,38.01,0.14]|[-0.1873905429071...|  [42.2,42.12,0.09]|[41.24,41.46,-0.22]| [36.65,36.62,0.03]| [36.09,36.19,-0.1]|[33.39,33.63,-0.25]| [30.0,30.07,-0.07]|               null|               null|               null|               null|               null|              null|\n",
      "|               0.0|2023|    4|          37.1|          37.16|           -0.07|         37.65|       39.23280334472656| 39.45519256591797| [37.1,37.16,-0.07]|[-0.3712784588441...| [38.15,38.01,0.14]|  [42.2,42.12,0.09]|[41.24,41.46,-0.22]| [36.65,36.62,0.03]| [36.09,36.19,-0.1]|[33.39,33.63,-0.25]| [30.0,30.07,-0.07]|               null|               null|               null|               null|              null|\n",
      "|               0.0|2023|    5|         39.22|          39.03|            0.19|         39.62|       39.00534439086914| 39.23280334472656| [39.22,39.03,0.19]|      [0.0,0.0,1.04]| [37.1,37.16,-0.07]| [38.15,38.01,0.14]|  [42.2,42.12,0.09]|[41.24,41.46,-0.22]| [36.65,36.62,0.03]| [36.09,36.19,-0.1]|[33.39,33.63,-0.25]| [30.0,30.07,-0.07]|               null|               null|               null|              null|\n",
      "|               0.0|2023|    6|         42.36|          42.98|           -0.62|         43.46|      39.983795166015625| 39.00534439086914|[42.36,42.98,-0.62]|[0.54991243432574...| [39.22,39.03,0.19]| [37.1,37.16,-0.07]| [38.15,38.01,0.14]|  [42.2,42.12,0.09]|[41.24,41.46,-0.22]| [36.65,36.62,0.03]| [36.09,36.19,-0.1]|[33.39,33.63,-0.25]| [30.0,30.07,-0.07]|               null|               null|              null|\n",
      "|               0.0|2023|    7|         48.22|          48.37|           -0.15|         48.88|      42.127689361572266|39.983795166015625|[48.22,48.37,-0.15]|[1.57618213660245...|[42.36,42.98,-0.62]| [39.22,39.03,0.19]| [37.1,37.16,-0.07]| [38.15,38.01,0.14]|  [42.2,42.12,0.09]|[41.24,41.46,-0.22]| [36.65,36.62,0.03]| [36.09,36.19,-0.1]|[33.39,33.63,-0.25]| [30.0,30.07,-0.07]|               null|              null|\n",
      "|               0.0|2023|    8|         47.93|          47.94|           -0.01|         48.59|       46.47581100463867|42.127689361572266|[47.93,47.94,-0.01]|[1.52539404553415...|[48.22,48.37,-0.15]|[42.36,42.98,-0.62]| [39.22,39.03,0.19]| [37.1,37.16,-0.07]| [38.15,38.01,0.14]|  [42.2,42.12,0.09]|[41.24,41.46,-0.22]| [36.65,36.62,0.03]| [36.09,36.19,-0.1]|[33.39,33.63,-0.25]| [30.0,30.07,-0.07]|              null|\n",
      "|               0.0|2023|    9|         50.07|           50.3|           -0.22|         50.98|       48.76047134399414| 46.47581100463867| [50.07,50.3,-0.22]|[1.90017513134851...|[47.93,47.94,-0.01]|[48.22,48.37,-0.15]|[42.36,42.98,-0.62]| [39.22,39.03,0.19]| [37.1,37.16,-0.07]| [38.15,38.01,0.14]|  [42.2,42.12,0.09]|[41.24,41.46,-0.22]| [36.65,36.62,0.03]| [36.09,36.19,-0.1]|[33.39,33.63,-0.25]|[30.0,30.07,-0.07]|\n",
      "+------------------+----+-----+--------------+---------------+----------------+--------------+------------------------+------------------+-------------------+--------------------+-------------------+-------------------+-------------------+-------------------+-------------------+-------------------+-------------------+-------------------+-------------------+-------------------+-------------------+------------------+\n",
      "\n"
     ]
    }
   ],
   "source": [
    "data_scaled.show()"
   ]
  },
  {
   "cell_type": "code",
   "execution_count": 58,
   "id": "6f6c20e6-7cb7-4a16-84b6-c84cd32c5935",
   "metadata": {},
   "outputs": [
    {
     "name": "stdout",
     "output_type": "stream",
     "text": [
      "+------------------+----+-----+--------------+---------------+----------------+--------------+------------------------+-----------------+------------------+--------------------+-------------------+-------------------+-------------------+------------------+------------------+------------------+-----------------+-------------------+------------------+------------------+-------------------+------------------+\n",
      "|Instrument_Encoded|Year|Month|Avg_Price_Open|Avg_Price_Close|Avg_Daily_Return|Avg_Price_High|Predicted_Avg_Price_High|  Prev_Prediction|   feature_vectors|     scaled_features|              lag_1|              lag_2|              lag_3|             lag_4|             lag_5|             lag_6|            lag_7|              lag_8|             lag_9|            lag_10|             lag_11|            lag_12|\n",
      "+------------------+----+-----+--------------+---------------+----------------+--------------+------------------------+-----------------+------------------+--------------------+-------------------+-------------------+-------------------+------------------+------------------+------------------+-----------------+-------------------+------------------+------------------+-------------------+------------------+\n",
      "|               0.0|2023|    9|         50.07|           50.3|           -0.22|         50.98|       48.76047134399414|46.47581100463867|[50.07,50.3,-0.22]|[1.90017513134851...|[47.93,47.94,-0.01]|[48.22,48.37,-0.15]|[42.36,42.98,-0.62]|[39.22,39.03,0.19]|[37.1,37.16,-0.07]|[38.15,38.01,0.14]|[42.2,42.12,0.09]|[41.24,41.46,-0.22]|[36.65,36.62,0.03]|[36.09,36.19,-0.1]|[33.39,33.63,-0.25]|[30.0,30.07,-0.07]|\n",
      "+------------------+----+-----+--------------+---------------+----------------+--------------+------------------------+-----------------+------------------+--------------------+-------------------+-------------------+-------------------+------------------+------------------+------------------+-----------------+-------------------+------------------+------------------+-------------------+------------------+\n",
      "\n"
     ]
    }
   ],
   "source": [
    "# select the latest month which has the previous. drop the lag_9, as it will be NULL. lags go on until (sequenct_length-1)\n",
    "data_scaled_last_month = data_scaled.filter((col('Year')==2023) & (col('Month')==9))\n",
    "data_scaled_last_month.show()"
   ]
  },
  {
   "cell_type": "code",
   "execution_count": 59,
   "id": "2b442052-2087-405b-99c1-d702a56ba430",
   "metadata": {},
   "outputs": [],
   "source": [
    "# prepare the input for that will be fed into the LSTM \n",
    "# as we know, the LSTM takes lag sequences as input for predition\n",
    "# so we take all the lags for the most recent month, convert it to a Numpy array and pass it to the model \n",
    "\n",
    "X_val = np.array(data_scaled_last_month.select([\"lag_{}\".format(i) for i in range(1, sequence_length_val+1)]).collect())"
   ]
  },
  {
   "cell_type": "code",
   "execution_count": 60,
   "id": "09b42e54-19c8-4d85-9b4c-c027956642a1",
   "metadata": {},
   "outputs": [
    {
     "name": "stdout",
     "output_type": "stream",
     "text": [
      "1/1 [==============================] - 0s 16ms/step\n"
     ]
    }
   ],
   "source": [
    "# perform the prediction \n",
    "next_month_prediction = model.predict(X_val)[0][0]"
   ]
  },
  {
   "cell_type": "code",
   "execution_count": 61,
   "id": "d7c06ec8-dd75-4a3a-8ca5-7ca652b6133a",
   "metadata": {},
   "outputs": [
    {
     "data": {
      "text/plain": [
       "48.760468"
      ]
     },
     "execution_count": 61,
     "metadata": {},
     "output_type": "execute_result"
    }
   ],
   "source": [
    "next_month_prediction"
   ]
  },
  {
   "cell_type": "code",
   "execution_count": 62,
   "id": "12d421bd-e133-4248-b012-9ec94f3171a3",
   "metadata": {},
   "outputs": [
    {
     "name": "stdout",
     "output_type": "stream",
     "text": [
      "1/1 [==============================] - 0s 79ms/step\n",
      "1/1 [==============================] - 0s 30ms/step\n",
      "1/1 [==============================] - 0s 21ms/step\n"
     ]
    }
   ],
   "source": [
    "# now also predict for the next three months - Oct, Nov and Dec \n",
    "next_month_predictions = [] # create an array that holds the next 3 months predictions \n",
    "for month in range(10, 13):\n",
    "    prediction = model.predict(X_val)[0][0]\n",
    "    next_month_predictions.append(prediction)\n",
    "    # Update lag inputs with the current prediction for the next iteration\n",
    "    X_val[0, :-1] = X_val[0, 1:]\n",
    "    X_val[0, -1] = prediction"
   ]
  },
  {
   "cell_type": "code",
   "execution_count": 63,
   "id": "44d0fb7e-47ad-4343-898d-368af85483d3",
   "metadata": {},
   "outputs": [
    {
     "data": {
      "text/plain": [
       "[48.760468, 42.95502, 33.072865]"
      ]
     },
     "execution_count": 63,
     "metadata": {},
     "output_type": "execute_result"
    }
   ],
   "source": [
    "next_month_predictions"
   ]
  },
  {
   "cell_type": "markdown",
   "id": "48a213a6-3278-4f82-a5fd-7bbca8919166",
   "metadata": {},
   "source": [
    "### Recommendations for Deployment:\n",
    "- Build a web application/API service that takes in a company's RIC code as input parameter in the API end point.\n",
    "- Locate this RIC in the compiled LSTM predictions data and filter the data just like the validation step.  \n",
    "- Preload the LSTM model, make predictions for the next 3 months just like the validation example and elucidate all neccessary insights. "
   ]
  },
  {
   "cell_type": "code",
   "execution_count": 64,
   "id": "35f702a9-d087-4208-a0f4-995a304cd014",
   "metadata": {},
   "outputs": [],
   "source": [
    "model.save('LSTM_model_build_v2.h5')"
   ]
  },
  {
   "cell_type": "code",
   "execution_count": null,
   "id": "cc802811-db12-41c6-8e2f-26b28f885f34",
   "metadata": {},
   "outputs": [],
   "source": []
  }
 ],
 "metadata": {
  "kernelspec": {
   "display_name": "Python 3 (ipykernel)",
   "language": "python",
   "name": "python3"
  },
  "language_info": {
   "codemirror_mode": {
    "name": "ipython",
    "version": 3
   },
   "file_extension": ".py",
   "mimetype": "text/x-python",
   "name": "python",
   "nbconvert_exporter": "python",
   "pygments_lexer": "ipython3",
   "version": "3.10.0"
  }
 },
 "nbformat": 4,
 "nbformat_minor": 5
}
