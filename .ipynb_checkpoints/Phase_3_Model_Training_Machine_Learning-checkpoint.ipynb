{
 "cells": [
  {
   "cell_type": "markdown",
   "id": "9a838563-6059-4037-bffa-920975ab2c3f",
   "metadata": {},
   "source": [
    "# IBM Advanced Data Science Capstone: Forecasting Stock Prices"
   ]
  },
  {
   "cell_type": "markdown",
   "id": "bab9a92d-f52a-4626-bd84-e080e05cbbd1",
   "metadata": {},
   "source": [
    "## Model Training"
   ]
  },
  {
   "cell_type": "markdown",
   "id": "1e3fa891-e27a-4de1-9112-2b77b814d574",
   "metadata": {},
   "source": [
    "In this project phase, We will now start building our Machine Learning and Deep Learning models to predict the highest stock price of RICs over time. As per our recommendations we will implement two algorithms: \n",
    "\n",
    "1. Random Forest Regression model from the machine learning stack\n",
    "2. Long-Short-Term-Memory (LSTM) Recurrent Neural Network (RNN) from the deep learning stack\n",
    "\n",
    "We will the compare the performances of the two models and do the model deployment at real-time. We will tune the hyperparameters and frequently revisit our model defintions and apply the tuning. We will also reach back to the feature engineering and multivariate analysis to update the features in order to improve the model performance. \n"
   ]
  },
  {
   "cell_type": "markdown",
   "id": "3b0b1d02-c926-4bfc-87f9-c5842e189a85",
   "metadata": {},
   "source": [
    "### Install Dependencies "
   ]
  },
  {
   "cell_type": "code",
   "execution_count": 58,
   "id": "a64b0781-50c2-41d9-a584-a48f7f63d0a5",
   "metadata": {},
   "outputs": [
    {
     "name": "stdout",
     "output_type": "stream",
     "text": [
      "detected a spark instance!\n"
     ]
    },
    {
     "data": {
      "text/html": [
       "<style>pre { white-space: pre !important; }</style>"
      ],
      "text/plain": [
       "<IPython.core.display.HTML object>"
      ]
     },
     "metadata": {},
     "output_type": "display_data"
    },
    {
     "name": "stdout",
     "output_type": "stream",
     "text": [
      "set display settings!\n",
      "installed all pyspark dependencies!\n",
      "installed all keras and tensorflow dependencies for the LSTM model!\n",
      "intialized a spark context!\n",
      "all dependencies installed!\n"
     ]
    }
   ],
   "source": [
    "# find and init the spark instance to ensure it is pip installed\n",
    "import findspark\n",
    "findspark.init()\n",
    "\n",
    "print(\"detected a spark instance!\")\n",
    "\n",
    "# set some HTML display setting \n",
    "from IPython.core.display import HTML\n",
    "display(HTML(\"<style>pre { white-space: pre !important; }</style>\"))\n",
    "\n",
    "print(\"set display settings!\")\n",
    "# import all the pyspark dependencies \n",
    "from pyspark import SparkContext, SparkConf\n",
    "from pyspark.sql import SQLContext, SparkSession\n",
    "from pyspark.sql.types import StructType, StructField, DoubleType, IntegerType, StringType, DateType\n",
    "from pyspark.sql.functions import *\n",
    "import pyspark.sql.functions as F\n",
    "\n",
    "from pyspark.ml.feature import StringIndexer, VectorAssembler, StandardScaler, MinMaxScaler\n",
    "from pyspark.ml import Pipeline\n",
    "from pyspark.ml.regression import RandomForestRegressor\n",
    "from pyspark.ml.evaluation import RegressionEvaluator\n",
    "from pyspark.ml.tuning import ParamGridBuilder, CrossValidator, TrainValidationSplit\n",
    "\n",
    "print(\"installed all pyspark dependencies!\")\n",
    "\n",
    "from tensorflow import keras\n",
    "from sklearn.preprocessing import MinMaxScaler\n",
    "from keras.models import Sequential\n",
    "from keras.layers import LSTM, Dense\n",
    "\n",
    "print(\"installed all keras and tensorflow dependencies for the LSTM model!\")\n",
    "\n",
    "# declare a spark object that we will run our spark SQL dataframes on \n",
    "sc = SparkContext.getOrCreate(SparkConf().setMaster(\"local[*]\"))\n",
    "\n",
    "# init a spark session \n",
    "from pyspark.sql import SparkSession\n",
    "spark = SparkSession \\\n",
    "    .builder \\\n",
    "    .getOrCreate()\n",
    "\n",
    "print(\"intialized a spark context!\")\n",
    "\n",
    "# import basic data analysis libraries  \n",
    "import numpy as np\n",
    "import pandas as pd\n",
    "import scipy.stats as stats\n",
    "import random\n",
    "\n",
    "# ignore warnings\n",
    "import warnings\n",
    "warnings.filterwarnings('ignore')\n",
    "\n",
    "# import libraries for data visualization\n",
    "import matplotlib.pyplot as plt\n",
    "import seaborn as sns\n",
    "\n",
    "sns.set_style(\"darkgrid\")\n",
    "\n",
    "print(\"all dependencies installed!\")"
   ]
  },
  {
   "cell_type": "markdown",
   "id": "83aa3ea5-a242-44e4-b7c9-55ce98557557",
   "metadata": {},
   "source": [
    "### Import the transformed dataset"
   ]
  },
  {
   "cell_type": "code",
   "execution_count": 2,
   "id": "c938d522-8dc6-4ca7-877f-0cbc0884042c",
   "metadata": {},
   "outputs": [
    {
     "name": "stdout",
     "output_type": "stream",
     "text": [
      "+-----------+----+-------+-----+--------------+--------------+---------------+----------------+------------+-----------+--------------------+-------------------------+-------------------------+------------------------+--------------------+--------------------+-------------------------+-------------------------+------------------------+------------------+------------------+\n",
      "|Instrument0|Year|Quarter|Month|Avg_Price_High|Avg_Price_Open|Avg_Price_Close|Avg_Daily_Return|Total_Volume|Instrument9| Company_Common_Name|TRBC_Economic_Sector_Name|TRBC_Business_Sector_Name|TRBC_Industry_Group_Name|  TRBC_Industry_Name|  TRBC_Activity_Name|TRBC_Economic_Sector_Code|TRBC_Business_Sector_Code|TRBC_Industry_Group_Code|TRBC_Industry_Code|TRBC_Activity_Code|\n",
      "+-----------+----+-------+-----+--------------+--------------+---------------+----------------+------------+-----------+--------------------+-------------------------+-------------------------+------------------------+--------------------+--------------------+-------------------------+-------------------------+------------------------+------------------+------------------+\n",
      "|    SENSI.S|2019|      2|    4|         43.45|         42.57|          42.38|            0.19|    447497.0|    SENSI.S|Sensirion Holding AG|               Technology|     Technology Equipment|    Electronic Equipm...|Electronic Equipm...|Electronic Compon...|                       57|                     5710|                  571040|          57104010|        5710401014|\n",
      "|    EXLn.DE|2020|      3|    9|         17.46|         16.95|          16.97|           -0.02|    849202.0|    EXLn.DE|           Exasol AG|              Industrials|     Industrial & Comm...|    Professional & Co...|Business Support ...|Data Processing S...|                       52|                     5220|                  522030|          52203040|        5220304017|\n",
      "|    LEGn.DE|2023|      1|    2|          72.9|         72.17|          71.79|            0.38|   3604817.0|    LEGn.DE|   LEG Immobilien SE|              Real Estate|              Real Estate|    Real Estate Opera...|Real Estate Renta...|Residential Real ...|                       60|                     6010|                  601010|          60101010|        6010101050|\n",
      "|   DTEGn.DE|2022|      3|    9|         18.85|         18.71|          18.65|            0.06| 173590920.0|   DTEGn.DE| Deutsche Telekom AG|               Technology|     Telecommunication...|    Telecommunication...|Integrated Teleco...|Integrated Teleco...|                       57|                     5740|                  574010|          57401010|        5740101010|\n",
      "|    RHMG.DE|2022|      3|    8|        174.51|        171.25|         170.74|            0.51|   4206024.0|    RHMG.DE|      Rheinmetall AG|              Industrials|         Industrial Goods|     Aerospace & Defense| Aerospace & Defense|Aerospace & Defen...|                       52|                     5210|                  521010|          52101010|        5210101010|\n",
      "+-----------+----+-------+-----+--------------+--------------+---------------+----------------+------------+-----------+--------------------+-------------------------+-------------------------+------------------------+--------------------+--------------------+-------------------------+-------------------------+------------------------+------------------+------------------+\n",
      "only showing top 5 rows\n",
      "\n"
     ]
    }
   ],
   "source": [
    "data_stocks_transformed = spark.read.csv('kaggle_stock_data_transformed.csv', header=True)\n",
    "data_stocks_transformed.show(5)"
   ]
  },
  {
   "cell_type": "code",
   "execution_count": 3,
   "id": "86006e9c-b957-471f-9446-f83fae4e4628",
   "metadata": {},
   "outputs": [
    {
     "data": {
      "text/plain": [
       "[('Instrument', 'string'),\n",
       " ('Year', 'int'),\n",
       " ('Quarter', 'int'),\n",
       " ('Month', 'int'),\n",
       " ('Avg_Price_Open', 'double'),\n",
       " ('Avg_Price_Close', 'double'),\n",
       " ('Avg_Price_High', 'double'),\n",
       " ('Avg_Daily_Return', 'double'),\n",
       " ('Total_Volume', 'int')]"
      ]
     },
     "execution_count": 3,
     "metadata": {},
     "output_type": "execute_result"
    }
   ],
   "source": [
    "# some datatype transformation may have been lost. reconfigure the dataframe accordingly and define a model set with only the required features \n",
    "data_stocks_modelSet = data_stocks_transformed.select(\"Instrument0\", \"Year\", \"Quarter\",\\\n",
    "\"Month\", \"Avg_Price_Open\", \"Avg_Price_Close\", \"Avg_Price_High\", \"Avg_Daily_Return\", \"Total_Volume\")\n",
    "\n",
    "data_stocks_modelSet = data_stocks_modelSet.select(\n",
    "    col(\"Instrument0\").cast(StringType()).alias(\"Instrument\"),\n",
    "    col(\"Year\").cast(IntegerType()).alias(\"Year\"),\n",
    "    col(\"Quarter\").cast(IntegerType()).alias(\"Quarter\"),\n",
    "    col(\"Month\").cast(IntegerType()).alias(\"Month\"),\n",
    "    col(\"Avg_Price_Open\").cast(DoubleType()).alias(\"Avg_Price_Open\"),\n",
    "    col(\"Avg_Price_Close\").cast(DoubleType()).alias(\"Avg_Price_Close\"),\n",
    "    col(\"Avg_Price_High\").cast(DoubleType()).alias(\"Avg_Price_High\"),\n",
    "    col(\"Avg_Daily_Return\").cast(DoubleType()).alias(\"Avg_Daily_Return\"),\n",
    "    col(\"Total_Volume\").cast(IntegerType()).alias(\"Total_Volume\")\n",
    "    \n",
    ")\n",
    "data_stocks_modelSet = data_stocks_modelSet.sort(['Instrument', 'Year', 'Quarter', 'Month'], ascending=[True, False, True, True]) \n",
    "data_stocks_modelSet.dtypes"
   ]
  },
  {
   "cell_type": "markdown",
   "id": "a5eabb54-1b05-46fc-ae5f-0464268e2ea8",
   "metadata": {},
   "source": [
    "## Random Forest Regression Model "
   ]
  },
  {
   "cell_type": "markdown",
   "id": "ebee3fbc-f63c-44cd-a2a7-7ba477d271e0",
   "metadata": {},
   "source": [
    "Let us now predict the average highest stock price using the Random Forest Regressor from the Machine Learning Suite. The ilustration below depicts the steps does our transformed and aggregate goes through in a Machine Learning Pipeline. "
   ]
  },
  {
   "attachments": {
    "91fe85e1-338b-4524-8368-eb8cecc2cbc8.png": {
     "image/png": "[encoded data removed]"
    }
   },
   "cell_type": "markdown",
   "id": "a0c388ba-ce7d-473f-a1ce-f895bbddf48e",
   "metadata": {},
   "source": [
    "![Random_Forest_Model.drawio.png](attachment:91fe85e1-338b-4524-8368-eb8cecc2cbc8.png)"
   ]
  },
  {
   "cell_type": "markdown",
   "id": "52812547-fd37-4a1e-a31c-2f9ee012317f",
   "metadata": {},
   "source": [
    "### Step-1: Encoded the non-numeric feature(s) into numerical indexes"
   ]
  },
  {
   "cell_type": "code",
   "execution_count": 4,
   "id": "eb111116-2ea3-49a7-a166-3f94f92aeb4c",
   "metadata": {},
   "outputs": [
    {
     "name": "stdout",
     "output_type": "stream",
     "text": [
      "+----------+----+-------+-----+--------------+---------------+--------------+----------------+------------+------------------+\n",
      "|Instrument|Year|Quarter|Month|Avg_Price_Open|Avg_Price_Close|Avg_Price_High|Avg_Daily_Return|Total_Volume|Instrument_Encoded|\n",
      "+----------+----+-------+-----+--------------+---------------+--------------+----------------+------------+------------------+\n",
      "|    0W6K.L|2023|      3|    8|         23.08|           0.16|          0.16|           22.92|         402|             382.0|\n",
      "|    0W6K.L|2022|      1|    1|         23.08|           2.51|          2.67|           20.58|        4757|             382.0|\n",
      "|    0W6K.L|2022|      1|    2|         23.08|           2.02|          2.04|           21.06|         258|             382.0|\n",
      "|    0W6K.L|2022|      1|    3|         23.08|           1.99|          1.99|           21.09|         697|             382.0|\n",
      "|    0W6K.L|2022|      2|    4|         23.08|           1.91|          1.91|           21.18|           2|             382.0|\n",
      "+----------+----+-------+-----+--------------+---------------+--------------+----------------+------------+------------------+\n",
      "only showing top 5 rows\n",
      "\n"
     ]
    }
   ],
   "source": [
    "# create a stringIndexer() object and pass the features to be encoded \n",
    "indexer = StringIndexer(inputCol=\"Instrument\", outputCol=\"Instrument_Encoded\")\n",
    "data_stocks_indexed = indexer.fit(data_stocks_modelSet).transform(data_stocks_modelSet)\n",
    "data_stocks_indexed.show(5) "
   ]
  },
  {
   "cell_type": "code",
   "execution_count": 5,
   "id": "2f37206b-070a-4f08-b5b3-62880e3bb5f4",
   "metadata": {},
   "outputs": [
    {
     "name": "stdout",
     "output_type": "stream",
     "text": [
      "+----+-------+-----+--------------+---------------+--------------+----------------+------------+------------------+\n",
      "|Year|Quarter|Month|Avg_Price_Open|Avg_Price_Close|Avg_Price_High|Avg_Daily_Return|Total_Volume|Instrument_Encoded|\n",
      "+----+-------+-----+--------------+---------------+--------------+----------------+------------+------------------+\n",
      "|2023|      1|    1|         41.24|          41.46|         41.91|           -0.22|    28687785|               0.0|\n",
      "|2023|      1|    2|          42.2|          42.12|          42.7|            0.09|    20555899|               0.0|\n",
      "|2023|      1|    3|         38.15|          38.01|         38.61|            0.14|    41644073|               0.0|\n",
      "|2023|      2|    4|          37.1|          37.16|         37.65|           -0.07|    18985593|               0.0|\n",
      "|2023|      2|    5|         39.22|          39.03|         39.62|            0.19|    18625453|               0.0|\n",
      "+----+-------+-----+--------------+---------------+--------------+----------------+------------+------------------+\n",
      "only showing top 5 rows\n",
      "\n"
     ]
    }
   ],
   "source": [
    "# drop the string column as it will cause computation error - we already have the encoded equivalent \n",
    "data_stocks_indexed = data_stocks_indexed.drop('Instrument')\n",
    "\n",
    "# sort the dataframe accordingly \n",
    "data_stocks_indexed = data_stocks_indexed.sort([\"Instrument_Encoded\", \"Year\", \"Quarter\", \"Month\"], ascending=[True, False, True, True])\n",
    "data_stocks_indexed.show(5)"
   ]
  },
  {
   "cell_type": "code",
   "execution_count": 6,
   "id": "43c22b53-531b-4172-8c5c-17a6a838ade0",
   "metadata": {},
   "outputs": [
    {
     "data": {
      "text/plain": [
       "[('Year', 'int'),\n",
       " ('Quarter', 'int'),\n",
       " ('Month', 'int'),\n",
       " ('Avg_Price_Open', 'double'),\n",
       " ('Avg_Price_Close', 'double'),\n",
       " ('Avg_Price_High', 'double'),\n",
       " ('Avg_Daily_Return', 'double'),\n",
       " ('Total_Volume', 'int'),\n",
       " ('Instrument_Encoded', 'double')]"
      ]
     },
     "execution_count": 6,
     "metadata": {},
     "output_type": "execute_result"
    }
   ],
   "source": [
    "# re-verify the datatypes \n",
    "data_stocks_indexed.dtypes"
   ]
  },
  {
   "cell_type": "markdown",
   "id": "98a96359-4be7-44a6-bb50-0aff2d6a6f93",
   "metadata": {},
   "source": [
    "### Step-2: Build a feature vector from the feature set as defined in the Feature Engineering phase "
   ]
  },
  {
   "cell_type": "code",
   "execution_count": 7,
   "id": "f77c6971-ceaa-481d-8abe-ddd899b4b0fe",
   "metadata": {},
   "outputs": [
    {
     "name": "stdout",
     "output_type": "stream",
     "text": [
      "+----+-------+-----+--------------+---------------+--------------+----------------+------------+------------------+--------------------+\n",
      "|Year|Quarter|Month|Avg_Price_Open|Avg_Price_Close|Avg_Price_High|Avg_Daily_Return|Total_Volume|Instrument_Encoded|     feature_vectors|\n",
      "+----+-------+-----+--------------+---------------+--------------+----------------+------------+------------------+--------------------+\n",
      "|2023|      1|    1|         41.24|          41.46|         41.91|           -0.22|    28687785|               0.0|[41.46,41.24,2.86...|\n",
      "|2023|      1|    2|          42.2|          42.12|          42.7|            0.09|    20555899|               0.0|[42.12,42.2,2.055...|\n",
      "|2023|      1|    3|         38.15|          38.01|         38.61|            0.14|    41644073|               0.0|[38.01,38.15,4.16...|\n",
      "|2023|      2|    4|          37.1|          37.16|         37.65|           -0.07|    18985593|               0.0|[37.16,37.1,1.898...|\n",
      "|2023|      2|    5|         39.22|          39.03|         39.62|            0.19|    18625453|               0.0|[39.03,39.22,1.86...|\n",
      "+----+-------+-----+--------------+---------------+--------------+----------------+------------+------------------+--------------------+\n",
      "only showing top 5 rows\n",
      "\n"
     ]
    }
   ],
   "source": [
    "# create a VectorAssembler() object to create a feature vector from the feature set as recommended by the feature engineering\n",
    "feature_cols = ['Avg_Price_Close','Avg_Price_Open', 'Total_Volume']\n",
    "vector_assembler = VectorAssembler(inputCols=feature_cols, outputCol=\"feature_vectors\")\n",
    "data_stocks_assembled = vector_assembler.transform(data_stocks_indexed)\n",
    "data_stocks_assembled.show(5)"
   ]
  },
  {
   "cell_type": "markdown",
   "id": "903f7a00-5ddf-412b-bd7e-ba18c321714b",
   "metadata": {},
   "source": [
    "### Step-3: Scale the features in the feature set with the Standard Scaler "
   ]
  },
  {
   "cell_type": "code",
   "execution_count": 8,
   "id": "476a21b7-bd13-4095-8d21-f5f037ac74d1",
   "metadata": {},
   "outputs": [
    {
     "name": "stdout",
     "output_type": "stream",
     "text": [
      "+----+-------+-----+--------------+---------------+--------------+----------------+------------+------------------+--------------------+--------------------+\n",
      "|Year|Quarter|Month|Avg_Price_Open|Avg_Price_Close|Avg_Price_High|Avg_Daily_Return|Total_Volume|Instrument_Encoded|     feature_vectors|     scaled_features|\n",
      "+----+-------+-----+--------------+---------------+--------------+----------------+------------+------------------+--------------------+--------------------+\n",
      "|2023|      1|    1|         41.24|          41.46|         41.91|           -0.22|    28687785|               0.0|[41.46,41.24,2.86...|[-0.2019054569971...|\n",
      "|2023|      1|    2|          42.2|          42.12|          42.7|            0.09|    20555899|               0.0|[42.12,42.2,2.055...|[-0.1994129024743...|\n",
      "|2023|      1|    3|         38.15|          38.01|         38.61|            0.14|    41644073|               0.0|[38.01,38.15,4.16...|[-0.2149347192752...|\n",
      "|2023|      2|    4|          37.1|          37.16|         37.65|           -0.07|    18985593|               0.0|[37.16,37.1,1.898...|[-0.2181448273727...|\n",
      "|2023|      2|    5|         39.22|          39.03|         39.62|            0.19|    18625453|               0.0|[39.03,39.22,1.86...|[-0.2110825895582...|\n",
      "+----+-------+-----+--------------+---------------+--------------+----------------+------------+------------------+--------------------+--------------------+\n",
      "only showing top 5 rows\n",
      "\n"
     ]
    }
   ],
   "source": [
    "# Standardize the features into a proper range with the standard scaler \n",
    "scaler = StandardScaler(inputCol=\"feature_vectors\", outputCol=\"scaled_features\", withStd=True, withMean=True)\n",
    "scaler_model = scaler.fit(data_stocks_assembled)\n",
    "data_stocks_featureScaled = scaler_model.transform(data_stocks_assembled)\n",
    "data_stocks_featureScaled.show(5)"
   ]
  },
  {
   "cell_type": "markdown",
   "id": "31f9ed70-b403-4250-bc7a-e00ef3fa0f32",
   "metadata": {},
   "source": [
    "### Step-4: Split the data into Training and Test data"
   ]
  },
  {
   "cell_type": "code",
   "execution_count": 9,
   "id": "dbf58868-cffc-44fa-a7cb-b7171ed4c395",
   "metadata": {},
   "outputs": [],
   "source": [
    "# Split the data into training and test sets\n",
    "train_data = data_stocks_featureScaled.filter(data_stocks_featureScaled[\"Year\"] < 2023)  # Data up to December 2022\n",
    "test_data = data_stocks_featureScaled.filter(data_stocks_featureScaled[\"Year\"] == 2023)  # Data for 2023"
   ]
  },
  {
   "cell_type": "markdown",
   "id": "7670b5cf-a68f-4124-ac82-0258c65d9fed",
   "metadata": {},
   "source": [
    "### Step-5: Hyperparameter Tuning"
   ]
  },
  {
   "cell_type": "code",
   "execution_count": 9,
   "id": "655f3382-c1cc-4731-b4a7-2519df64c4d6",
   "metadata": {},
   "outputs": [
    {
     "name": "stdout",
     "output_type": "stream",
     "text": [
      "find_hyperparameters() compiled ...\n"
     ]
    }
   ],
   "source": [
    "''' \n",
    "find_hyperparameters() : a function to find the hyperparameter for the Random Forest Regressor usinf the grid search method \n",
    "@params: df - an input dataframe, featuresCol - column in the dataframe that has the scaled feature vectors, labelCol - column of the target variable, \n",
    "              num_trees_array - an array with some no. of tree for which we are tuning the regressor, num_iterations - how many times to run the search\n",
    "@return: None \n",
    "'''\n",
    "def find_hyperparameters(df, featuresCol, labelCol, num_trees_array, num_iterations): \n",
    "    \n",
    "    rf_init = RandomForestRegressor(featuresCol=featuresCol, labelCol=labelCol, seed=42)\n",
    "    \n",
    "    param_grid = ParamGridBuilder() \\\n",
    "    .addGrid(rf_init.numTrees, random.sample(num_trees_array, num_iterations)) \\\n",
    "    .build()\n",
    "\n",
    "    evaluator = RegressionEvaluator(labelCol=labelCol, predictionCol=\"prediction\", metricName=\"rmse\")\n",
    "\n",
    "    tvs = TrainValidationSplit(estimator=rf_init,\n",
    "                           estimatorParamMaps=param_grid,\n",
    "                           evaluator=evaluator,\n",
    "                           trainRatio=0.8,\n",
    "                           seed=42)\n",
    "\n",
    "    tvs_model = tvs.fit(df)\n",
    "\n",
    "    # Get the best model and its hyperparameters\n",
    "    best_model = tvs_model.bestModel\n",
    "    best_num_trees = best_model.getNumTrees\n",
    "    \n",
    "    print(best_model)\n",
    "    print(best_num_trees)\n",
    "\n",
    "print(\"find_hyperparameters() compiled ...\")"
   ]
  },
  {
   "cell_type": "code",
   "execution_count": 14,
   "id": "0188ed4e-2e36-4649-8d9b-036553c9e3d3",
   "metadata": {},
   "outputs": [
    {
     "name": "stdout",
     "output_type": "stream",
     "text": [
      "RandomForestRegressionModel: uid=RandomForestRegressor_24dab111635d, numTrees=16, numFeatures=4\n",
      "16\n"
     ]
    }
   ],
   "source": [
    "find_hyperparameters(train_data, 'scaled_features', 'Avg_Price_High', [16, 32, 64, 128], 3)"
   ]
  },
  {
   "cell_type": "markdown",
   "id": "8d6eb0ca-57f6-446f-a1df-07acb117bd20",
   "metadata": {},
   "source": [
    "### Step-6: Tune the Regressor based on the searched Hyperparameter and predict the target "
   ]
  },
  {
   "cell_type": "code",
   "execution_count": 10,
   "id": "c1d409d4-16de-4944-bf39-394fba117902",
   "metadata": {},
   "outputs": [],
   "source": [
    "# define the regression models for each target feature, tune the hyperparameters based on the findings, keep retuning them  \n",
    "rf_tuned = RandomForestRegressor(featuresCol=\"scaled_features\", labelCol=\"Avg_Price_High\", numTrees=16, seed=42)"
   ]
  },
  {
   "cell_type": "code",
   "execution_count": 11,
   "id": "29b9401d-0b3d-4c77-894b-5029e636fd04",
   "metadata": {},
   "outputs": [],
   "source": [
    "# fit the model on the training data \n",
    "rf_model = rf_tuned.fit(train_data)"
   ]
  },
  {
   "cell_type": "code",
   "execution_count": 12,
   "id": "b8f809a1-d79f-4f6c-bfcc-188ed97d5492",
   "metadata": {},
   "outputs": [
    {
     "name": "stdout",
     "output_type": "stream",
     "text": [
      "+----+-------+-----+--------------+---------------+--------------+----------------+------------+------------------+--------------------+--------------------+------------------------+\n",
      "|Year|Quarter|Month|Avg_Price_Open|Avg_Price_Close|Avg_Price_High|Avg_Daily_Return|Total_Volume|Instrument_Encoded|     feature_vectors|     scaled_features|predicted_Avg_Price_High|\n",
      "+----+-------+-----+--------------+---------------+--------------+----------------+------------+------------------+--------------------+--------------------+------------------------+\n",
      "|2023|      1|    1|         41.24|          41.46|         41.91|           -0.22|    28687785|               0.0|[41.46,41.24,2.86...|[-0.2019054569971...|       39.67948383025969|\n",
      "|2023|      1|    2|          42.2|          42.12|          42.7|            0.09|    20555899|               0.0|[42.12,42.2,2.055...|[-0.1994129024743...|       40.35305106882755|\n",
      "|2023|      1|    3|         38.15|          38.01|         38.61|            0.14|    41644073|               0.0|[38.01,38.15,4.16...|[-0.2149347192752...|       39.67948383025969|\n",
      "|2023|      2|    4|          37.1|          37.16|         37.65|           -0.07|    18985593|               0.0|[37.16,37.1,1.898...|[-0.2181448273727...|       36.97071607254915|\n",
      "|2023|      2|    5|         39.22|          39.03|         39.62|            0.19|    18625453|               0.0|[39.03,39.22,1.86...|[-0.2110825895582...|       40.35305106882755|\n",
      "|2023|      2|    6|         42.36|          42.98|         43.46|           -0.62|    45489802|               0.0|[42.98,42.36,4.54...|[-0.1961650283992...|       39.67948383025969|\n",
      "|2023|      3|    7|         48.22|          48.37|         48.88|           -0.15|    19795065|               0.0|[48.37,48.22,1.97...|[-0.1758091664632...|       40.35305106882755|\n",
      "|2023|      3|    8|         47.93|          47.94|         48.59|           -0.01|    16165766|               0.0|[47.94,47.93,1.61...|[-0.1774331035008...|       40.35305106882755|\n",
      "|2023|      3|    9|         50.07|           50.3|         50.98|           -0.22|    10476684|               0.0|[50.3,50.07,1.047...|[-0.1685203327830...|       40.13799399087473|\n",
      "|2023|      1|    1|         12.32|          12.37|          12.5|           -0.05|     2096677|               1.0|[12.37,12.32,2096...|[-0.3117666858869...|      18.436247481793007|\n",
      "+----+-------+-----+--------------+---------------+--------------+----------------+------------+------------------+--------------------+--------------------+------------------------+\n",
      "only showing top 10 rows\n",
      "\n"
     ]
    }
   ],
   "source": [
    "# Predict the Avg_Price_High on the test data \n",
    "predictions_test = rf_model.transform(test_data).withColumnRenamed(\"prediction\", \"predicted_Avg_Price_High\")\n",
    "predictions_test.show(10)"
   ]
  },
  {
   "cell_type": "code",
   "execution_count": 13,
   "id": "50c076e2-5cdb-4ebb-8cdd-d8b3a48b383e",
   "metadata": {},
   "outputs": [
    {
     "name": "stdout",
     "output_type": "stream",
     "text": [
      "+----+-------+-----+--------------+---------------+--------------+----------------+------------+------------------+--------------------+--------------------+------------------------+\n",
      "|Year|Quarter|Month|Avg_Price_Open|Avg_Price_Close|Avg_Price_High|Avg_Daily_Return|Total_Volume|Instrument_Encoded|     feature_vectors|     scaled_features|predicted_Avg_Price_High|\n",
      "+----+-------+-----+--------------+---------------+--------------+----------------+------------+------------------+--------------------+--------------------+------------------------+\n",
      "|2022|      1|    1|         54.72|          54.67|          55.5|            0.05|    21892559|               0.0|[54.67,54.72,2.18...|[-0.1520166005641...|       40.35305106882755|\n",
      "|2022|      1|    2|         52.54|          52.48|         53.26|            0.07|    23053746|               0.0|[52.48,52.54,2.30...|[-0.1602873496624...|       40.35305106882755|\n",
      "|2022|      1|    3|         46.29|          46.08|         47.21|            0.21|    35449708|               0.0|[46.08,46.29,3.54...|[-0.1844575753377...|       39.67948383025969|\n",
      "|2022|      2|    4|         43.55|          43.41|         44.09|            0.13|    26666897|               0.0|[43.41,43.55,2.66...|[-0.1945410913616...|       39.67948383025969|\n",
      "|2022|      2|    5|         40.06|          40.15|         40.67|           -0.08|    24096696|               0.0|[40.15,40.06,2.40...|[-0.2068528000650...|       40.35305106882755|\n",
      "|2022|      2|    6|         38.99|           38.5|         39.41|            0.49|    29168228|               0.0|[38.5,38.99,2.916...|[-0.2130841863719...|       39.67948383025969|\n",
      "|2022|      3|    7|         32.69|          32.66|         33.34|            0.03|    25231462|               0.0|[32.66,32.69,2.52...|[-0.2351395173006...|      28.338010344082832|\n",
      "|2022|      3|    8|         31.71|          31.67|         32.29|            0.04|    25007711|               0.0|[31.67,31.71,2.50...|[-0.2388783490848...|      28.338010344082832|\n",
      "|2022|      3|    9|          30.0|          30.07|         30.53|           -0.07|    30684298|               0.0|[30.07,30.0,3.068...|[-0.2449209055036...|      28.338010344082832|\n",
      "|2022|      4|   10|         33.39|          33.63|         34.23|           -0.25|    28264004|               0.0|[33.63,33.39,2.82...|[-0.2314762174717...|      36.297148833981296|\n",
      "+----+-------+-----+--------------+---------------+--------------+----------------+------------+------------------+--------------------+--------------------+------------------------+\n",
      "only showing top 10 rows\n",
      "\n"
     ]
    }
   ],
   "source": [
    "# Predict the Avg_Price_High on the traning data as well - to check for overfitting/underfitting later on  \n",
    "predictions_train = rf_model.transform(train_data).withColumnRenamed(\"prediction\", \"predicted_Avg_Price_High\")\n",
    "predictions_train.show(10)"
   ]
  },
  {
   "cell_type": "markdown",
   "id": "0915cacc-5ec7-4ddc-924b-8e6c688895e4",
   "metadata": {},
   "source": [
    "### Step-7 : Performance Evaluation of the Random Forest Regressor"
   ]
  },
  {
   "cell_type": "code",
   "execution_count": 14,
   "id": "15583c17-df26-45d6-9d95-82df2eef0471",
   "metadata": {},
   "outputs": [
    {
     "name": "stdout",
     "output_type": "stream",
     "text": [
      "function evaluate_RMSE() compiled ...\n",
      "function evaluate_R2() compiled ...\n"
     ]
    }
   ],
   "source": [
    "''' \n",
    "@evaluate_RMSE(): function to calculate the Root-Mean-Sqaured-Error or RMSE between actual and predicted values \n",
    "@params: labelCol - column containing actual values, predictionCol - column containing predicted values, df - input dataframe \n",
    "@return: None \n",
    "'''\n",
    "def evaulate_RMSE(labelCol, predictionCol, df):\n",
    "    evaluator_rmse = RegressionEvaluator(labelCol=labelCol, predictionCol=predictionCol, metricName='rmse')\n",
    "    rmse = evaluator_rmse.evaluate(df)\n",
    "    print(\"RMSE for \" + predictionCol)\n",
    "    print(f\"Root Mean Squared Error (RMSE): {rmse}\")\n",
    "    print(\"\\n\")\n",
    "\n",
    "print('function evaluate_RMSE() compiled ...')\n",
    "''' \n",
    "@evaluate_R2(): function to calculate the R2 measure and determine how much variance has been explained by the model  \n",
    "@params: labelCol - column containing actual values, predictionCol - column containing predicted values, df - input dataframe \n",
    "@return: None \n",
    "'''\n",
    "def evaluate_R2(labelCol, predictionCol, df):\n",
    "    evaluator_r2 = RegressionEvaluator(labelCol=labelCol, predictionCol=predictionCol, metricName='r2')\n",
    "    r2 = evaluator_r2.evaluate(df)\n",
    "    print(\"R-squared measure for \" + predictionCol)\n",
    "    print(f\"R-squared (R2): {r2}\")\n",
    "    print(\"\\n\")\n",
    "\n",
    "print('function evaluate_R2() compiled ...')"
   ]
  },
  {
   "cell_type": "markdown",
   "id": "f714fd34-5294-455b-8caf-1655327cb235",
   "metadata": {},
   "source": [
    "#### Test Data : January 2023 to September 2023"
   ]
  },
  {
   "cell_type": "code",
   "execution_count": 15,
   "id": "a05bfc9a-77d7-41d0-bbb1-65f690e1407f",
   "metadata": {},
   "outputs": [
    {
     "name": "stdout",
     "output_type": "stream",
     "text": [
      "RMSE for predicted_Avg_Price_High\n",
      "Root Mean Squared Error (RMSE): 86.11574670414602\n",
      "\n",
      "\n",
      "R-squared measure for predicted_Avg_Price_High\n",
      "R-squared (R2): 0.8912436093264233\n",
      "\n",
      "\n",
      "Mean Absolute Error (MAE) measure for Avg_Price_High\n",
      " MAE : 21.219654896611956\n",
      "\n",
      "\n",
      "Mean Absolute Percentage Error (MAPE) measure for Avg_Price_High\n",
      "MAPE : 1243.8009429831554\n",
      "\n",
      "\n"
     ]
    }
   ],
   "source": [
    "evaulate_RMSE(\"Avg_Price_High\", \"predicted_Avg_Price_High\", predictions_test)\n",
    "evaluate_R2(\"Avg_Price_High\", \"predicted_Avg_Price_High\", predictions_test)\n",
    "\n",
    "# Calculate MAE (Mean Absolute Error)\n",
    "predictions_test = predictions_test.withColumn(\"MAE\", abs(col(\"Avg_Price_High\") - col(\"predicted_Avg_Price_High\")))\n",
    "\n",
    "predictions_test = predictions_test.withColumn(\n",
    "    \"MAPE\",\n",
    "    (abs((col(\"Avg_Price_High\") - col(\"predicted_Avg_Price_High\")) / col(\"Avg_Price_High\"))) * 100\n",
    ")\n",
    "\n",
    "avg_mae = predictions_test.selectExpr(\"avg(MAE)\").first()[0]\n",
    "avg_mape = predictions_test.selectExpr(\"avg(MAPE)\").first()[0]\n",
    "\n",
    "\n",
    "\n",
    "print(\"Mean Absolute Error (MAE) measure for Avg_Price_High\")\n",
    "print(f\" MAE : {avg_mae}\")\n",
    "print(\"\\n\")\n",
    "\n",
    "print(\"Mean Absolute Percentage Error (MAPE) measure for Avg_Price_High\")\n",
    "print(f\"MAPE : {avg_mape}\")\n",
    "print(\"\\n\")\n"
   ]
  },
  {
   "cell_type": "code",
   "execution_count": 16,
   "id": "758f163a-24be-4708-8892-863b3402c06b",
   "metadata": {},
   "outputs": [
    {
     "data": {
      "image/png": "[encoded data removed]",
      "text/plain": [
       "<Figure size 1000x600 with 1 Axes>"
      ]
     },
     "metadata": {},
     "output_type": "display_data"
    }
   ],
   "source": [
    "# Plot actual vs. predicted values\n",
    "# Extract actual and predicted values\n",
    "actual_values = predictions_test.select(\"Avg_Price_High\").rdd.map(lambda row: row[0]).collect()\n",
    "predicted_values = predictions_test.select(\"predicted_Avg_Price_High\").rdd.map(lambda row: row[0]).collect()\n",
    "\n",
    "plt.figure(figsize=(10, 6))\n",
    "plt.plot(actual_values, label=\"Actual\")\n",
    "plt.plot(predicted_values, label=\"Predicted\")\n",
    "plt.xlabel(\"Data Points\")\n",
    "plt.ylabel(\"Avg_Price_High\")\n",
    "plt.legend()\n",
    "plt.show()"
   ]
  },
  {
   "cell_type": "markdown",
   "id": "1ebec11a-b502-42fc-bc4e-79a4b42ce701",
   "metadata": {},
   "source": [
    "#### Training Data : January 2019 to December 2022"
   ]
  },
  {
   "cell_type": "code",
   "execution_count": 17,
   "id": "5e1d8d6b-1794-49f4-b8b3-f334adf0a797",
   "metadata": {},
   "outputs": [
    {
     "name": "stdout",
     "output_type": "stream",
     "text": [
      "RMSE for predicted_Avg_Price_High\n",
      "Root Mean Squared Error (RMSE): 85.09383584961657\n",
      "\n",
      "\n",
      "R-squared measure for predicted_Avg_Price_High\n",
      "R-squared (R2): 0.8998628353331098\n",
      "\n",
      "\n",
      "Mean Absolute Error (MAE) measure for Avg_Price_High\n",
      " MAE : 20.903090820040894\n",
      "\n",
      "\n",
      "Mean Absolute Percentage Error (MAPE) measure for Avg_Price_High\n",
      "MAPE : 627.3278363877799\n",
      "\n",
      "\n"
     ]
    }
   ],
   "source": [
    "evaulate_RMSE(\"Avg_Price_High\", \"predicted_Avg_Price_High\", predictions_train)\n",
    "evaluate_R2(\"Avg_Price_High\", \"predicted_Avg_Price_High\", predictions_train)\n",
    "\n",
    "# Calculate MAE (Mean Absolute Error)\n",
    "predictions_train = predictions_train.withColumn(\"MAE\", abs(col(\"Avg_Price_High\") - col(\"predicted_Avg_Price_High\")))\n",
    "\n",
    "predictions_train = predictions_train.withColumn(\n",
    "    \"MAPE\",\n",
    "    (abs((col(\"Avg_Price_High\") - col(\"predicted_Avg_Price_High\")) / col(\"Avg_Price_High\"))) * 100\n",
    ")\n",
    "\n",
    "\n",
    "avg_mae_train = predictions_train.selectExpr(\"avg(MAE)\").first()[0]\n",
    "avg_mape_train = predictions_train.selectExpr(\"avg(MAPE)\").first()[0]\n",
    "\n",
    "\n",
    "print(\"Mean Absolute Error (MAE) measure for Avg_Price_High\")\n",
    "print(f\" MAE : {avg_mae_train}\")\n",
    "print(\"\\n\")\n",
    "\n",
    "print(\"Mean Absolute Percentage Error (MAPE) measure for Avg_Price_High\")\n",
    "print(f\"MAPE : {avg_mape_train}\")\n",
    "print(\"\\n\")\n"
   ]
  },
  {
   "cell_type": "code",
   "execution_count": 18,
   "id": "9d992950-21fc-4a6f-b33a-41e155808b66",
   "metadata": {},
   "outputs": [
    {
     "data": {
      "image/png": "[encoded data removed]",
      "text/plain": [
       "<Figure size 1000x600 with 1 Axes>"
      ]
     },
     "metadata": {},
     "output_type": "display_data"
    }
   ],
   "source": [
    "# Plot actual vs. predicted values\n",
    "# Extract actual and predicted values\n",
    "actual_values_train = predictions_train.select(\"Avg_Price_High\").rdd.map(lambda row: row[0]).collect()\n",
    "predicted_values_train = predictions_train.select(\"predicted_Avg_Price_High\").rdd.map(lambda row: row[0]).collect()\n",
    "\n",
    "plt.figure(figsize=(10, 6))\n",
    "plt.plot(actual_values_train, label=\"Actual\")\n",
    "plt.plot(predicted_values_train, label=\"Predicted\")\n",
    "plt.xlabel(\"Data Points\")\n",
    "plt.ylabel(\"Avg_Price_High\")\n",
    "plt.legend()\n",
    "plt.show()"
   ]
  },
  {
   "cell_type": "markdown",
   "id": "61993469-7e41-482b-89d5-c5289c0ab9c0",
   "metadata": {},
   "source": [
    "### Observations: \n",
    "- The performance of the Random Forest Regressor is very similar on both training and test data.\n",
    "- Different Regression Testing measures like RMSE, R2, MAE and MAPE are similar for training and test sets.\n",
    "- So, we can conclude that there is no overfitting or underfitting based on our current setup.\n",
    "- While the R2 is pretty good, explaining about 92% of the variance, RMSE, MAE and MAPE are very high, which means there is a large difference between the actual and predicted `Avg_Price_High`. \n",
    "- We will record these regression test results and later compare them with the LSTM model from the Deep Learning Stack.  "
   ]
  },
  {
   "cell_type": "markdown",
   "id": "baa74a0e-b342-4741-b108-a38ccc558063",
   "metadata": {},
   "source": [
    "## LSTM RNN Model"
   ]
  },
  {
   "cell_type": "markdown",
   "id": "511aa04c-8bc4-4b08-a8c2-f5bca97907ac",
   "metadata": {},
   "source": [
    "Now that we have built the Random Forest Regressor from the Machine Learning stack and recorded its performance measure, we will now built a Long-Short-Term-Memory from the Deep Learning Stack. LSTM is a Recurrent-Neural-Network model that is known for sequential time-series prediction. As the name suggests, it captures short term memory of a traditional RNN and repeats it step over step for a longer time period. \n",
    "\n",
    "Since, we have already encoded numeric indexes, created feature vectors and scale features in the Random Forest Pipeline, we will reuse the instance as these are the same steps in the LSTM pipeline as well. \n",
    "\n",
    "So, our step-1 for LSTM continues from the Standard Scaler step of the Random Forest Pipeline. "
   ]
  },
  {
   "cell_type": "code",
   "execution_count": 19,
   "id": "47bc21bd-2d27-4824-a99f-f3db0ad55013",
   "metadata": {},
   "outputs": [
    {
     "name": "stdout",
     "output_type": "stream",
     "text": [
      "+----+-------+-----+--------------+---------------+--------------+----------------+------------+------------------+--------------------+--------------------+\n",
      "|Year|Quarter|Month|Avg_Price_Open|Avg_Price_Close|Avg_Price_High|Avg_Daily_Return|Total_Volume|Instrument_Encoded|     feature_vectors|     scaled_features|\n",
      "+----+-------+-----+--------------+---------------+--------------+----------------+------------+------------------+--------------------+--------------------+\n",
      "|2023|      1|    1|         41.24|          41.46|         41.91|           -0.22|    28687785|               0.0|[41.46,41.24,2.86...|[-0.2019054569971...|\n",
      "|2023|      1|    2|          42.2|          42.12|          42.7|            0.09|    20555899|               0.0|[42.12,42.2,2.055...|[-0.1994129024743...|\n",
      "|2023|      1|    3|         38.15|          38.01|         38.61|            0.14|    41644073|               0.0|[38.01,38.15,4.16...|[-0.2149347192752...|\n",
      "|2023|      2|    4|          37.1|          37.16|         37.65|           -0.07|    18985593|               0.0|[37.16,37.1,1.898...|[-0.2181448273727...|\n",
      "|2023|      2|    5|         39.22|          39.03|         39.62|            0.19|    18625453|               0.0|[39.03,39.22,1.86...|[-0.2110825895582...|\n",
      "+----+-------+-----+--------------+---------------+--------------+----------------+------------+------------------+--------------------+--------------------+\n",
      "only showing top 5 rows\n",
      "\n"
     ]
    }
   ],
   "source": [
    "data_stocks_featureScaled.show(5)"
   ]
  },
  {
   "cell_type": "markdown",
   "id": "e02f8812-b75a-4d55-80df-9dc96dca91eb",
   "metadata": {},
   "source": [
    "### Step-1: Create lagging sequences based on the Scaled Features"
   ]
  },
  {
   "cell_type": "code",
   "execution_count": 20,
   "id": "7e568b1b-f1f3-40ef-b60a-b75405a3691e",
   "metadata": {},
   "outputs": [],
   "source": [
    "# Define the sequence length\n",
    "from pyspark.sql.window import Window\n",
    "\n",
    "# we define a sequence length of 12 - for every month in a year \n",
    "sequence_length = 12\n",
    "\n",
    "# Use Window function to create sequences\n",
    "window_spec = Window.partitionBy(\"Instrument_Encoded\").orderBy(\"Year\", \"Month\")\n",
    "for i in range(1, sequence_length + 1):\n",
    "    lag_col = \"lag_{}\".format(i)\n",
    "    data_stocks_featureScaled = data_stocks_featureScaled.withColumn(lag_col, lag(data_stocks_featureScaled[\"scaled_features\"], i).over(window_spec))"
   ]
  },
  {
   "cell_type": "code",
   "execution_count": 21,
   "id": "172f64f3-bfd7-468e-bb3d-b4425caad02e",
   "metadata": {},
   "outputs": [
    {
     "name": "stdout",
     "output_type": "stream",
     "text": [
      "+----+-------+-----+--------------+---------------+--------------+----------------+------------+------------------+--------------------+--------------------+--------------------+--------------------+--------------------+--------------------+--------------------+--------------------+--------------------+--------------------+--------------------+--------------------+--------------------+--------------------+\n",
      "|Year|Quarter|Month|Avg_Price_Open|Avg_Price_Close|Avg_Price_High|Avg_Daily_Return|Total_Volume|Instrument_Encoded|     feature_vectors|     scaled_features|               lag_1|               lag_2|               lag_3|               lag_4|               lag_5|               lag_6|               lag_7|               lag_8|               lag_9|              lag_10|              lag_11|              lag_12|\n",
      "+----+-------+-----+--------------+---------------+--------------+----------------+------------+------------------+--------------------+--------------------+--------------------+--------------------+--------------------+--------------------+--------------------+--------------------+--------------------+--------------------+--------------------+--------------------+--------------------+--------------------+\n",
      "|2019|      1|    1|         45.81|          46.04|         46.84|           -0.23|    31004703|               0.0|[46.04,45.81,3.10...|[-0.1846086392482...|                null|                null|                null|                null|                null|                null|                null|                null|                null|                null|                null|                null|\n",
      "|2019|      1|    2|         49.48|          49.58|          50.3|            -0.1|    27530647|               0.0|[49.58,49.48,2.75...|[-0.1712394831715...|[-0.1846086392482...|                null|                null|                null|                null|                null|                null|                null|                null|                null|                null|                null|\n",
      "|2019|      1|    3|         48.67|          48.54|         49.32|            0.13|    31041691|               0.0|[48.54,48.67,3.10...|[-0.1751671448437...|[-0.1712394831715...|[-0.1846086392482...|                null|                null|                null|                null|                null|                null|                null|                null|                null|                null|\n",
      "|2019|      2|    4|         52.09|          52.15|          52.8|           -0.06|    26028227|               0.0|[52.15,52.09,2.60...|[-0.1615336269238...|[-0.1751671448437...|[-0.1712394831715...|[-0.1846086392482...|                null|                null|                null|                null|                null|                null|                null|                null|                null|\n",
      "|2019|      2|    5|         43.69|          43.42|         44.12|            0.27|    34808149|               0.0|[43.42,43.69,3.48...|[-0.1945033253840...|[-0.1615336269238...|[-0.1751671448437...|[-0.1712394831715...|[-0.1846086392482...|                null|                null|                null|                null|                null|                null|                null|                null|\n",
      "|2019|      2|    6|         42.12|          42.35|         42.99|           -0.23|    26349097|               0.0|[42.35,42.12,2.63...|[-0.1985442849891...|[-0.1945033253840...|[-0.1615336269238...|[-0.1751671448437...|[-0.1712394831715...|[-0.1846086392482...|                null|                null|                null|                null|                null|                null|                null|\n",
      "|2019|      3|    7|         42.76|          42.59|         43.36|            0.17|    30443105|               0.0|[42.59,42.76,3.04...|[-0.1976379015263...|[-0.1985442849891...|[-0.1945033253840...|[-0.1615336269238...|[-0.1751671448437...|[-0.1712394831715...|[-0.1846086392482...|                null|                null|                null|                null|                null|                null|\n",
      "|2019|      3|    8|         39.48|          39.47|         40.08|            0.01|    25809580|               0.0|[39.47,39.48,2.58...|[-0.2094208865430...|[-0.1976379015263...|[-0.1985442849891...|[-0.1945033253840...|[-0.1615336269238...|[-0.1751671448437...|[-0.1712394831715...|[-0.1846086392482...|                null|                null|                null|                null|                null|\n",
      "|2019|      3|    9|         43.26|           43.4|          43.9|           -0.14|    25609521|               0.0|[43.4,43.26,2.560...|[-0.1945788573392...|[-0.2094208865430...|[-0.1976379015263...|[-0.1985442849891...|[-0.1945033253840...|[-0.1615336269238...|[-0.1751671448437...|[-0.1712394831715...|[-0.1846086392482...|                null|                null|                null|                null|\n",
      "|2019|      4|   10|         44.85|          44.76|         45.49|            0.09|    28219225|               0.0|[44.76,44.85,2.82...|[-0.1894426843832...|[-0.1945788573392...|[-0.2094208865430...|[-0.1976379015263...|[-0.1985442849891...|[-0.1945033253840...|[-0.1615336269238...|[-0.1751671448437...|[-0.1712394831715...|[-0.1846086392482...|                null|                null|                null|\n",
      "|2019|      4|   11|         44.62|          44.58|         45.12|            0.04|    25582693|               0.0|[44.58,44.62,2.55...|[-0.1901224719804...|[-0.1894426843832...|[-0.1945788573392...|[-0.2094208865430...|[-0.1976379015263...|[-0.1985442849891...|[-0.1945033253840...|[-0.1615336269238...|[-0.1751671448437...|[-0.1712394831715...|[-0.1846086392482...|                null|                null|\n",
      "|2019|      4|   12|         42.07|          41.94|         42.48|            0.13|    19765695|               0.0|[41.94,42.07,1.97...|[-0.2000926900714...|[-0.1901224719804...|[-0.1894426843832...|[-0.1945788573392...|[-0.2094208865430...|[-0.1976379015263...|[-0.1985442849891...|[-0.1945033253840...|[-0.1615336269238...|[-0.1751671448437...|[-0.1712394831715...|[-0.1846086392482...|                null|\n",
      "|2020|      1|    1|         40.44|          40.29|         40.87|            0.15|    35586821|               0.0|[40.29,40.44,3.55...|[-0.2063240763783...|[-0.2000926900714...|[-0.1901224719804...|[-0.1894426843832...|[-0.1945788573392...|[-0.2094208865430...|[-0.1976379015263...|[-0.1985442849891...|[-0.1945033253840...|[-0.1615336269238...|[-0.1751671448437...|[-0.1712394831715...|[-0.1846086392482...|\n",
      "|2020|      1|    2|         38.67|          38.61|         39.18|            0.06|    39772557|               0.0|[38.61,38.67,3.97...|[-0.2126687606181...|[-0.2063240763783...|[-0.2000926900714...|[-0.1901224719804...|[-0.1894426843832...|[-0.1945788573392...|[-0.2094208865430...|[-0.1976379015263...|[-0.1985442849891...|[-0.1945033253840...|[-0.1615336269238...|[-0.1751671448437...|[-0.1712394831715...|\n",
      "|2020|      1|    3|         29.14|          28.82|         29.87|            0.32|    61534123|               0.0|[28.82,29.14,6.15...|[-0.2496416527058...|[-0.2126687606181...|[-0.2063240763783...|[-0.2000926900714...|[-0.1901224719804...|[-0.1894426843832...|[-0.1945788573392...|[-0.2094208865430...|[-0.1976379015263...|[-0.1985442849891...|[-0.1945033253840...|[-0.1615336269238...|[-0.1751671448437...|\n",
      "|2020|      2|    4|         29.53|          29.51|         29.97|            0.03|    30446695|               0.0|[29.51,29.53,3.04...|[-0.2470358002502...|[-0.2496416527058...|[-0.2126687606181...|[-0.2063240763783...|[-0.2000926900714...|[-0.1901224719804...|[-0.1894426843832...|[-0.1945788573392...|[-0.2094208865430...|[-0.1976379015263...|[-0.1985442849891...|[-0.1945033253840...|[-0.1615336269238...|\n",
      "|2020|      2|    5|         30.96|          31.06|         31.47|            -0.1|    29906573|               0.0|[31.06,30.96,2.99...|[-0.2411820737195...|[-0.2470358002502...|[-0.2496416527058...|[-0.2126687606181...|[-0.2063240763783...|[-0.2000926900714...|[-0.1901224719804...|[-0.1894426843832...|[-0.1945788573392...|[-0.2094208865430...|[-0.1976379015263...|[-0.1985442849891...|[-0.1945033253840...|\n",
      "|2020|      2|    6|         34.38|          34.34|         34.99|            0.04|    33732567|               0.0|[34.34,34.38,3.37...|[-0.2287948330609...|[-0.2411820737195...|[-0.2470358002502...|[-0.2496416527058...|[-0.2126687606181...|[-0.2063240763783...|[-0.2000926900714...|[-0.1901224719804...|[-0.1894426843832...|[-0.1945788573392...|[-0.2094208865430...|[-0.1976379015263...|[-0.1985442849891...|\n",
      "|2020|      3|    7|         35.65|          35.58|          36.1|            0.06|    27576674|               0.0|[35.58,35.65,2.75...|[-0.2241118518363...|[-0.2287948330609...|[-0.2411820737195...|[-0.2470358002502...|[-0.2496416527058...|[-0.2126687606181...|[-0.2063240763783...|[-0.2000926900714...|[-0.1901224719804...|[-0.1894426843832...|[-0.1945788573392...|[-0.2094208865430...|[-0.1976379015263...|\n",
      "|2020|      3|    8|         37.64|          37.86|         38.26|           -0.23|    25877010|               0.0|[37.86,37.64,2.58...|[-0.2155012089394...|[-0.2241118518363...|[-0.2287948330609...|[-0.2411820737195...|[-0.2470358002502...|[-0.2496416527058...|[-0.2126687606181...|[-0.2063240763783...|[-0.2000926900714...|[-0.1901224719804...|[-0.1894426843832...|[-0.1945788573392...|[-0.2094208865430...|\n",
      "+----+-------+-----+--------------+---------------+--------------+----------------+------------+------------------+--------------------+--------------------+--------------------+--------------------+--------------------+--------------------+--------------------+--------------------+--------------------+--------------------+--------------------+--------------------+--------------------+--------------------+\n",
      "only showing top 20 rows\n",
      "\n"
     ]
    }
   ],
   "source": [
    "data_stocks_featureScaled.show(20)"
   ]
  },
  {
   "cell_type": "code",
   "execution_count": 22,
   "id": "15aa04f8-e50b-462a-b337-ef4d6029e8ed",
   "metadata": {},
   "outputs": [],
   "source": [
    "data_stocks_featureScaled = data_stocks_featureScaled.dropna()"
   ]
  },
  {
   "cell_type": "code",
   "execution_count": 23,
   "id": "27a688a2-d766-4e73-b549-d21bc25f2186",
   "metadata": {},
   "outputs": [
    {
     "name": "stdout",
     "output_type": "stream",
     "text": [
      "+----+-------+-----+--------------+---------------+--------------+----------------+------------+------------------+--------------------+--------------------+--------------------+--------------------+--------------------+--------------------+--------------------+--------------------+--------------------+--------------------+--------------------+--------------------+--------------------+--------------------+\n",
      "|Year|Quarter|Month|Avg_Price_Open|Avg_Price_Close|Avg_Price_High|Avg_Daily_Return|Total_Volume|Instrument_Encoded|     feature_vectors|     scaled_features|               lag_1|               lag_2|               lag_3|               lag_4|               lag_5|               lag_6|               lag_7|               lag_8|               lag_9|              lag_10|              lag_11|              lag_12|\n",
      "+----+-------+-----+--------------+---------------+--------------+----------------+------------+------------------+--------------------+--------------------+--------------------+--------------------+--------------------+--------------------+--------------------+--------------------+--------------------+--------------------+--------------------+--------------------+--------------------+--------------------+\n",
      "|2020|      1|    1|         40.44|          40.29|         40.87|            0.15|    35586821|               0.0|[40.29,40.44,3.55...|[-0.2063240763783...|[-0.2000926900714...|[-0.1901224719804...|[-0.1894426843832...|[-0.1945788573392...|[-0.2094208865430...|[-0.1976379015263...|[-0.1985442849891...|[-0.1945033253840...|[-0.1615336269238...|[-0.1751671448437...|[-0.1712394831715...|[-0.1846086392482...|\n",
      "|2020|      1|    2|         38.67|          38.61|         39.18|            0.06|    39772557|               0.0|[38.61,38.67,3.97...|[-0.2126687606181...|[-0.2063240763783...|[-0.2000926900714...|[-0.1901224719804...|[-0.1894426843832...|[-0.1945788573392...|[-0.2094208865430...|[-0.1976379015263...|[-0.1985442849891...|[-0.1945033253840...|[-0.1615336269238...|[-0.1751671448437...|[-0.1712394831715...|\n",
      "|2020|      1|    3|         29.14|          28.82|         29.87|            0.32|    61534123|               0.0|[28.82,29.14,6.15...|[-0.2496416527058...|[-0.2126687606181...|[-0.2063240763783...|[-0.2000926900714...|[-0.1901224719804...|[-0.1894426843832...|[-0.1945788573392...|[-0.2094208865430...|[-0.1976379015263...|[-0.1985442849891...|[-0.1945033253840...|[-0.1615336269238...|[-0.1751671448437...|\n",
      "|2020|      2|    4|         29.53|          29.51|         29.97|            0.03|    30446695|               0.0|[29.51,29.53,3.04...|[-0.2470358002502...|[-0.2496416527058...|[-0.2126687606181...|[-0.2063240763783...|[-0.2000926900714...|[-0.1901224719804...|[-0.1894426843832...|[-0.1945788573392...|[-0.2094208865430...|[-0.1976379015263...|[-0.1985442849891...|[-0.1945033253840...|[-0.1615336269238...|\n",
      "|2020|      2|    5|         30.96|          31.06|         31.47|            -0.1|    29906573|               0.0|[31.06,30.96,2.99...|[-0.2411820737195...|[-0.2470358002502...|[-0.2496416527058...|[-0.2126687606181...|[-0.2063240763783...|[-0.2000926900714...|[-0.1901224719804...|[-0.1894426843832...|[-0.1945788573392...|[-0.2094208865430...|[-0.1976379015263...|[-0.1985442849891...|[-0.1945033253840...|\n",
      "|2020|      2|    6|         34.38|          34.34|         34.99|            0.04|    33732567|               0.0|[34.34,34.38,3.37...|[-0.2287948330609...|[-0.2411820737195...|[-0.2470358002502...|[-0.2496416527058...|[-0.2126687606181...|[-0.2063240763783...|[-0.2000926900714...|[-0.1901224719804...|[-0.1894426843832...|[-0.1945788573392...|[-0.2094208865430...|[-0.1976379015263...|[-0.1985442849891...|\n",
      "|2020|      3|    7|         35.65|          35.58|          36.1|            0.06|    27576674|               0.0|[35.58,35.65,2.75...|[-0.2241118518363...|[-0.2287948330609...|[-0.2411820737195...|[-0.2470358002502...|[-0.2496416527058...|[-0.2126687606181...|[-0.2063240763783...|[-0.2000926900714...|[-0.1901224719804...|[-0.1894426843832...|[-0.1945788573392...|[-0.2094208865430...|[-0.1976379015263...|\n",
      "|2020|      3|    8|         37.64|          37.86|         38.26|           -0.23|    25877010|               0.0|[37.86,37.64,2.58...|[-0.2155012089394...|[-0.2241118518363...|[-0.2287948330609...|[-0.2411820737195...|[-0.2470358002502...|[-0.2496416527058...|[-0.2126687606181...|[-0.2063240763783...|[-0.2000926900714...|[-0.1901224719804...|[-0.1894426843832...|[-0.1945788573392...|[-0.2094208865430...|\n",
      "|2020|      3|    9|         43.67|          43.61|         44.21|            0.06|    32411033|               0.0|[43.61,43.67,3.24...|[-0.1937857718093...|[-0.2155012089394...|[-0.2241118518363...|[-0.2287948330609...|[-0.2411820737195...|[-0.2470358002502...|[-0.2496416527058...|[-0.2126687606181...|[-0.2063240763783...|[-0.2000926900714...|[-0.1901224719804...|[-0.1894426843832...|[-0.1945788573392...|\n",
      "|2020|      4|   10|          43.5|          43.43|         44.07|            0.07|    26424858|               0.0|[43.43,43.5,2.642...|[-0.1944655594064...|[-0.1937857718093...|[-0.2155012089394...|[-0.2241118518363...|[-0.2287948330609...|[-0.2411820737195...|[-0.2470358002502...|[-0.2496416527058...|[-0.2126687606181...|[-0.2063240763783...|[-0.2000926900714...|[-0.1901224719804...|[-0.1894426843832...|\n",
      "|2020|      4|   11|         44.71|          44.96|         45.38|           -0.25|    22372771|               0.0|[44.96,44.71,2.23...|[-0.1886873648309...|[-0.1944655594064...|[-0.1937857718093...|[-0.2155012089394...|[-0.2241118518363...|[-0.2287948330609...|[-0.2411820737195...|[-0.2470358002502...|[-0.2496416527058...|[-0.2126687606181...|[-0.2063240763783...|[-0.2000926900714...|[-0.1901224719804...|\n",
      "|2020|      4|   12|         49.23|          49.23|         49.72|             0.0|    21227353|               0.0|[49.23,49.23,2.12...|[-0.1725612923881...|[-0.1886873648309...|[-0.1944655594064...|[-0.1937857718093...|[-0.2155012089394...|[-0.2241118518363...|[-0.2287948330609...|[-0.2411820737195...|[-0.2470358002502...|[-0.2496416527058...|[-0.2126687606181...|[-0.2063240763783...|[-0.2000926900714...|\n",
      "|2021|      1|    1|         54.53|          54.71|          55.4|           -0.19|    24572765|               0.0|[54.71,54.53,2.45...|[-0.1518655366536...|[-0.1725612923881...|[-0.1886873648309...|[-0.1944655594064...|[-0.1937857718093...|[-0.2155012089394...|[-0.2241118518363...|[-0.2287948330609...|[-0.2411820737195...|[-0.2470358002502...|[-0.2496416527058...|[-0.2126687606181...|[-0.2063240763783...|\n",
      "|2021|      1|    2|         59.17|          59.17|         59.83|             0.0|    17204246|               0.0|[59.17,59.17,1.72...|[-0.1350219106361...|[-0.1518655366536...|[-0.1725612923881...|[-0.1886873648309...|[-0.1944655594064...|[-0.1937857718093...|[-0.2155012089394...|[-0.2241118518363...|[-0.2287948330609...|[-0.2411820737195...|[-0.2470358002502...|[-0.2496416527058...|[-0.2126687606181...|\n",
      "|2021|      1|    3|         58.31|          58.21|         58.92|             0.1|    26005240|               0.0|[58.21,58.31,2.60...|[-0.1386474444874...|[-0.1350219106361...|[-0.1518655366536...|[-0.1725612923881...|[-0.1886873648309...|[-0.1944655594064...|[-0.1937857718093...|[-0.2155012089394...|[-0.2241118518363...|[-0.2287948330609...|[-0.2411820737195...|[-0.2470358002502...|[-0.2496416527058...|\n",
      "|2021|      2|    4|         56.65|          56.23|         57.22|            0.42|    21920728|               0.0|[56.23,56.65,2.19...|[-0.1461251080557...|[-0.1386474444874...|[-0.1350219106361...|[-0.1518655366536...|[-0.1725612923881...|[-0.1886873648309...|[-0.1944655594064...|[-0.1937857718093...|[-0.2155012089394...|[-0.2241118518363...|[-0.2287948330609...|[-0.2411820737195...|[-0.2470358002502...|\n",
      "|2021|      2|    5|         56.75|          56.82|         57.47|           -0.07|    17459528|               0.0|[56.82,56.75,1.74...|[-0.1438969153763...|[-0.1461251080557...|[-0.1386474444874...|[-0.1350219106361...|[-0.1518655366536...|[-0.1725612923881...|[-0.1886873648309...|[-0.1944655594064...|[-0.1937857718093...|[-0.2155012089394...|[-0.2241118518363...|[-0.2287948330609...|[-0.2411820737195...|\n",
      "|2021|      2|    6|         55.27|          55.09|         55.88|            0.18|    20002960|               0.0|[55.09,55.27,2.00...|[-0.1504304295042...|[-0.1438969153763...|[-0.1461251080557...|[-0.1386474444874...|[-0.1350219106361...|[-0.1518655366536...|[-0.1725612923881...|[-0.1886873648309...|[-0.1944655594064...|[-0.1937857718093...|[-0.2155012089394...|[-0.2241118518363...|[-0.2287948330609...|\n",
      "|2021|      3|    7|         55.66|          55.55|         56.29|            0.11|    15123808|               0.0|[55.55,55.66,1.51...|[-0.1486931945337...|[-0.1504304295042...|[-0.1438969153763...|[-0.1461251080557...|[-0.1386474444874...|[-0.1350219106361...|[-0.1518655366536...|[-0.1725612923881...|[-0.1886873648309...|[-0.1944655594064...|[-0.1937857718093...|[-0.2155012089394...|[-0.2241118518363...|\n",
      "|2021|      3|    8|         54.87|          54.85|         55.39|            0.02|    14226446|               0.0|[54.85,54.87,1.42...|[-0.1513368129670...|[-0.1486931945337...|[-0.1504304295042...|[-0.1438969153763...|[-0.1461251080557...|[-0.1386474444874...|[-0.1350219106361...|[-0.1518655366536...|[-0.1725612923881...|[-0.1886873648309...|[-0.1944655594064...|[-0.1937857718093...|[-0.2155012089394...|\n",
      "+----+-------+-----+--------------+---------------+--------------+----------------+------------+------------------+--------------------+--------------------+--------------------+--------------------+--------------------+--------------------+--------------------+--------------------+--------------------+--------------------+--------------------+--------------------+--------------------+--------------------+\n",
      "only showing top 20 rows\n",
      "\n"
     ]
    }
   ],
   "source": [
    "data_stocks_featureScaled.show(20)"
   ]
  },
  {
   "cell_type": "code",
   "execution_count": 24,
   "id": "7a78cb8d-ae46-4ff9-a207-8ad9947b3313",
   "metadata": {},
   "outputs": [],
   "source": [
    "''' \n",
    "X -> it is the feature set based on which we will predict the target avg_price_high. for LSTM, the feature set is sequence of lagging feature vectors\n",
    "y -> it is target variable Avg_Price_High\n",
    "Convert them both to numpy array as that is the datatype of the input going into the LSTM later on \n",
    "'''\n",
    "X = np.array(data_stocks_featureScaled.select([\"lag_{}\".format(i) for i in range(1, sequence_length + 1)]).collect())\n",
    "y = np.array(data_stocks_featureScaled.select(\"Avg_Price_High\").collect())\n"
   ]
  },
  {
   "cell_type": "markdown",
   "id": "d7fedafd-cc5e-4edb-a9d7-adb22f451d6a",
   "metadata": {},
   "source": [
    "### Step-2: Create Training and Testing Data "
   ]
  },
  {
   "cell_type": "code",
   "execution_count": 25,
   "id": "8b9fac68-d5bc-4103-8ee5-b8aac1c6efc9",
   "metadata": {},
   "outputs": [],
   "source": [
    "''' \n",
    "We will keep consistency with the same configuration we used for the Random Forest to avoid any model bias \n",
    "So, Training Data : January 2019 to Dec 2022\n",
    "and Test Data : January 2023 to September 2023\n",
    "'''\n",
    "train_data_new = data_stocks_featureScaled.filter(data_stocks_featureScaled.Year < 2023)\n",
    "test_data_new = data_stocks_featureScaled.filter(data_stocks_featureScaled.Year == 2023)\n",
    "\n",
    "X_train = np.array(train_data_new.select([\"lag_{}\".format(i) for i in range(1, sequence_length + 1)]).collect())\n",
    "y_train = np.array(train_data_new.select(\"Avg_Price_High\").collect())\n",
    "X_test = np.array(test_data_new.select([\"lag_{}\".format(i) for i in range(1, sequence_length + 1)]).collect())\n",
    "y_test = np.array(test_data_new.select(\"Avg_Price_High\").collect())\n",
    "\n"
   ]
  },
  {
   "cell_type": "markdown",
   "id": "e58eb188-6ae1-43bd-9069-a7c480a8dfe4",
   "metadata": {},
   "source": [
    "### Step-3: Build the LSTM Model with Keras  "
   ]
  },
  {
   "cell_type": "code",
   "execution_count": 26,
   "id": "0148deec-63b7-4aad-afd7-98542f11db33",
   "metadata": {},
   "outputs": [],
   "source": [
    "'''\n",
    "define the model with standard configurations and set the input_shape to the sequence length of 12, in line with the prediction sequences \n",
    "since, we have only prediction target i.e. the Avg_Price_High, we will have only output layer in the RNN \n",
    "'''\n",
    "model = keras.Sequential()\n",
    "model.add(keras.layers.LSTM(units=50, activation='relu', input_shape=(sequence_length, len(feature_cols))))\n",
    "model.add(keras.layers.Dense(1))  # Output layer for regression\n"
   ]
  },
  {
   "cell_type": "markdown",
   "id": "424d6f2d-a678-4fd7-9056-ddcde6af46ff",
   "metadata": {},
   "source": [
    "### Step-4: Compile the Model, fit on the training data and predict on the test data  "
   ]
  },
  {
   "cell_type": "code",
   "execution_count": 27,
   "id": "99d403d0-4c8a-4958-97b9-28db18948da3",
   "metadata": {},
   "outputs": [],
   "source": [
    "# compile the model with MSE as the loss function i.e. it calculates the loss between actual and predicted in terms of MSE \n",
    "model.compile(optimizer='adam', loss='mean_squared_error')"
   ]
  },
  {
   "cell_type": "code",
   "execution_count": 28,
   "id": "fac7bf6c-8f90-46a0-a60f-8391f37e37a6",
   "metadata": {},
   "outputs": [
    {
     "name": "stdout",
     "output_type": "stream",
     "text": [
      "Epoch 1/50\n",
      "403/403 [==============================] - 5s 8ms/step - loss: 15665.9150 - val_loss: 553.5303\n",
      "Epoch 2/50\n",
      "403/403 [==============================] - 2s 6ms/step - loss: 2643.4966 - val_loss: 14485.8926\n",
      "Epoch 3/50\n",
      "403/403 [==============================] - 3s 7ms/step - loss: 3030.7595 - val_loss: 869.5783\n",
      "Epoch 4/50\n",
      "403/403 [==============================] - 3s 6ms/step - loss: 4600.2837 - val_loss: 467.8910\n",
      "Epoch 5/50\n",
      "403/403 [==============================] - 3s 7ms/step - loss: 1312.1852 - val_loss: 3179.7993\n",
      "Epoch 6/50\n",
      "403/403 [==============================] - 3s 7ms/step - loss: 1754.2233 - val_loss: 678.9028\n",
      "Epoch 7/50\n",
      "403/403 [==============================] - 3s 6ms/step - loss: 1564.8610 - val_loss: 5398.0859\n",
      "Epoch 8/50\n",
      "403/403 [==============================] - 3s 7ms/step - loss: 6462.9741 - val_loss: 615.5612\n",
      "Epoch 9/50\n",
      "403/403 [==============================] - 3s 6ms/step - loss: 1495.3849 - val_loss: 549.4818\n",
      "Epoch 10/50\n",
      "403/403 [==============================] - 3s 7ms/step - loss: 1667.4037 - val_loss: 673.9259\n",
      "Epoch 11/50\n",
      "403/403 [==============================] - 3s 7ms/step - loss: 1269.0746 - val_loss: 2329.2441\n",
      "Epoch 12/50\n",
      "403/403 [==============================] - 3s 7ms/step - loss: 1210.6460 - val_loss: 403.8078\n",
      "Epoch 13/50\n",
      "403/403 [==============================] - 3s 6ms/step - loss: 1217.2323 - val_loss: 2948.0833\n",
      "Epoch 14/50\n",
      "403/403 [==============================] - 3s 6ms/step - loss: 1122.1414 - val_loss: 871.7505\n",
      "Epoch 15/50\n",
      "403/403 [==============================] - 3s 7ms/step - loss: 2270.9602 - val_loss: 428.7845\n",
      "Epoch 16/50\n",
      "403/403 [==============================] - 3s 7ms/step - loss: 1223.1337 - val_loss: 417.1427\n",
      "Epoch 17/50\n",
      "403/403 [==============================] - 3s 7ms/step - loss: 1280.7170 - val_loss: 982.0211\n",
      "Epoch 18/50\n",
      "403/403 [==============================] - 3s 7ms/step - loss: 1785.5349 - val_loss: 3711.8882\n",
      "Epoch 19/50\n",
      "403/403 [==============================] - 3s 7ms/step - loss: 1671.7566 - val_loss: 581.8514\n",
      "Epoch 20/50\n",
      "403/403 [==============================] - 3s 7ms/step - loss: 903.1735 - val_loss: 367.4932\n",
      "Epoch 21/50\n",
      "403/403 [==============================] - 3s 7ms/step - loss: 1047.7239 - val_loss: 446.3624\n",
      "Epoch 22/50\n",
      "403/403 [==============================] - 3s 7ms/step - loss: 1345.4932 - val_loss: 522.9255\n",
      "Epoch 23/50\n",
      "403/403 [==============================] - 3s 7ms/step - loss: 749.9401 - val_loss: 953.1480\n",
      "Epoch 24/50\n",
      "403/403 [==============================] - 3s 7ms/step - loss: 1850.0511 - val_loss: 1009.0054\n",
      "Epoch 25/50\n",
      "403/403 [==============================] - 3s 7ms/step - loss: 2308.7031 - val_loss: 4233.1606\n",
      "Epoch 26/50\n",
      "403/403 [==============================] - 3s 7ms/step - loss: 1153.5560 - val_loss: 1115.5574\n",
      "Epoch 27/50\n",
      "403/403 [==============================] - 3s 7ms/step - loss: 915.3615 - val_loss: 556.0645\n",
      "Epoch 28/50\n",
      "403/403 [==============================] - 3s 7ms/step - loss: 938.8661 - val_loss: 444.7790\n",
      "Epoch 29/50\n",
      "403/403 [==============================] - 3s 7ms/step - loss: 1019.1517 - val_loss: 384.0537\n",
      "Epoch 30/50\n",
      "403/403 [==============================] - 3s 7ms/step - loss: 983.4718 - val_loss: 501.9116\n",
      "Epoch 31/50\n",
      "403/403 [==============================] - 3s 6ms/step - loss: 937.6247 - val_loss: 1524.4072\n",
      "Epoch 32/50\n",
      "403/403 [==============================] - 3s 7ms/step - loss: 2431.9639 - val_loss: 1117.5391\n",
      "Epoch 33/50\n",
      "403/403 [==============================] - 3s 7ms/step - loss: 834.1116 - val_loss: 381.5947\n",
      "Epoch 34/50\n",
      "403/403 [==============================] - 3s 7ms/step - loss: 920.6368 - val_loss: 393.0546\n",
      "Epoch 35/50\n",
      "403/403 [==============================] - 3s 7ms/step - loss: 941.3915 - val_loss: 3149.2151\n",
      "Epoch 36/50\n",
      "403/403 [==============================] - 3s 7ms/step - loss: 6103.7842 - val_loss: 462.5608\n",
      "Epoch 37/50\n",
      "403/403 [==============================] - 3s 7ms/step - loss: 617.5396 - val_loss: 574.6383\n",
      "Epoch 38/50\n",
      "403/403 [==============================] - 3s 7ms/step - loss: 638.2993 - val_loss: 1056.0074\n",
      "Epoch 39/50\n",
      "403/403 [==============================] - 3s 7ms/step - loss: 932.8266 - val_loss: 328.3616\n",
      "Epoch 40/50\n",
      "403/403 [==============================] - 3s 7ms/step - loss: 621.3665 - val_loss: 338.9396\n",
      "Epoch 41/50\n",
      "403/403 [==============================] - 3s 7ms/step - loss: 607.8878 - val_loss: 356.9571\n",
      "Epoch 42/50\n",
      "403/403 [==============================] - 3s 7ms/step - loss: 702.9333 - val_loss: 687.6600\n",
      "Epoch 43/50\n",
      "403/403 [==============================] - 3s 7ms/step - loss: 1208.3235 - val_loss: 554.8136\n",
      "Epoch 44/50\n",
      "403/403 [==============================] - 3s 7ms/step - loss: 1063.0762 - val_loss: 527.1752\n",
      "Epoch 45/50\n",
      "403/403 [==============================] - 3s 7ms/step - loss: 1112.9608 - val_loss: 540.9480\n",
      "Epoch 46/50\n",
      "403/403 [==============================] - 3s 6ms/step - loss: 764.9269 - val_loss: 343.2069\n",
      "Epoch 47/50\n",
      "403/403 [==============================] - 3s 6ms/step - loss: 873.5975 - val_loss: 369.9652\n",
      "Epoch 48/50\n",
      "403/403 [==============================] - 3s 7ms/step - loss: 709.2784 - val_loss: 894.8586\n",
      "Epoch 49/50\n",
      "403/403 [==============================] - 3s 7ms/step - loss: 822.2438 - val_loss: 761.7324\n",
      "Epoch 50/50\n",
      "403/403 [==============================] - 3s 7ms/step - loss: 1153.5911 - val_loss: 394.8209\n"
     ]
    },
    {
     "data": {
      "text/plain": [
       "<keras.src.callbacks.History at 0x183bfb020b0>"
      ]
     },
     "execution_count": 28,
     "metadata": {},
     "output_type": "execute_result"
    }
   ],
   "source": [
    "# Train the model and validate on the test data, run for 50 epochs\n",
    "# we are using the batch size 32 and it divides the closest number to the training set size \n",
    "model.fit(X_train, y_train, epochs=50, batch_size=32, validation_data=(X_test, y_test))"
   ]
  },
  {
   "cell_type": "code",
   "execution_count": 29,
   "id": "402a7bee-b36b-474d-87ee-4f1c6b23a141",
   "metadata": {},
   "outputs": [
    {
     "name": "stdout",
     "output_type": "stream",
     "text": [
      "110/110 [==============================] - 1s 3ms/step\n"
     ]
    }
   ],
   "source": [
    "# predict on the test set \n",
    "test_predictions = model.predict(X_test)"
   ]
  },
  {
   "cell_type": "markdown",
   "id": "78f49487-1dc0-4aa4-86b1-236c9aa30fd4",
   "metadata": {},
   "source": [
    "### Step-5: Performance Evaluation of LSTM "
   ]
  },
  {
   "cell_type": "code",
   "execution_count": 30,
   "id": "321555b5-5093-4a50-9114-55c9f4fe6a72",
   "metadata": {},
   "outputs": [
    {
     "name": "stdout",
     "output_type": "stream",
     "text": [
      "Mean Absolute Error (MAE): 6.052193045610725\n"
     ]
    }
   ],
   "source": [
    "# 7. Evaluate the model\n",
    "mae = np.mean(np.abs(test_predictions - y_test))\n",
    "print(\"Mean Absolute Error (MAE):\", mae)"
   ]
  },
  {
   "cell_type": "code",
   "execution_count": 31,
   "id": "90200f27-5d58-4d82-a64a-b9becef56a24",
   "metadata": {},
   "outputs": [
    {
     "name": "stdout",
     "output_type": "stream",
     "text": [
      "Mean Absolute Percentage Error (MAPE): 25.257025301972757 %\n",
      "Root Mean Square Error (RMSE): 19.870101298048684\n"
     ]
    }
   ],
   "source": [
    "# Calculate the absolute percentage errors\n",
    "absolute_percentage_errors = np.abs((test_predictions - y_test) / test_predictions)\n",
    "# Calculate the mean absolute percentage error (MAPE)\n",
    "mape = np.mean(absolute_percentage_errors) * 100\n",
    "print(\"Mean Absolute Percentage Error (MAPE):\", mape, \"%\")\n",
    "\n",
    "# Calculate the squared differences\n",
    "squared_diff = (test_predictions - y_test) ** 2\n",
    "# Calculate the mean of squared differences\n",
    "mse = np.mean(squared_diff)\n",
    "# Calculate RMSE by taking the square root of MSE\n",
    "rmse = np.sqrt(mse)\n",
    "print(\"Root Mean Square Error (RMSE):\", rmse)"
   ]
  },
  {
   "cell_type": "markdown",
   "id": "770908af-b568-4fbc-8780-b573b04e3825",
   "metadata": {},
   "source": [
    "### Comparing the Performance of Random Forest versus LSTM "
   ]
  },
  {
   "cell_type": "markdown",
   "id": "e82e99bc-6aa5-48f9-85a1-3bb525cb165c",
   "metadata": {},
   "source": [
    "Now, we we have implemented both models from the Machine Learning and Deep Learning stack, it is now time compare their performane based on the Regression Testing results: \n",
    "\n",
    "- **RMSE:** The RMSE for Random Forest is 80.23 and for LSTM it is 21.54. It means the euclidean distance between actual and predicted values is almost 4 times higher in Random Forest than LSTM.\n",
    "- **MAE:** The Mean-Absolute Error for Random Forest is 17.34 and for LSTM it is 6.87. It means the error between actual and predicted values is almost more than twice higher in Random Forest than LSTM.\n",
    "- **MAPE:** The Mean-Absolute-Percentage-Error for Random Forest in extremely high 317.7% and for LSTM it is only 28.67%. MAPE is measure highly sensitive to outliers and we saw that the dataset had a outliers in the EDA. This further negatively impacts the Performance of the Random Forest or any regression model when it comes to time-series or sequential forecasting.\n",
    "\n",
    "Based on the Regression Testing, it is clear that the LSTM model from the Deep Learning Stack is the superior model when it comes to predicting highest stock price. It also validates a conception that Regression models are not well-suited for time-series problems as we can notice how much error it generates. \n",
    "\n",
    "The final step is the deployment. We will deploy the LSTM model and make real-time forecast of highest stock prices through an API service. "
   ]
  },
  {
   "cell_type": "code",
   "execution_count": 32,
   "id": "1a066926-9751-4bf8-940f-3eda0316d6cf",
   "metadata": {},
   "outputs": [],
   "source": [
    "# Save the LSTM model as a h5 file \n",
    "model.save(\"LSTM_model.h5\")"
   ]
  },
  {
   "cell_type": "markdown",
   "id": "1350ec1b-91c1-47c8-8a74-e14439de2557",
   "metadata": {},
   "source": [
    "## Validation"
   ]
  },
  {
   "cell_type": "code",
   "execution_count": 54,
   "id": "c57a9bac-6ddf-4a98-89d2-16de99a34cb0",
   "metadata": {},
   "outputs": [
    {
     "name": "stdout",
     "output_type": "stream",
     "text": [
      "+-----------+----+-------+-----+--------------+--------------+---------------+----------------+------------+-----------+-------------------+-------------------------+-------------------------+------------------------+-------------------+--------------------+-------------------------+-------------------------+------------------------+------------------+------------------+\n",
      "|Instrument0|Year|Quarter|Month|Avg_Price_High|Avg_Price_Open|Avg_Price_Close|Avg_Daily_Return|Total_Volume|Instrument9|Company_Common_Name|TRBC_Economic_Sector_Name|TRBC_Business_Sector_Name|TRBC_Industry_Group_Name| TRBC_Industry_Name|  TRBC_Activity_Name|TRBC_Economic_Sector_Code|TRBC_Business_Sector_Code|TRBC_Industry_Group_Code|TRBC_Industry_Code|TRBC_Activity_Code|\n",
      "+-----------+----+-------+-----+--------------+--------------+---------------+----------------+------------+-----------+-------------------+-------------------------+-------------------------+------------------------+-------------------+--------------------+-------------------------+-------------------------+------------------------+------------------+------------------+\n",
      "|    RHMG.DE|2019|      1|    1|         86.11|         84.59|          85.05|           -0.46|   3590790.0|    RHMG.DE|     Rheinmetall AG|              Industrials|         Industrial Goods|     Aerospace & Defense|Aerospace & Defense|Aerospace & Defen...|                       52|                     5210|                  521010|          52101010|        5210101010|\n",
      "|    RHMG.DE|2019|      1|    2|         93.21|         92.55|          92.59|           -0.04|   2747327.0|    RHMG.DE|     Rheinmetall AG|              Industrials|         Industrial Goods|     Aerospace & Defense|Aerospace & Defense|Aerospace & Defen...|                       52|                     5210|                  521010|          52101010|        5210101010|\n",
      "|    RHMG.DE|2019|      1|    3|         99.47|         98.44|           98.3|            0.15|   4070560.0|    RHMG.DE|     Rheinmetall AG|              Industrials|         Industrial Goods|     Aerospace & Defense|Aerospace & Defense|Aerospace & Defen...|                       52|                     5210|                  521010|          52101010|        5210101010|\n",
      "|    RHMG.DE|2019|      2|    4|         99.88|         98.66|          99.27|           -0.61|   2251489.0|    RHMG.DE|     Rheinmetall AG|              Industrials|         Industrial Goods|     Aerospace & Defense|Aerospace & Defense|Aerospace & Defen...|                       52|                     5210|                  521010|          52101010|        5210101010|\n",
      "|    RHMG.DE|2019|      2|    5|        101.35|        100.31|         100.06|            0.26|   2997348.0|    RHMG.DE|     Rheinmetall AG|              Industrials|         Industrial Goods|     Aerospace & Defense|Aerospace & Defense|Aerospace & Defen...|                       52|                     5210|                  521010|          52101010|        5210101010|\n",
      "|    RHMG.DE|2019|      2|    6|        104.44|        102.67|         103.69|           -1.02|   3019344.0|    RHMG.DE|     Rheinmetall AG|              Industrials|         Industrial Goods|     Aerospace & Defense|Aerospace & Defense|Aerospace & Defen...|                       52|                     5210|                  521010|          52101010|        5210101010|\n",
      "|    RHMG.DE|2019|      3|    7|        105.99|        104.81|         104.97|           -0.16|   3228746.0|    RHMG.DE|     Rheinmetall AG|              Industrials|         Industrial Goods|     Aerospace & Defense|Aerospace & Defense|Aerospace & Defen...|                       52|                     5210|                  521010|          52101010|        5210101010|\n",
      "|    RHMG.DE|2019|      3|    8|        106.82|         105.1|         105.46|           -0.36|   2674924.0|    RHMG.DE|     Rheinmetall AG|              Industrials|         Industrial Goods|     Aerospace & Defense|Aerospace & Defense|Aerospace & Defen...|                       52|                     5210|                  521010|          52101010|        5210101010|\n",
      "|    RHMG.DE|2019|      3|    9|        115.95|         114.4|         114.98|           -0.58|   2286421.0|    RHMG.DE|     Rheinmetall AG|              Industrials|         Industrial Goods|     Aerospace & Defense|Aerospace & Defense|Aerospace & Defen...|                       52|                     5210|                  521010|          52101010|        5210101010|\n",
      "|    RHMG.DE|2019|      4|   10|        111.46|        110.26|         110.06|             0.2|   3010878.0|    RHMG.DE|     Rheinmetall AG|              Industrials|         Industrial Goods|     Aerospace & Defense|Aerospace & Defense|Aerospace & Defen...|                       52|                     5210|                  521010|          52101010|        5210101010|\n",
      "+-----------+----+-------+-----+--------------+--------------+---------------+----------------+------------+-----------+-------------------+-------------------------+-------------------------+------------------------+-------------------+--------------------+-------------------------+-------------------------+------------------------+------------------+------------------+\n",
      "only showing top 10 rows\n",
      "\n"
     ]
    }
   ],
   "source": [
    "data_test = data_stocks_transformed.filter(col('Instrument0')=='RHMG.DE').sort(['Year','Quarter', 'Month'], ascending=[True, True, True])\n",
    "data_test.show(10)"
   ]
  },
  {
   "cell_type": "code",
   "execution_count": 56,
   "id": "a9a2276c-4da3-4238-8b89-f17a451e1dee",
   "metadata": {},
   "outputs": [
    {
     "data": {
      "text/plain": [
       "[('Instrument', 'string'),\n",
       " ('Year', 'int'),\n",
       " ('Quarter', 'int'),\n",
       " ('Month', 'int'),\n",
       " ('Avg_Price_Open', 'double'),\n",
       " ('Avg_Price_Close', 'double'),\n",
       " ('Avg_Price_High', 'double'),\n",
       " ('Avg_Daily_Return', 'double'),\n",
       " ('Total_Volume', 'int')]"
      ]
     },
     "execution_count": 56,
     "metadata": {},
     "output_type": "execute_result"
    }
   ],
   "source": [
    "# some datatype transformation may have been lost. reconfigure the dataframe accordingly and define a model set with only the required features \n",
    "data_test_modelSet = data_test.select(\"Instrument0\", \"Year\", \"Quarter\",\\\n",
    "\"Month\", \"Avg_Price_Open\", \"Avg_Price_Close\", \"Avg_Price_High\", \"Avg_Daily_Return\", \"Total_Volume\")\n",
    "\n",
    "data_test_modelSet = data_test_modelSet.select(\n",
    "    col(\"Instrument0\").cast(StringType()).alias(\"Instrument\"),\n",
    "    col(\"Year\").cast(IntegerType()).alias(\"Year\"),\n",
    "    col(\"Quarter\").cast(IntegerType()).alias(\"Quarter\"),\n",
    "    col(\"Month\").cast(IntegerType()).alias(\"Month\"),\n",
    "    col(\"Avg_Price_Open\").cast(DoubleType()).alias(\"Avg_Price_Open\"),\n",
    "    col(\"Avg_Price_Close\").cast(DoubleType()).alias(\"Avg_Price_Close\"),\n",
    "    col(\"Avg_Price_High\").cast(DoubleType()).alias(\"Avg_Price_High\"),\n",
    "    col(\"Avg_Daily_Return\").cast(DoubleType()).alias(\"Avg_Daily_Return\"),\n",
    "    col(\"Total_Volume\").cast(IntegerType()).alias(\"Total_Volume\")\n",
    "    \n",
    ")\n",
    "\n",
    "data_test_modelSet.dtypes"
   ]
  },
  {
   "cell_type": "code",
   "execution_count": 64,
   "id": "14691ab3-8fef-434e-a8b3-98c505e12628",
   "metadata": {},
   "outputs": [],
   "source": [
    "data_test_indexed = indexer.fit(data_test_modelSet).transform(data_test_modelSet)\n",
    "data_test_assembled = vector_assembler.transform(data_test_indexed)\n"
   ]
  },
  {
   "cell_type": "code",
   "execution_count": 66,
   "id": "94314dc9-8d19-4db9-ad9c-66c9b879b53b",
   "metadata": {},
   "outputs": [
    {
     "name": "stdout",
     "output_type": "stream",
     "text": [
      "+----------+----+-------+-----+--------------+---------------+--------------+----------------+------------+------------------+--------------------+--------------------+\n",
      "|Instrument|Year|Quarter|Month|Avg_Price_Open|Avg_Price_Close|Avg_Price_High|Avg_Daily_Return|Total_Volume|Instrument_Encoded|     feature_vectors|     scaled_features|\n",
      "+----------+----+-------+-----+--------------+---------------+--------------+----------------+------------+------------------+--------------------+--------------------+\n",
      "|   RHMG.DE|2019|      1|    1|         84.59|          85.05|         86.11|           -0.46|     3590790|               0.0|[85.05,84.59,3590...|[0.12169108815757...|\n",
      "|   RHMG.DE|2019|      1|    2|         92.55|          92.59|         93.21|           -0.04|     2747327|               0.0|[92.59,92.55,2747...|[0.15791496516934...|\n",
      "|   RHMG.DE|2019|      1|    3|         98.44|           98.3|         99.47|            0.15|     4070560|               0.0|[98.3,98.44,40705...|[0.18534710545279...|\n",
      "|   RHMG.DE|2019|      2|    4|         98.66|          99.27|         99.88|           -0.61|     2251489|               0.0|[99.27,98.66,2251...|[0.19000720634158...|\n",
      "|   RHMG.DE|2019|      2|    5|        100.31|         100.06|        101.35|            0.26|     2997348|               0.0|[100.06,100.31,29...|[0.19380254624069...|\n",
      "+----------+----+-------+-----+--------------+---------------+--------------+----------------+------------+------------------+--------------------+--------------------+\n",
      "only showing top 5 rows\n",
      "\n"
     ]
    }
   ],
   "source": [
    "\n",
    "from pyspark.ml.feature import MinMaxScaler\n",
    "# Standardize the features into a proper range with the standard scaler \n",
    "scaler2 = MinMaxScaler(inputCol=\"feature_vectors\", outputCol=\"scaled_features\")\n",
    "scaler_model2 = scaler2.fit(data_test_assembled)\n",
    "data_test_featureScaled = scaler_model2.transform(data_test_assembled)\n",
    "data_test_featureScaled.show(5)"
   ]
  },
  {
   "cell_type": "code",
   "execution_count": 67,
   "id": "5c0c0e5d-476e-4232-b9ac-1d05b8a2b2bf",
   "metadata": {},
   "outputs": [],
   "source": [
    "# Define the sequence length\n",
    "from pyspark.sql.window import Window\n",
    "\n",
    "# we define a sequence length of 12 - for every month in a year \n",
    "sequence_length = 12\n",
    "\n",
    "# Use Window function to create sequences\n",
    "window_spec = Window.partitionBy(\"Instrument_Encoded\").orderBy(\"Year\", \"Month\")\n",
    "for i in range(1, sequence_length + 1):\n",
    "    lag_col = \"lag_{}\".format(i)\n",
    "    data_test_featureScaled = data_test_featureScaled.withColumn(lag_col, lag(data_test_featureScaled[\"scaled_features\"], i).over(window_spec))"
   ]
  },
  {
   "cell_type": "code",
   "execution_count": 68,
   "id": "6211cef1-c1a3-475f-a6a1-be1d32a7fc79",
   "metadata": {},
   "outputs": [
    {
     "name": "stdout",
     "output_type": "stream",
     "text": [
      "+----------+----+-------+-----+--------------+---------------+--------------+----------------+------------+------------------+--------------------+--------------------+--------------------+--------------------+--------------------+--------------------+-----+-----+-----+-----+-----+------+------+------+\n",
      "|Instrument|Year|Quarter|Month|Avg_Price_Open|Avg_Price_Close|Avg_Price_High|Avg_Daily_Return|Total_Volume|Instrument_Encoded|     feature_vectors|     scaled_features|               lag_1|               lag_2|               lag_3|               lag_4|lag_5|lag_6|lag_7|lag_8|lag_9|lag_10|lag_11|lag_12|\n",
      "+----------+----+-------+-----+--------------+---------------+--------------+----------------+------------+------------------+--------------------+--------------------+--------------------+--------------------+--------------------+--------------------+-----+-----+-----+-----+-----+------+------+------+\n",
      "|   RHMG.DE|2019|      1|    1|         84.59|          85.05|         86.11|           -0.46|     3590790|               0.0|[85.05,84.59,3590...|[0.12169108815757...|                null|                null|                null|                null| null| null| null| null| null|  null|  null|  null|\n",
      "|   RHMG.DE|2019|      1|    2|         92.55|          92.59|         93.21|           -0.04|     2747327|               0.0|[92.59,92.55,2747...|[0.15791496516934...|[0.12169108815757...|                null|                null|                null| null| null| null| null| null|  null|  null|  null|\n",
      "|   RHMG.DE|2019|      1|    3|         98.44|           98.3|         99.47|            0.15|     4070560|               0.0|[98.3,98.44,40705...|[0.18534710545279...|[0.15791496516934...|[0.12169108815757...|                null|                null| null| null| null| null| null|  null|  null|  null|\n",
      "|   RHMG.DE|2019|      2|    4|         98.66|          99.27|         99.88|           -0.61|     2251489|               0.0|[99.27,98.66,2251...|[0.19000720634158...|[0.18534710545279...|[0.15791496516934...|[0.12169108815757...|                null| null| null| null| null| null|  null|  null|  null|\n",
      "|   RHMG.DE|2019|      2|    5|        100.31|         100.06|        101.35|            0.26|     2997348|               0.0|[100.06,100.31,29...|[0.19380254624069...|[0.19000720634158...|[0.18534710545279...|[0.15791496516934...|[0.12169108815757...| null| null| null| null| null|  null|  null|  null|\n",
      "+----------+----+-------+-----+--------------+---------------+--------------+----------------+------------+------------------+--------------------+--------------------+--------------------+--------------------+--------------------+--------------------+-----+-----+-----+-----+-----+------+------+------+\n",
      "only showing top 5 rows\n",
      "\n"
     ]
    }
   ],
   "source": [
    "data_test_featureScaled.show(5)"
   ]
  },
  {
   "cell_type": "code",
   "execution_count": 70,
   "id": "dcf352be-881a-4ba7-bf73-79a111f0c39e",
   "metadata": {},
   "outputs": [
    {
     "name": "stdout",
     "output_type": "stream",
     "text": [
      "+----------+----+-------+-----+--------------+---------------+--------------+----------------+------------+------------------+--------------------+--------------------+--------------------+--------------------+--------------------+--------------------+--------------------+--------------------+--------------------+--------------------+--------------------+--------------------+--------------------+--------------------+\n",
      "|Instrument|Year|Quarter|Month|Avg_Price_Open|Avg_Price_Close|Avg_Price_High|Avg_Daily_Return|Total_Volume|Instrument_Encoded|     feature_vectors|     scaled_features|               lag_1|               lag_2|               lag_3|               lag_4|               lag_5|               lag_6|               lag_7|               lag_8|               lag_9|              lag_10|              lag_11|              lag_12|\n",
      "+----------+----+-------+-----+--------------+---------------+--------------+----------------+------------+------------------+--------------------+--------------------+--------------------+--------------------+--------------------+--------------------+--------------------+--------------------+--------------------+--------------------+--------------------+--------------------+--------------------+--------------------+\n",
      "|   RHMG.DE|2020|      1|    1|         103.3|         102.97|        104.07|            0.33|     2185891|               0.0|[102.97,103.3,218...|[0.20778284890703...|[0.19082392505404...|[0.20687004564016...|[0.24184482344463...|[0.26548162382896...|[0.21974537593081...|[0.21739130434782...|[0.21124189286572...|[0.19380254624069...|[0.19000720634158...|[0.18534710545279...|[0.15791496516934...|[0.12169108815757...|\n",
      "|   RHMG.DE|2020|      1|    2|         95.08|          94.61|         96.03|            0.48|     2810193|               0.0|[94.61,95.08,2810...|[0.16761950516454...|[0.20778284890703...|[0.19082392505404...|[0.20687004564016...|[0.24184482344463...|[0.26548162382896...|[0.21974537593081...|[0.21739130434782...|[0.21124189286572...|[0.19380254624069...|[0.19000720634158...|[0.18534710545279...|[0.15791496516934...|\n",
      "|   RHMG.DE|2020|      1|    3|         66.76|          65.29|         68.27|            1.47|     8068996|               0.0|[65.29,66.76,8068...|[0.02675954840259...|[0.16761950516454...|[0.20778284890703...|[0.19082392505404...|[0.20687004564016...|[0.24184482344463...|[0.26548162382896...|[0.21974537593081...|[0.21739130434782...|[0.21124189286572...|[0.19380254624069...|[0.19000720634158...|[0.18534710545279...|\n",
      "|   RHMG.DE|2020|      2|    4|         60.52|          59.72|         61.63|             0.8|     5822574|               0.0|[59.72,60.52,5822...|[0.0,0.0,0.397186...|[0.02675954840259...|[0.16761950516454...|[0.20778284890703...|[0.19082392505404...|[0.20687004564016...|[0.24184482344463...|[0.26548162382896...|[0.21974537593081...|[0.21739130434782...|[0.21124189286572...|[0.19380254624069...|[0.19000720634158...|\n",
      "|   RHMG.DE|2020|      2|    5|         66.51|          66.81|         67.96|            -0.3|     5919583|               0.0|[66.81,66.51,5919...|[0.03406197453759...|[0.0,0.0,0.397186...|[0.02675954840259...|[0.16761950516454...|[0.20778284890703...|[0.19082392505404...|[0.20687004564016...|[0.24184482344463...|[0.26548162382896...|[0.21974537593081...|[0.21739130434782...|[0.21124189286572...|[0.19380254624069...|\n",
      "|   RHMG.DE|2020|      2|    6|         76.69|          76.77|         78.35|           -0.08|     4368805|               0.0|[76.77,76.69,4368...|[0.08191208263271...|[0.03406197453759...|[0.0,0.0,0.397186...|[0.02675954840259...|[0.16761950516454...|[0.20778284890703...|[0.19082392505404...|[0.20687004564016...|[0.24184482344463...|[0.26548162382896...|[0.21974537593081...|[0.21739130434782...|[0.21124189286572...|\n",
      "|   RHMG.DE|2020|      3|    7|         80.88|          80.86|         82.26|            0.02|     3518299|               0.0|[80.86,80.88,3518...|[0.10156137400912...|[0.08191208263271...|[0.03406197453759...|[0.0,0.0,0.397186...|[0.02675954840259...|[0.16761950516454...|[0.20778284890703...|[0.19082392505404...|[0.20687004564016...|[0.24184482344463...|[0.26548162382896...|[0.21974537593081...|[0.21739130434782...|\n",
      "|   RHMG.DE|2020|      3|    8|         79.92|          79.46|         80.86|            0.45|     2879823|               0.0|[79.46,79.92,2879...|[0.09483545520057...|[0.10156137400912...|[0.08191208263271...|[0.03406197453759...|[0.0,0.0,0.397186...|[0.02675954840259...|[0.16761950516454...|[0.20778284890703...|[0.19082392505404...|[0.20687004564016...|[0.24184482344463...|[0.26548162382896...|[0.21974537593081...|\n",
      "|   RHMG.DE|2020|      3|    9|         77.88|          77.74|         78.81|            0.14|     2673890|               0.0|[77.74,77.88,2673...|[0.08657218352149...|[0.09483545520057...|[0.10156137400912...|[0.08191208263271...|[0.03406197453759...|[0.0,0.0,0.397186...|[0.02675954840259...|[0.16761950516454...|[0.20778284890703...|[0.19082392505404...|[0.20687004564016...|[0.24184482344463...|[0.26548162382896...|\n",
      "|   RHMG.DE|2020|      4|   10|         73.51|          72.97|         74.32|            0.54|     3441553|               0.0|[72.97,73.51,3441...|[0.06365601729521...|[0.08657218352149...|[0.09483545520057...|[0.10156137400912...|[0.08191208263271...|[0.03406197453759...|[0.0,0.0,0.397186...|[0.02675954840259...|[0.16761950516454...|[0.20778284890703...|[0.19082392505404...|[0.20687004564016...|[0.24184482344463...|\n",
      "|   RHMG.DE|2020|      4|   11|          73.7|          73.83|         75.29|           -0.13|     5339891|               0.0|[73.83,73.7,53398...|[0.06778765313475...|[0.06365601729521...|[0.08657218352149...|[0.09483545520057...|[0.10156137400912...|[0.08191208263271...|[0.03406197453759...|[0.0,0.0,0.397186...|[0.02675954840259...|[0.16761950516454...|[0.20778284890703...|[0.19082392505404...|[0.20687004564016...|\n",
      "|   RHMG.DE|2020|      4|   12|         81.72|          82.11|         82.79|           -0.39|     3625476|               0.0|[82.11,81.72,3625...|[0.10756665865962...|[0.06778765313475...|[0.06365601729521...|[0.08657218352149...|[0.09483545520057...|[0.10156137400912...|[0.08191208263271...|[0.03406197453759...|[0.0,0.0,0.397186...|[0.02675954840259...|[0.16761950516454...|[0.20778284890703...|[0.19082392505404...|\n",
      "|   RHMG.DE|2021|      1|    1|         88.87|          88.76|         89.79|            0.12|     2635296|               0.0|[88.76,88.87,2635...|[0.13951477300024...|[0.10756665865962...|[0.06778765313475...|[0.06365601729521...|[0.08657218352149...|[0.09483545520057...|[0.10156137400912...|[0.08191208263271...|[0.03406197453759...|[0.0,0.0,0.397186...|[0.02675954840259...|[0.16761950516454...|[0.20778284890703...|\n",
      "|   RHMG.DE|2021|      1|    2|         86.36|          85.82|         87.06|            0.54|     3297884|               0.0|[85.82,86.36,3297...|[0.12539034350228...|[0.13951477300024...|[0.10756665865962...|[0.06778765313475...|[0.06365601729521...|[0.08657218352149...|[0.09483545520057...|[0.10156137400912...|[0.08191208263271...|[0.03406197453759...|[0.0,0.0,0.397186...|[0.02675954840259...|[0.16761950516454...|\n",
      "|   RHMG.DE|2021|      1|    3|         85.51|          85.49|         86.49|            0.01|     3726694|               0.0|[85.49,85.51,3726...|[0.12380494835455...|[0.12539034350228...|[0.13951477300024...|[0.10756665865962...|[0.06778765313475...|[0.06365601729521...|[0.08657218352149...|[0.09483545520057...|[0.10156137400912...|[0.08191208263271...|[0.03406197453759...|[0.0,0.0,0.397186...|[0.02675954840259...|\n",
      "|   RHMG.DE|2021|      2|    4|          88.1|          87.87|         89.12|            0.23|     3732876|               0.0|[87.87,88.1,37328...|[0.13523901032908...|[0.12380494835455...|[0.12539034350228...|[0.13951477300024...|[0.10756665865962...|[0.06778765313475...|[0.06365601729521...|[0.08657218352149...|[0.09483545520057...|[0.10156137400912...|[0.08191208263271...|[0.03406197453759...|[0.0,0.0,0.397186...|\n",
      "|   RHMG.DE|2021|      2|    5|         85.66|          85.37|          86.4|            0.29|     2959876|               0.0|[85.37,85.66,2959...|[0.12322844102810...|[0.13523901032908...|[0.12380494835455...|[0.12539034350228...|[0.13951477300024...|[0.10756665865962...|[0.06778765313475...|[0.06365601729521...|[0.08657218352149...|[0.09483545520057...|[0.10156137400912...|[0.08191208263271...|[0.03406197453759...|\n",
      "|   RHMG.DE|2021|      2|    6|         85.25|          85.02|         85.92|            0.23|     2511812|               0.0|[85.02,85.25,2511...|[0.12154696132596...|[0.12322844102810...|[0.13523901032908...|[0.12380494835455...|[0.12539034350228...|[0.13951477300024...|[0.10756665865962...|[0.06778765313475...|[0.06365601729521...|[0.08657218352149...|[0.09483545520057...|[0.10156137400912...|[0.08191208263271...|\n",
      "|   RHMG.DE|2021|      3|    7|         81.17|          80.89|         81.78|            0.27|     2841043|               0.0|[80.89,81.17,2841...|[0.10170550084073...|[0.12154696132596...|[0.12322844102810...|[0.13523901032908...|[0.12380494835455...|[0.12539034350228...|[0.13951477300024...|[0.10756665865962...|[0.06778765313475...|[0.06365601729521...|[0.08657218352149...|[0.09483545520057...|[0.10156137400912...|\n",
      "|   RHMG.DE|2021|      3|    8|         82.97|          82.99|         83.67|           -0.02|     2569177|               0.0|[82.99,82.97,2569...|[0.11179437905356...|[0.10170550084073...|[0.12154696132596...|[0.12322844102810...|[0.13523901032908...|[0.12380494835455...|[0.12539034350228...|[0.13951477300024...|[0.10756665865962...|[0.06778765313475...|[0.06365601729521...|[0.08657218352149...|[0.09483545520057...|\n",
      "+----------+----+-------+-----+--------------+---------------+--------------+----------------+------------+------------------+--------------------+--------------------+--------------------+--------------------+--------------------+--------------------+--------------------+--------------------+--------------------+--------------------+--------------------+--------------------+--------------------+--------------------+\n",
      "only showing top 20 rows\n",
      "\n"
     ]
    }
   ],
   "source": [
    "data_test_featureScaled = data_test_featureScaled.dropna()\n",
    "data_test_featureScaled.show(20)"
   ]
  },
  {
   "cell_type": "code",
   "execution_count": 71,
   "id": "bee286bd-08ab-4c87-bf6a-cfd215b3db77",
   "metadata": {},
   "outputs": [
    {
     "name": "stdout",
     "output_type": "stream",
     "text": [
      "+----------+----+-------+-----+--------------+---------------+--------------+----------------+------------+------------------+--------------------+--------------------+--------------------+--------------------+--------------------+--------------------+--------------------+--------------------+--------------------+--------------------+--------------------+--------------------+--------------------+--------------------+\n",
      "|Instrument|Year|Quarter|Month|Avg_Price_Open|Avg_Price_Close|Avg_Price_High|Avg_Daily_Return|Total_Volume|Instrument_Encoded|     feature_vectors|     scaled_features|               lag_1|               lag_2|               lag_3|               lag_4|               lag_5|               lag_6|               lag_7|               lag_8|               lag_9|              lag_10|              lag_11|              lag_12|\n",
      "+----------+----+-------+-----+--------------+---------------+--------------+----------------+------------+------------------+--------------------+--------------------+--------------------+--------------------+--------------------+--------------------+--------------------+--------------------+--------------------+--------------------+--------------------+--------------------+--------------------+--------------------+\n",
      "|   RHMG.DE|2023|      1|    1|        213.94|         215.11|         218.2|           -1.18|     5423355|               0.0|[215.11,213.94,54...|[0.74652894547201...|[0.63934662503002...|[0.56468892625510...|[0.46399231323564...|[0.45673792937785...|[0.53336536151813...|[0.61835214989190...|[0.72486187845303...|[0.64837857314436...|[0.71698294499159...|[0.51981743934662...|[0.18260869565217...|[0.14710545279846...|\n",
      "|   RHMG.DE|2023|      1|    2|        236.75|         237.28|        239.76|           -0.53|     4988598|               0.0|[237.28,236.75,49...|[0.85303867403314...|[0.74652894547201...|[0.63934662503002...|[0.56468892625510...|[0.46399231323564...|[0.45673792937785...|[0.53336536151813...|[0.61835214989190...|[0.72486187845303...|[0.64837857314436...|[0.71698294499159...|[0.51981743934662...|[0.18260869565217...|\n",
      "|   RHMG.DE|2023|      1|    3|        256.73|         256.73|        260.25|           -0.01|     7719037|               0.0|[256.73,256.73,77...|[0.94648090319481...|[0.85303867403314...|[0.74652894547201...|[0.63934662503002...|[0.56468892625510...|[0.46399231323564...|[0.45673792937785...|[0.53336536151813...|[0.61835214989190...|[0.72486187845303...|[0.64837857314436...|[0.71698294499159...|[0.51981743934662...|\n",
      "|   RHMG.DE|2023|      2|    4|        269.08|         267.87|        272.47|            1.21|     4937450|               0.0|[267.87,269.08,49...|[0.99999999999999...|[0.94648090319481...|[0.85303867403314...|[0.74652894547201...|[0.63934662503002...|[0.56468892625510...|[0.46399231323564...|[0.45673792937785...|[0.53336536151813...|[0.61835214989190...|[0.72486187845303...|[0.64837857314436...|[0.71698294499159...|\n",
      "|   RHMG.DE|2023|      2|    5|        259.68|         258.56|         262.0|            1.12|     4756441|               0.0|[258.56,259.68,47...|[0.95527263992313...|[0.99999999999999...|[0.94648090319481...|[0.85303867403314...|[0.74652894547201...|[0.63934662503002...|[0.56468892625510...|[0.46399231323564...|[0.45673792937785...|[0.53336536151813...|[0.61835214989190...|[0.72486187845303...|[0.64837857314436...|\n",
      "|   RHMG.DE|2023|      2|    6|        247.38|         247.33|        249.98|            0.05|     4225074|               0.0|[247.33,247.38,42...|[0.90132116262310...|[0.95527263992313...|[0.99999999999999...|[0.94648090319481...|[0.85303867403314...|[0.74652894547201...|[0.63934662503002...|[0.56468892625510...|[0.46399231323564...|[0.45673792937785...|[0.53336536151813...|[0.61835214989190...|[0.72486187845303...|\n",
      "|   RHMG.DE|2023|      3|    7|        252.17|         252.58|        254.78|           -0.41|     3262361|               0.0|[252.58,252.17,32...|[0.92654335815517...|[0.90132116262310...|[0.95527263992313...|[0.99999999999999...|[0.94648090319481...|[0.85303867403314...|[0.74652894547201...|[0.63934662503002...|[0.56468892625510...|[0.46399231323564...|[0.45673792937785...|[0.53336536151813...|[0.61835214989190...|\n",
      "|   RHMG.DE|2023|      3|    8|        256.02|         255.76|        258.46|            0.26|     4042841|               0.0|[255.76,256.02,40...|[0.94182080230602...|[0.92654335815517...|[0.90132116262310...|[0.95527263992313...|[0.99999999999999...|[0.94648090319481...|[0.85303867403314...|[0.74652894547201...|[0.63934662503002...|[0.56468892625510...|[0.46399231323564...|[0.45673792937785...|[0.53336536151813...|\n",
      "|   RHMG.DE|2023|      3|    9|        248.91|         249.07|         251.2|           -0.16|     1050420|               0.0|[249.07,248.91,10...|[0.90968051885659...|[0.94182080230602...|[0.92654335815517...|[0.90132116262310...|[0.95527263992313...|[0.99999999999999...|[0.94648090319481...|[0.85303867403314...|[0.74652894547201...|[0.63934662503002...|[0.56468892625510...|[0.46399231323564...|[0.45673792937785...|\n",
      "+----------+----+-------+-----+--------------+---------------+--------------+----------------+------------+------------------+--------------------+--------------------+--------------------+--------------------+--------------------+--------------------+--------------------+--------------------+--------------------+--------------------+--------------------+--------------------+--------------------+--------------------+\n",
      "\n"
     ]
    }
   ],
   "source": [
    "data_2023 = data_test_featureScaled.filter(col('Year')==2023)\n",
    "data_2023.show()"
   ]
  },
  {
   "cell_type": "code",
   "execution_count": 73,
   "id": "3985a80d-88f2-41fd-999b-e46d5f2cd80c",
   "metadata": {},
   "outputs": [],
   "source": [
    "X_val = np.array(data_2023.select([\"lag_{}\".format(i) for i in range(1, sequence_length + 1)]).collect())\n",
    "y_val = np.array(data_2023.select(\"Avg_Price_High\").collect())"
   ]
  },
  {
   "cell_type": "code",
   "execution_count": 74,
   "id": "b14d2f76-1ab6-40a4-b475-8d3bbcb3d2d1",
   "metadata": {},
   "outputs": [
    {
     "data": {
      "text/plain": [
       "array([[218.2 ],\n",
       "       [239.76],\n",
       "       [260.25],\n",
       "       [272.47],\n",
       "       [262.  ],\n",
       "       [249.98],\n",
       "       [254.78],\n",
       "       [258.46],\n",
       "       [251.2 ]])"
      ]
     },
     "execution_count": 74,
     "metadata": {},
     "output_type": "execute_result"
    }
   ],
   "source": [
    "y_val"
   ]
  },
  {
   "cell_type": "code",
   "execution_count": 77,
   "id": "e9c8aa58-0f15-4b3e-973f-b65f76e6c396",
   "metadata": {},
   "outputs": [
    {
     "name": "stdout",
     "output_type": "stream",
     "text": [
      "1/1 [==============================] - 0s 40ms/step\n"
     ]
    }
   ],
   "source": [
    "# predict on the test set \n",
    "test_predictions_val = model.predict(X_val)"
   ]
  },
  {
   "cell_type": "code",
   "execution_count": 78,
   "id": "4d607341-80c3-46a8-bb2b-a78a18cfd9cc",
   "metadata": {},
   "outputs": [
    {
     "data": {
      "text/plain": [
       "array([[251.55057],\n",
       "       [281.42215],\n",
       "       [314.2144 ],\n",
       "       [344.35538],\n",
       "       [359.63196],\n",
       "       [356.16415],\n",
       "       [344.2815 ],\n",
       "       [341.6735 ],\n",
       "       [346.65247]], dtype=float32)"
      ]
     },
     "execution_count": 78,
     "metadata": {},
     "output_type": "execute_result"
    }
   ],
   "source": [
    "test_predictions_val"
   ]
  },
  {
   "cell_type": "code",
   "execution_count": null,
   "id": "d0e48c5f-7175-4418-a160-2d3e0a547db1",
   "metadata": {},
   "outputs": [],
   "source": []
  }
 ],
 "metadata": {
  "kernelspec": {
   "display_name": "Python 3 (ipykernel)",
   "language": "python",
   "name": "python3"
  },
  "language_info": {
   "codemirror_mode": {
    "name": "ipython",
    "version": 3
   },
   "file_extension": ".py",
   "mimetype": "text/x-python",
   "name": "python",
   "nbconvert_exporter": "python",
   "pygments_lexer": "ipython3",
   "version": "3.10.0"
  }
 },
 "nbformat": 4,
 "nbformat_minor": 5
}
